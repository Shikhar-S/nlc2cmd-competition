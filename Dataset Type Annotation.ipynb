{
 "cells": [
  {
   "cell_type": "code",
   "execution_count": 1,
   "metadata": {},
   "outputs": [
    {
     "name": "stderr",
     "output_type": "stream",
     "text": [
      "WARNING: Token 'COND_ERROR' defined, but not used\n",
      "WARNING: There is 1 unused token\n"
     ]
    },
    {
     "name": "stdout",
     "output_type": "stream",
     "text": [
      "Bashlint grammar set up (124 utilities)\n",
      "\n"
     ]
    },
    {
     "name": "stderr",
     "output_type": "stream",
     "text": [
      "/home/greenmon/.pyenv/versions/3.7.2/lib/python3.7/site-packages/pandas/compat/__init__.py:117: UserWarning: Could not import the lzma module. Your installed Python is incomplete. Attempting to use lzma compression will result in a RuntimeError.\n",
      "  warnings.warn(msg)\n"
     ]
    }
   ],
   "source": [
    "from __future__ import absolute_import\n",
    "from __future__ import division\n",
    "from __future__ import print_function\n",
    "from nl2bash.eval import eval_tools, error_analysis\n",
    "from nl2bash.encoder_decoder.seq2seq.seq2seq_model import Seq2SeqModel\n",
    "from nl2bash.encoder_decoder import slot_filling\n",
    "from nl2bash.encoder_decoder import parse_args\n",
    "from nl2bash.encoder_decoder import meta_experiments\n",
    "from nl2bash.encoder_decoder import graph_utils\n",
    "from nl2bash.encoder_decoder import decode_tools\n",
    "from nl2bash.encoder_decoder import data_utils\n",
    "import tensorflow as tf\n",
    "from tqdm import tqdm\n",
    "import time\n",
    "import pickle\n",
    "import numpy as np\n",
    "import math\n",
    "\n",
    "\n",
    "import os\n",
    "import sys"
   ]
  },
  {
   "cell_type": "code",
   "execution_count": 21,
   "metadata": {},
   "outputs": [],
   "source": [
    "import collections\n",
    "import functools\n",
    "import os\n",
    "import pickle\n",
    "import sys\n",
    "\n",
    "import numpy as np\n",
    "import scipy.sparse as ssp\n",
    "import tensorflow as tf\n",
    "\n",
    "if sys.version_info > (3, 0):\n",
    "    from six.moves import xrange\n",
    "\n",
    "from nl2bash.bashlint import bash, nast, data_tools\n",
    "from nl2bash.nlp_tools import constants, tokenizer"
   ]
  },
  {
   "cell_type": "code",
   "execution_count": 2,
   "metadata": {},
   "outputs": [],
   "source": [
    "\n",
    "FLAGS = tf.compat.v1.flags.FLAGS\n",
    "parse_args.define_input_flags()"
   ]
  },
  {
   "cell_type": "code",
   "execution_count": 10,
   "metadata": {},
   "outputs": [
    {
     "name": "stdout",
     "output_type": "stream",
     "text": [
      "Reading data from /home/greenmon/Projects/nlc2cmd/clai/submission-code/src/submission_code/nlc2cmd/nl2bash/data/bash\n"
     ]
    }
   ],
   "source": [
    "FLAGS.data_dir = os.path.join(\n",
    "    os.path.dirname('/home/greenmon/Projects/nlc2cmd/clai/submission-code/src/submission_code/nlc2cmd/nl2bash/'), \"data\", FLAGS.dataset)\n",
    "\n",
    "print(\"Reading data from {}\".format(FLAGS.data_dir))"
   ]
  },
  {
   "cell_type": "code",
   "execution_count": 11,
   "metadata": {},
   "outputs": [],
   "source": [
    "# set up encoder/decider dropout rate\n",
    "if FLAGS.universal_keep >= 0 and FLAGS.universal_keep < 1:\n",
    "    FLAGS.sc_input_keep = FLAGS.universal_keep\n",
    "    FLAGS.sc_output_keep = FLAGS.universal_keep\n",
    "    FLAGS.tg_input_keep = FLAGS.universal_keep\n",
    "    FLAGS.tg_output_keep = FLAGS.universal_keep\n",
    "    FLAGS.attention_input_keep = FLAGS.universal_keep\n",
    "    FLAGS.attention_output_keep = FLAGS.universal_keep"
   ]
  },
  {
   "cell_type": "markdown",
   "metadata": {},
   "source": [
    "## Loading Data"
   ]
  },
  {
   "cell_type": "code",
   "execution_count": 12,
   "metadata": {},
   "outputs": [
    {
     "name": "stdout",
     "output_type": "stream",
     "text": [
      "Loading data from /home/greenmon/Projects/nlc2cmd/clai/submission-code/src/submission_code/nlc2cmd/nl2bash/data/bash\n",
      "source vocabulary size = 1489\n",
      "target vocabulary size = 1109\n",
      "max source token size = 27\n",
      "max target token size = 55\n",
      "source file: /home/greenmon/Projects/nlc2cmd/clai/submission-code/src/submission_code/nlc2cmd/nl2bash/data/bash/train.nl.filtered\n",
      "target file: /home/greenmon/Projects/nlc2cmd/clai/submission-code/src/submission_code/nlc2cmd/nl2bash/data/bash/train.cm.filtered\n",
      "source tokenized sequence file: /home/greenmon/Projects/nlc2cmd/clai/submission-code/src/submission_code/nlc2cmd/nl2bash/data/bash/train.nl.token\n",
      "target tokenized sequence file: /home/greenmon/Projects/nlc2cmd/clai/submission-code/src/submission_code/nlc2cmd/nl2bash/data/bash/train.cm.token\n",
      "9985 data points read.\n",
      "max_source_length = 44\n",
      "max_target_length = 64\n",
      "source vocabulary size = 1489\n",
      "target vocabulary size = 1109\n",
      "max source token size = 27\n",
      "max target token size = 55\n",
      "source file: /home/greenmon/Projects/nlc2cmd/clai/submission-code/src/submission_code/nlc2cmd/nl2bash/data/bash/dev.nl.filtered\n",
      "target file: /home/greenmon/Projects/nlc2cmd/clai/submission-code/src/submission_code/nlc2cmd/nl2bash/data/bash/dev.cm.filtered\n",
      "source tokenized sequence file: /home/greenmon/Projects/nlc2cmd/clai/submission-code/src/submission_code/nlc2cmd/nl2bash/data/bash/dev.nl.token\n",
      "target tokenized sequence file: /home/greenmon/Projects/nlc2cmd/clai/submission-code/src/submission_code/nlc2cmd/nl2bash/data/bash/dev.cm.token\n",
      "782 data points read.\n",
      "max_source_length = 38\n",
      "max_target_length = 31\n",
      "source vocabulary size = 1489\n",
      "target vocabulary size = 1109\n",
      "max source token size = 27\n",
      "max target token size = 55\n",
      "source file: /home/greenmon/Projects/nlc2cmd/clai/submission-code/src/submission_code/nlc2cmd/nl2bash/data/bash/test.nl.filtered\n",
      "target file: /home/greenmon/Projects/nlc2cmd/clai/submission-code/src/submission_code/nlc2cmd/nl2bash/data/bash/test.cm.filtered\n",
      "source tokenized sequence file: /home/greenmon/Projects/nlc2cmd/clai/submission-code/src/submission_code/nlc2cmd/nl2bash/data/bash/test.nl.token\n",
      "target tokenized sequence file: /home/greenmon/Projects/nlc2cmd/clai/submission-code/src/submission_code/nlc2cmd/nl2bash/data/bash/test.cm.token\n",
      "779 data points read.\n",
      "max_source_length = 39\n",
      "max_target_length = 36\n"
     ]
    }
   ],
   "source": [
    "train_set, dev_set, test_set = data_utils.load_data(\n",
    "    FLAGS, use_buckets=False, load_features=True)"
   ]
  },
  {
   "cell_type": "markdown",
   "metadata": {},
   "source": [
    "## Preparing Data"
   ]
  },
  {
   "cell_type": "code",
   "execution_count": 14,
   "metadata": {},
   "outputs": [],
   "source": [
    "def read_parallel_data(nl_path, cm_path):\n",
    "    with open(nl_path, encoding='utf-8') as f:\n",
    "        nl_list = [nl.strip() for nl in f.readlines()]\n",
    "    with open(cm_path, encoding='utf-8') as f:\n",
    "        cm_list = [cm.strip() for cm in f.readlines()]\n",
    "    return nl_list, cm_list"
   ]
  },
  {
   "cell_type": "code",
   "execution_count": 17,
   "metadata": {},
   "outputs": [
    {
     "name": "stdout",
     "output_type": "stream",
     "text": [
      "Split - dev\n"
     ]
    }
   ],
   "source": [
    "split = 'dev'\n",
    "data_dir = FLAGS.data_dir\n",
    "\n",
    "print(\"Split - {}\".format(split))\n",
    "nl_path = os.path.join(data_dir, split + '.nl.filtered')\n",
    "cm_path = os.path.join(data_dir, split + '.cm.filtered')\n",
    "nl_list, cm_list = read_parallel_data(nl_path, cm_path)"
   ]
  },
  {
   "cell_type": "code",
   "execution_count": 20,
   "metadata": {},
   "outputs": [
    {
     "name": "stdout",
     "output_type": "stream",
     "text": [
      "['Adds execution permissions on a script ./etc/bash_completion within Homebrew home folder path.', 'Add prefix like number and \"^M${LOGFILE}> \" to every non-blank line received on standard input', 'all .jpg or .png images modified in the past week']\n",
      "['chmod +x $(brew --prefix)/etc/bash_completion', 'nl -s\"^M${LOGFILE}>  \"', \"find . -mtime -7 \\\\( '*.jpg' -o -name '*.png' \\\\)\"]\n"
     ]
    }
   ],
   "source": [
    "nl_path = os.path.join(data_dir, split + '.nl.filtered')\n",
    "cm_path = os.path.join(data_dir, split + '.cm.filtered')\n",
    "nl_list, cm_list = read_parallel_data(nl_path, cm_path)\n",
    "print(nl_list[:3])\n",
    "print(cm_list[:3])"
   ]
  },
  {
   "cell_type": "code",
   "execution_count": 26,
   "metadata": {},
   "outputs": [],
   "source": [
    "def parallel_data_to_tokens(nl_list, cm_list):\n",
    "    nl_data = [nl_to_tokens(nl, tokenizer.basic_tokenizer) for nl in nl_list]\n",
    "    cm_data = [cm_to_tokens(cm, data_tools.bash_tokenizer) for cm in cm_list]\n",
    "    return nl_data, cm_data\n",
    "\n",
    "def nl_to_tokens(s, tokenizer, to_lower_case=True, lemmatization=True):\n",
    "    \"\"\"\n",
    "    Split a natural language string into a sequence of tokens.\n",
    "    \"\"\"\n",
    "    tokens, _ = tokenizer(\n",
    "        s, to_lower_case=to_lower_case, lemmatization=lemmatization)\n",
    "    return tokens\n",
    "\n",
    "def cm_to_tokens(s, tokenizer, loose_constraints=True, arg_type_only=False,\n",
    "                 with_prefix=False, with_flag_argtype=True):\n",
    "    \"\"\"\n",
    "    Split a command string into a sequence of tokens.\n",
    "    \"\"\"\n",
    "    tokens = tokenizer(s, loose_constraints=loose_constraints,\n",
    "                       arg_type_only=arg_type_only,\n",
    "                       with_prefix=with_prefix,\n",
    "                       with_flag_argtype=with_flag_argtype)\n",
    "    return tokens\n"
   ]
  },
  {
   "cell_type": "code",
   "execution_count": 27,
   "metadata": {},
   "outputs": [],
   "source": [
    "def prepare_channel(data_dir, nl_list, cm_list, split, channel,\n",
    "                    parallel_data_to_tokens):\n",
    "    print(\"    channel - {}\".format(channel))\n",
    "    # Tokenize data\n",
    "    nl_tokens, cm_tokens = \\\n",
    "        parallel_data_to_tokens(nl_list, cm_list)\n",
    "    \n",
    "    print(cm_tokens)\n",
    "    \n",
    "    save_channel_features_to_file(data_dir, split, channel, nl_tokens, cm_tokens,\n",
    "                                  feature_separator=TOKEN_SEPARATOR)\n",
    "    # Create or load vocabulary\n",
    "    nl_vocab_path = os.path.join(data_dir, 'nl.vocab.{}'.format(channel))\n",
    "    cm_vocab_path = os.path.join(data_dir, 'cm.vocab.{}'.format(channel))\n",
    "    nl_vocab = create_vocabulary(nl_vocab_path, nl_tokens) \\\n",
    "        if split == 'train' else initialize_vocabulary(nl_vocab_path)[0]\n",
    "    cm_vocab = create_vocabulary(cm_vocab_path, cm_tokens) \\\n",
    "        if split == 'train' else initialize_vocabulary(cm_vocab_path)\n",
    "    nl_ids = [tokens_to_ids(data_point, nl_vocab) for data_point in nl_tokens]\n",
    "    cm_ids = [tokens_to_ids(data_point, cm_vocab) for data_point in cm_tokens]\n",
    "    save_channel_features_to_file(data_dir, split, 'ids.{}'.format(channel),\n",
    "                                  nl_ids, cm_ids, feature_separator=' ')\n",
    "\n",
    "    \n",
    "    alignments = compute_alignments(\n",
    "        data_dir, nl_tokens, cm_tokens, split, channel)\n",
    "    with open(os.path.join(data_dir, '{}.{}.align'.format(split, channel)),\n",
    "              'wb') as o_f:\n",
    "        pickle.dump(alignments, o_f)"
   ]
  },
  {
   "cell_type": "markdown",
   "metadata": {},
   "source": [
    "### To change:\n",
    "    - result of bash tokenizer (to annotate types)\n",
    "        - ast2token (dataset construction) vs. ast2command (when decoding)\n",
    "    - vocabulary\n"
   ]
  },
  {
   "cell_type": "code",
   "execution_count": 28,
   "metadata": {},
   "outputs": [
    {
     "name": "stdout",
     "output_type": "stream",
     "text": [
      "    channel - token\n",
      "[[], ['nl', '-s<FLAG_SUFFIX>Regex', '\"^M${LOGFILE}>  \"'], ['find', '.', '-mtime<FLAG_SUFFIX>Timespan', '-7', '\\\\(', \"'*.jpg'\", '-or', '-name<FLAG_SUFFIX>Regex', \"'*.png'\", '\\\\)'], ['yes', '|', 'cp', '*', '/tmp'], [], [], ['rsync', '-a<FLAG_SUFFIX>', '-v<FLAG_SUFFIX>', '-z<FLAG_SUFFIX>', '-r<FLAG_SUFFIX>', '-u<FLAG_SUFFIX>', '--delete-excluded<FLAG_SUFFIX>', '/media/Incoming/music/', 'server:/media/10001/music/'], ['rsync', '-a<FLAG_SUFFIX>', '-v<FLAG_SUFFIX>', '-z<FLAG_SUFFIX>', '--ignore-existing<FLAG_SUFFIX>', '/source', 'folder/*', 'user@remoteserver:/dstfolder/'], [], [], ['rsync', '-a<FLAG_SUFFIX>', '-u<FLAG_SUFFIX>', '-v<FLAG_SUFFIX>', '-e<FLAG_SUFFIX>', '\"ssh -p 2222\"', '.', 'me@localhost:/some/path'], ['rsync', '-a<FLAG_SUFFIX>', '-v<FLAG_SUFFIX>', '.', 'server2::sharename/B'], [], ['find', '~/tmp', '-mtime<FLAG_SUFFIX>Timespan', '0', '-exec<FLAG_SUFFIX>UTILITY', 'du', '-k<FLAG_SUFFIX>', '-s<FLAG_SUFFIX>', '{}', '\\\\;', '|', 'cut', '-f<FLAG_SUFFIX>Number', '1'], ['md5sum', '/etc/localtime', '|', 'cut', '-d<FLAG_SUFFIX>Regex', \"' '\", '-f<FLAG_SUFFIX>Number', '1'], [], ['ls', '-a<FLAG_SUFFIX>', '-l<FLAG_SUFFIX>', '-R<FLAG_SUFFIX>', '-I<FLAG_SUFFIX>', 'dev', '-I<FLAG_SUFFIX>', 'run', '-I<FLAG_SUFFIX>', 'sys', '-I<FLAG_SUFFIX>', 'tmp', '-I<FLAG_SUFFIX>', 'proc', '/path', '|', 'md5sum', '-c<FLAG_SUFFIX>', '/tmp/file'], ['echo', '-n<FLAG_SUFFIX>', \"'exampleString'\", '|', 'md5sum'], ['md5sum', '\"$ecriv\"'], [], [], [], [], [], ['cd', '$(', 'grep', 'DOWNLOAD', '$HOME/.config/user-dirs.dirs', '|', 'cut', '-f<FLAG_SUFFIX>Number', '2', '-d<FLAG_SUFFIX>Regex', '\"=\"', '|', 'tr', '\"\\\\\"\"', '\"\\\\n\"', '|', 'tr', '-d<FLAG_SUFFIX>', '\"\\\\n\"', ')'], ['cd', '$(', 'grep', 'DOWNLOAD', '$HOME/.config/user-dirs.dirs', '|', 'cut', '-f<FLAG_SUFFIX>Number', '2', '-d<FLAG_SUFFIX>Regex', '\"=\"', '|', 'tr', '\"\\\\\"\"', '\"\\\\n\"', ')'], ['cd', '$(', '~/marker.sh', ')'], ['find', '/', '-user<FLAG_SUFFIX>Regex', 'edwarda', '-exec<FLAG_SUFFIX>UTILITY', 'chgrp', 'pubs', '{}', '\\\\;'], ['chgrp', 'gpio', '/sys/class/gpio/export', '/sys/class/gpio/unexport'], ['chown', 'root:root', 'testfile.txt'], ['chown', 'root', 'file.sh'], ['chown', 'root:wheel', 'adbind.bash'], ['find', '.', '-user<FLAG_SUFFIX>Regex', 'aluno1', '-exec<FLAG_SUFFIX>UTILITY', 'chown', 'aluno2', '{}', '\\\\;'], ['find', '/var/www/', '-type<FLAG_SUFFIX>Type', 'f', '-iname<FLAG_SUFFIX>Regex', '\"*.php\"', '-exec<FLAG_SUFFIX>UTILITY', 'chmod', '700', '{}', '\\\\;'], ['bzip2', '-t<FLAG_SUFFIX>', 'file.bz2'], ['od', '-t<FLAG_SUFFIX>Type', 'x2', '-N<FLAG_SUFFIX>', '1000', '$file', '|', 'cut', '-c<FLAG_SUFFIX>Number', '8-', '|', 'grep', '-E<FLAG_SUFFIX>', '-m<FLAG_SUFFIX>Quantity', '1', '-q<FLAG_SUFFIX>', \"' 0d| 0d|0d$'\"], [], ['mount', '|', 'grep', '-q<FLAG_SUFFIX>', '~/mnt/sdc1'], ['mount', '|', 'grep', '$(', 'readlink', '-f<FLAG_SUFFIX>', '/dev/disk/by-uuid/$UUID', ')'], [], [], [], ['comm', '-2<FLAG_SUFFIX>', '-3<FLAG_SUFFIX>', '<(', 'ls', ')', '<(', 'ls', '*Music*', ')'], ['gzip', 'archive.tar'], ['find', 'PATH_TO_FOLDER', '-maxdepth<FLAG_SUFFIX>Quantity', '1', '-type<FLAG_SUFFIX>Type', 'f', '-exec<FLAG_SUFFIX>UTILITY', 'bzip2', '-z<FLAG_SUFFIX>', '-k<FLAG_SUFFIX>', '{}', '\\\\;'], ['gzip', '-k<FLAG_SUFFIX>', '*cache.html'], ['head', '-n<FLAG_SUFFIX>Quantity', '99999999', 'file1.txt', 'file2.txt', 'file3.txt'], ['paste', '-s<FLAG_SUFFIX>', '-d<FLAG_SUFFIX>Regex', \"' \\\\n'\", 'input.txt'], [], [], [], ['$(', 'echo', '$var1', '|', 'tr', \"'[A-Z]'\", \"'[a-z]'\", ')'], [], ['rsync', '-p<FLAG_SUFFIX>', '-r<FLAG_SUFFIX>', './export', '/path/to/webroot'], ['rsync', '-a<FLAG_SUFFIX>', '--relative<FLAG_SUFFIX>', '/new/x/y/z/', 'user@remote:/pre_existing/dir/'], ['rsync', '-R<FLAG_SUFFIX>', '-v<FLAG_SUFFIX>', 'src/prog.js', 'images/icon.jpg', '/tmp/package/'], ['cp', 'lib*.so', '~/usr/gtest/lib'], [], [], [], [], ['find', '.', '-name<FLAG_SUFFIX>Regex', '\"*.c\"', '-print0<FLAG_SUFFIX>', '|', 'xargs', '-0<FLAG_SUFFIX>', '-I<FLAG_SUFFIX>ReservedWord', '{}', 'cat', '{}', '|', 'wc', '-l<FLAG_SUFFIX>'], ['find', '\"$DIR_TO_CLEAN\"', '-mtime<FLAG_SUFFIX>Timespan', '+$DAYS_TO_SAVE', '|', 'wc', '-l<FLAG_SUFFIX>'], ['cat', \"'filename'\", '|', 'grep', \"'[^ ]'\", '|', 'wc', '-l<FLAG_SUFFIX>'], [], ['find', '.', '-name<FLAG_SUFFIX>Regex', \"'*.php'\", '|', 'wc', '-l<FLAG_SUFFIX>'], ['diff', '-U<FLAG_SUFFIX>Quantity', '0', 'file1', 'file2', '|', 'grep', '^@', '|', 'wc', '-l<FLAG_SUFFIX>'], ['comm', '-1<FLAG_SUFFIX>', '-2<FLAG_SUFFIX>', '<(', 'sort', 'file1.txt', ')', '<(', 'sort', 'file2.txt', ')', '|', 'wc', '-l<FLAG_SUFFIX>'], ['find', '.', '-name<FLAG_SUFFIX>Regex', 'file1', '|', 'wc', '-l<FLAG_SUFFIX>'], ['zcat', '*R1*.fastq.gz', '|', 'wc', '-l<FLAG_SUFFIX>'], ['find', './randfiles/', '-type<FLAG_SUFFIX>Type', 'f', '|', 'wc', '-l<FLAG_SUFFIX>'], ['find', 'teste2', '-type<FLAG_SUFFIX>Type', 'f', '-iname<FLAG_SUFFIX>Regex', '\"$srchfor\"', '|', 'wc', '-l<FLAG_SUFFIX>'], [], [], [], ['tar', '-z<FLAG_SUFFIX>', '-c<FLAG_SUFFIX>', '-v<FLAG_SUFFIX>', '-f<FLAG_SUFFIX>', 'compressFileName.tar.gz', 'folderToCompress'], ['tar', '-c<FLAG_SUFFIX>', '-v<FLAG_SUFFIX>', '-z<FLAG_SUFFIX>', '-f<FLAG_SUFFIX>', 'filename.tar.gz', 'folder'], ['tar', '-c<FLAG_SUFFIX>', '-z<FLAG_SUFFIX>', '-f<FLAG_SUFFIX>', '-', 'www', '|', 'split', '-b<FLAG_SUFFIX>Size', '1073741824', '-', 'www-backup.tar.'], ['tar', '-N', \"'2014-02-01 18:00:00'\", '-j<FLAG_SUFFIX>', '-c<FLAG_SUFFIX>', '-v<FLAG_SUFFIX>', '-f<FLAG_SUFFIX>', 'archive.tar.bz2', 'files'], ['ssh-keygen', '-f<FLAG_SUFFIX>File', '~/.ssh/apache-rsync'], ['ssh-keygen', '-t<FLAG_SUFFIX>Type', 'rsa'], ['cat', 'results2.txt', '|', 'xargs', '-I<FLAG_SUFFIX>Regex', '{}', 'ln', '-s<FLAG_SUFFIX>', '{}', '~/newlinks'], ['ln', '-s<FLAG_SUFFIX>', '--', './local--pdf-kundendienst', '-pdf-kundendienst'], ['ln', '-s<FLAG_SUFFIX>', '-F<FLAG_SUFFIX>', '/usr/share/my-editor/my-editor-executable', '/usr/bin/my-editor'], ['ln', '-s<FLAG_SUFFIX>', 'newtarget', 'temp'], ['ln', '$file', '/tmp/allfiles'], ['ln', '-s<FLAG_SUFFIX>', '\"$dir\"', '\"$1/link\"'], ['mkdir', '-p<FLAG_SUFFIX>', '$tempWork'], ['mkdir', 'aaa/bbb'], ['mkdir', 'dir2'], ['find', '/path/with/files', '-type<FLAG_SUFFIX>Type', 'f', '-name<FLAG_SUFFIX>Regex', '\"*txt*\"', '-exec<FLAG_SUFFIX>UTILITY', 'ln', '-s<FLAG_SUFFIX>', '{}', '.', '\\\\;'], ['mktemp', '-d<FLAG_SUFFIX>', '--tmpdir<FLAG_SUFFIX>Directory', '/tmp'], ['mktemp', '-p<FLAG_SUFFIX>Directory', '.'], ['mktemp', '\"${TMPDIR:-/tmp/}$(basename \"$0\")-XXXXX\"'], ['mktemp', '/tmp/banana.XXXXXXXXXXXXXXXXXXXXXXX.mp3'], ['pwd', 'mktemp', '-d<FLAG_SUFFIX>'], [], ['find', '/path/to/files*', '-mtime<FLAG_SUFFIX>Timespan', '+2', '-delete<FLAG_SUFFIX>'], ['find', '.', '-name<FLAG_SUFFIX>Regex', '\"*.$1\"', '-delete<FLAG_SUFFIX>'], ['find', '.', '-inum<FLAG_SUFFIX>Quantity', '$inum', '-exec<FLAG_SUFFIX>UTILITY', 'rm', '{}', '\\\\;'], ['find', '.', '-name<FLAG_SUFFIX>Regex', 'heapdump*', '-exec<FLAG_SUFFIX>UTILITY', 'rm', '{}', '\\\\ ', '\\\\;'], ['find', '.', '-name<FLAG_SUFFIX>Regex', 'heapdump*', '|', 'xargs', '-I<FLAG_SUFFIX>ReservedWord', '{}', 'rm', '{}'], ['find', '.', '-name<FLAG_SUFFIX>Regex', '\"core\"', '-exec<FLAG_SUFFIX>UTILITY', 'rm', '-f<FLAG_SUFFIX>', '{}', '\\\\;'], ['find', '.', '-maxdepth<FLAG_SUFFIX>Quantity', '1', '-type<FLAG_SUFFIX>Type', 'f', '-delete<FLAG_SUFFIX>'], ['find', '/', '-type<FLAG_SUFFIX>Type', 'f', '-name<FLAG_SUFFIX>Regex', '\"*.txt\"', '-print<FLAG_SUFFIX>', '|', 'xargs', '-I<FLAG_SUFFIX>ReservedWord', '{}', 'rm', '{}'], ['find', '$DBA/$ORACLE_SID/bdump/*.trc', '-mtime<FLAG_SUFFIX>Timespan', '+7', '-exec<FLAG_SUFFIX>UTILITY', 'rm', '{}', '\\\\;'], ['find', '/dirpath', '\\\\(', '-name<FLAG_SUFFIX>Regex', '\\\\*.trc', '-and', '-mtime<FLAG_SUFFIX>Timespan', '+30', '\\\\)', '-exec<FLAG_SUFFIX>UTILITY', 'rm', '{}', '\\\\;'], ['crontab', 'yourFile.text'], ['find', '/var/tmp/stuff1', '-mtime<FLAG_SUFFIX>Timespan', '+90', '-delete<FLAG_SUFFIX>'], ['column', '-s<FLAG_SUFFIX>Regex', ':', '-t<FLAG_SUFFIX>'], ['od', '-t<FLAG_SUFFIX>Type', 'fD'], ['find', '.', '-size<FLAG_SUFFIX>Size', '+10k', '-exec<FLAG_SUFFIX>UTILITY', 'ls', '-l<FLAG_SUFFIX>', '-h<FLAG_SUFFIX>', '{}', '+'], ['find', '/', '-size<FLAG_SUFFIX>Size', '+1000k', '-exec<FLAG_SUFFIX>UTILITY', 'ls', '-l<FLAG_SUFFIX>', '{}', '\\\\;', '-print<FLAG_SUFFIX>'], ['find', '.', '-type<FLAG_SUFFIX>Type', 'f', '-name<FLAG_SUFFIX>Regex', \"'*.java'\", '-ls<FLAG_SUFFIX>', '|', 'sort', '-k<FLAG_SUFFIX>Number', '+7', '-r<FLAG_SUFFIX>'], ['find', '.', '-size<FLAG_SUFFIX>Size', '+1000k', '-name<FLAG_SUFFIX>Regex', '*.log', '-print0<FLAG_SUFFIX>', '|', 'xargs', '-0<FLAG_SUFFIX>', '-I<FLAG_SUFFIX>ReservedWord', '{}', 'ls', '-l<FLAG_SUFFIX>', '-S<FLAG_SUFFIX>', '-h<FLAG_SUFFIX>', '{}'], ['find', '/home/david', '-atime<FLAG_SUFFIX>Timespan', '-2', '-name<FLAG_SUFFIX>Regex', \"'*.c'\"], ['find', '.', '-size<FLAG_SUFFIX>Size', '0', '-printf<FLAG_SUFFIX>Format', \"'%M %n %u %g %s %Tb\\\\n \\\\b%Td %Tk:%TM %p\\\\n'\"], ['find', '/home', '!', '-group<FLAG_SUFFIX>Regex', 'test', '-printf<FLAG_SUFFIX>Format', '\"%p:%g\\\\n\"'], ['find', '.', '-maxdepth<FLAG_SUFFIX>Quantity', '1', '-type<FLAG_SUFFIX>Type', 'f', '|', 'xargs', '-I<FLAG_SUFFIX>ReservedWord', '{}', 'mv', '{}', '/directory1/directory2'], ['find', '.', '-maxdepth<FLAG_SUFFIX>Quantity', '1', '-type<FLAG_SUFFIX>Type', 'd', '\\\\(', '!', '-name<FLAG_SUFFIX>Regex', '.', '\\\\)'], ['find', '.', '!', '-name<FLAG_SUFFIX>Regex', '\"*.txt\"'], ['find', '.', '|', 'xargs', '-I<FLAG_SUFFIX>ReservedWord', '{}', 'grep', '-P<FLAG_SUFFIX>', '-L<FLAG_SUFFIX>', '\"\\\\x00\"', '{}', '|', 'xargs', '-I<FLAG_SUFFIX>ReservedWord', '{}', 'grep', '-P<FLAG_SUFFIX>', '-l<FLAG_SUFFIX>', '\"\\\\x0c\"', '{}'], ['find', '.', '-path<FLAG_SUFFIX>Regex', \"'./kt[0-9] '\"], ['find', '.', '-name<FLAG_SUFFIX>Regex', 'met*'], ['find', '/', '-fstype<FLAG_SUFFIX>Type', 'nfs', '-print<FLAG_SUFFIX>'], ['find', '/etc', '/srv', '\\\\(', '-path<FLAG_SUFFIX>Regex', '/srv/tftp/pxelinux.cfg', '-or', '-path<FLAG_SUFFIX>Regex', '/etc/mtab', '\\\\)', '-prune', '-or', '-print<FLAG_SUFFIX>'], ['find', '/home', '!', '-group<FLAG_SUFFIX>Regex', 'test'], ['find', '/home', '-not', '-group<FLAG_SUFFIX>Regex', 'test'], ['find', '/home', '-perm<FLAG_SUFFIX>Permission', '/u=s'], ['find', '/usr/', '-path<FLAG_SUFFIX>Regex', '\"*local*\"'], ['find', '.', '-printf<FLAG_SUFFIX>Format', \"'%p '\"], ['find', '.', '-type<FLAG_SUFFIX>Type', 'f', '-newermt<FLAG_SUFFIX>Regex', '\"2014-01-01\"', '!', '-newermt<FLAG_SUFFIX>Regex', '\"2014-06-01\"'], [], ['find', '.', '-type<FLAG_SUFFIX>Type', 'f', '-newer<FLAG_SUFFIX>File', 'file.log'], ['find', '.', '-mtime<FLAG_SUFFIX>Timespan', '0', '-type<FLAG_SUFFIX>Type', 'f'], ['find', '${FOLDER}', '-type<FLAG_SUFFIX>Type', 'f', '!', '-name<FLAG_SUFFIX>Regex', '\\\\\".*\\\\\"', '-mtime<FLAG_SUFFIX>Timespan', '-${RETENTION}'], ['find', '\"$ORIG_DIR\"', '-name<FLAG_SUFFIX>Regex', '\"*\"', '-type<FLAG_SUFFIX>Type', 'f'], ['find', 'image-folder/', '-type<FLAG_SUFFIX>Type', 'f'], ['find', '.', '\\\\(', '-name<FLAG_SUFFIX>Regex', '\"*.txt\"', '-or', '-name<FLAG_SUFFIX>Regex', '\"*.pdf\"', '\\\\)'], [], [], [], [], [], ['uname', '-s<FLAG_SUFFIX>', '-r<FLAG_SUFFIX>', '-v<FLAG_SUFFIX>', '-m<FLAG_SUFFIX>'], ['diff', '-N<FLAG_SUFFIX>', '-a<FLAG_SUFFIX>', '-u<FLAG_SUFFIX>Quantity', 'r', 'dir1/', 'dir2/'], ['find', '.', '-name<FLAG_SUFFIX>Regex', \"'*.pdf'\", '-or', '-name<FLAG_SUFFIX>Regex', \"'*.PDF'\"], ['du', '-s<FLAG_SUFFIX>', '-b<FLAG_SUFFIX>', '/data/sflow_log', '|', 'cut', '-f<FLAG_SUFFIX>Number', '1'], ['find', '.', '-size<FLAG_SUFFIX>Size', '+10k', '-ls<FLAG_SUFFIX>'], [], ['find', '/home/', '-type<FLAG_SUFFIX>Type', 'f', '-size<FLAG_SUFFIX>Size', '+512k', '-exec<FLAG_SUFFIX>UTILITY', 'ls', '-l<FLAG_SUFFIX>', '-h<FLAG_SUFFIX>', '{}', '\\\\;'], ['find', '/home/', '-type<FLAG_SUFFIX>Type', 'f', '-size<FLAG_SUFFIX>Size', '6579c', '-exec<FLAG_SUFFIX>UTILITY', 'ls', '{}', '\\\\;'], [], ['find', '.', '-name<FLAG_SUFFIX>Regex', '\"*.c\"', '-exec<FLAG_SUFFIX>UTILITY', 'wc', '-l<FLAG_SUFFIX>', '{}', '\\\\;'], ['find', '.', '-name<FLAG_SUFFIX>Regex', '\"*.c\"', '-print<FLAG_SUFFIX>', '|', 'xargs', '-I<FLAG_SUFFIX>ReservedWord', '{}', 'wc', '-l<FLAG_SUFFIX>', '{}'], ['find', '.', '-name<FLAG_SUFFIX>Regex', '\"*.c\"', '-print0<FLAG_SUFFIX>', '|', 'xargs', '-0<FLAG_SUFFIX>', '-I<FLAG_SUFFIX>ReservedWord', '{}', 'wc', '-l<FLAG_SUFFIX>', '{}'], ['find', '.', '-exec<FLAG_SUFFIX>UTILITY', 'wc', '-l<FLAG_SUFFIX>', '{}', '\\\\;'], ['find', '.', '-name<FLAG_SUFFIX>Regex', \"'*'\", '|', 'xargs', '-I<FLAG_SUFFIX>ReservedWord', '{}', 'wc', '-l<FLAG_SUFFIX>', '{}'], ['tree', '-p<FLAG_SUFFIX>', '-u<FLAG_SUFFIX>', '-g<FLAG_SUFFIX>', '-f<FLAG_SUFFIX>'], ['find', '.', '-name<FLAG_SUFFIX>Regex', '*.undo', '-print0<FLAG_SUFFIX>', '|', 'du', '-h<FLAG_SUFFIX>', '-c<FLAG_SUFFIX>', '--files0-from<FLAG_SUFFIX>File', '-'], ['du', '-s<FLAG_SUFFIX>', '-b<FLAG_SUFFIX>'], [], ['curl', 'http://127.0.0.1:8000', '-o', 'index.html'], ['curl', 'https://www.npmjs.com/install.sh', '|', 'sh'], ['od', '-t<FLAG_SUFFIX>Type', 'x1', '-t<FLAG_SUFFIX>Type', 'a', '/dev/ttySomething'], [], [], [], ['shopt', '-s<FLAG_SUFFIX>', 'cdable_vars'], ['ping', '-n<FLAG_SUFFIX>', '1', '%ip%', '|', 'find', '\"TTL\"'], ['find', '.', '-type<FLAG_SUFFIX>Type', 'd', '-name<FLAG_SUFFIX>Regex', 'proc', '-prune', '-or', '-name<FLAG_SUFFIX>Regex', \"'*.js'\"], [], [], ['watch', '-n<FLAG_SUFFIX>Quantity', '300', 'du', '-s<FLAG_SUFFIX>', 'path'], [], [], [], ['tee', '-a<FLAG_SUFFIX>', 'test.out'], [], ['tar', '-x<FLAG_SUFFIX>', '-v<FLAG_SUFFIX>', '-f<FLAG_SUFFIX>File', 'J', 'filename.tar.xz'], [], ['echo', '\"$USERTAB\"', '|', 'grep', '-v<FLAG_SUFFIX>', '-E<FLAG_SUFFIX>', \"'^#|^$|no crontab for|cannot use this program'\"], ['bind', '-p<FLAG_SUFFIX>', '|', 'grep', '-a<FLAG_SUFFIX>', 'forward'], ['find', '$HOME', '-name<FLAG_SUFFIX>Regex', \"'*.c'\", '-print<FLAG_SUFFIX>', '|', 'xargs', '-I<FLAG_SUFFIX>ReservedWord', '{}', 'grep', '-l<FLAG_SUFFIX>', 'sprintf', '{}'], ['find', '.', '-path<FLAG_SUFFIX>Regex', \"'*/lang/en.css'\", '-prune', '-or', '-name<FLAG_SUFFIX>Regex', \"'*.css'\", '-print<FLAG_SUFFIX>'], ['find', '.', '-name<FLAG_SUFFIX>Regex', \"'*.scm'\"], ['diff', '-r<FLAG_SUFFIX>', '-q<FLAG_SUFFIX>', '-x<FLAG_SUFFIX>', '\"*.a\"', '-x<FLAG_SUFFIX>Regex', '\"*.o\"', '-x<FLAG_SUFFIX>Regex', '\"*.d\"', './PATH1', './PATH2', '|', 'grep', '\"\\\\.cpp \"', '|', 'grep', '\"^Files\"'], ['find', '/data', '-type<FLAG_SUFFIX>Type', 'f', '-perm<FLAG_SUFFIX>Permission', '400', '-print<FLAG_SUFFIX>', '-quit'], ['find', '.', '-mtime<FLAG_SUFFIX>Timespan', '+7', '-name<FLAG_SUFFIX>Regex', '\"G*.html\"'], ['find', '/', '-iname<FLAG_SUFFIX>Regex', 'passwd'], ['find', '$parentdir', '-name<FLAG_SUFFIX>Regex', '$tofind*'], ['find', '/usr/src', '-name<FLAG_SUFFIX>Regex', \"'*.c'\", '-size<FLAG_SUFFIX>Size', '+100k', '-print<FLAG_SUFFIX>'], ['find', '.', '-name<FLAG_SUFFIX>Regex', \"'*.cgi'\", '-print0<FLAG_SUFFIX>', '|', 'xargs', '-0<FLAG_SUFFIX>', '-I<FLAG_SUFFIX>ReservedWord', '{}', 'chmod', '775', '{}'], [], ['find', '/', '-name<FLAG_SUFFIX>Regex', '\"*.conf\"'], [], ['find', '.', '-name<FLAG_SUFFIX>Regex', \"'*.log'\", '-mtime<FLAG_SUFFIX>Timespan', '-2', '-exec<FLAG_SUFFIX>UTILITY', 'grep', '-H<FLAG_SUFFIX>', '-c<FLAG_SUFFIX>', 'Exception', '{}', '\\\\;', '|', 'grep', '-v<FLAG_SUFFIX>', ':0$'], [], ['find', '.', '-name<FLAG_SUFFIX>Regex', \"'*.rb'\"], ['find', '.', '-name<FLAG_SUFFIX>Regex', '*.rb'], ['find', '.', '-name<FLAG_SUFFIX>Regex', '\\\\*.rb'], [], [], [], [], [], [], [], ['find', '.', '-maxdepth<FLAG_SUFFIX>Quantity', '2', '-name<FLAG_SUFFIX>Regex', \"'*.tex'\"], [], [], ['find', '.', '-maxdepth<FLAG_SUFFIX>Quantity', '1', '-type<FLAG_SUFFIX>Type', 'f', '-name<FLAG_SUFFIX>Regex', \"'*.txt'\", '-not', '-name<FLAG_SUFFIX>Regex', 'File.txt'], ['find', '.', '-maxdepth<FLAG_SUFFIX>Quantity', '1', '-type<FLAG_SUFFIX>Type', 'f', '-regex<FLAG_SUFFIX>Regex', \"'.*\\\\.txt'\", '-not', '-name<FLAG_SUFFIX>Regex', 'File.txt'], ['find', '/root/of/where/files/are', '-name<FLAG_SUFFIX>Regex', '*Company*'], ['find', '.', '-iname<FLAG_SUFFIX>Regex', '\".*\"', '!', '-iname<FLAG_SUFFIX>Regex', \"'list_files'\"], ['find', '.', '-iname<FLAG_SUFFIX>Regex', '\"*.bak\"', '-type<FLAG_SUFFIX>Type', 'f', '-print<FLAG_SUFFIX>', '|', 'xargs', '-I<FLAG_SUFFIX>ReservedWord', '{}', 'rm', '-f<FLAG_SUFFIX>', '{}'], ['find', '/var/www', '-name<FLAG_SUFFIX>Regex', '*.gif', '-or', '-name<FLAG_SUFFIX>Regex', '*.jpg'], [], ['find', '.', '-type<FLAG_SUFFIX>Type', 'f', '-user<FLAG_SUFFIX>Regex', 'tommye', '-iname<FLAG_SUFFIX>Regex', '\"*.zip\"'], ['find', '/path/to/check/*', '-maxdepth<FLAG_SUFFIX>Quantity', '0', '-type<FLAG_SUFFIX>Type', 'f'], ['find', '/data', '-type<FLAG_SUFFIX>Type', 'f', '-perm<FLAG_SUFFIX>Permission', '400', '-print0<FLAG_SUFFIX>'], ['find', '.', '-perm<FLAG_SUFFIX>Permission', '777'], [], [], [], ['find', '.', '-name<FLAG_SUFFIX>Regex', \"'catalina*'\"], ['find', '$from_dir', '-mindepth<FLAG_SUFFIX>Quantity', '3', '-maxdepth<FLAG_SUFFIX>Quantity', '3', '-type<FLAG_SUFFIX>Type', 'd'], ['find', '.', '-mindepth<FLAG_SUFFIX>Quantity', '1', '-maxdepth<FLAG_SUFFIX>Quantity', '1', '-type<FLAG_SUFFIX>Type', 'd'], [], ['find', '.', '-mmin<FLAG_SUFFIX>Quantity', '-60', '-mmin<FLAG_SUFFIX>Quantity', '+5'], ['find', '/', '-type<FLAG_SUFFIX>Type', 'd', '-name<FLAG_SUFFIX>Regex', \"'man*'\", '-print<FLAG_SUFFIX>'], ['find', '/tmp/test/', '-maxdepth<FLAG_SUFFIX>Quantity', '2', '-mindepth<FLAG_SUFFIX>Quantity', '1', '-type<FLAG_SUFFIX>Type', 'd'], ['find', '/', '-type<FLAG_SUFFIX>Type', 'd', '-perm<FLAG_SUFFIX>Permission', '0777'], ['find', 'YOUR_STARTING_DIRECTORY', '-type<FLAG_SUFFIX>Type', 'd', '-name<FLAG_SUFFIX>Regex', '\"*99966*\"', '-print<FLAG_SUFFIX>'], ['find', '/', '-type<FLAG_SUFFIX>Type', 'd', '-name<FLAG_SUFFIX>Regex', '\"apt\"', '-ls<FLAG_SUFFIX>'], ['find', 'A', '-type<FLAG_SUFFIX>Type', 'd', '\\\\(', '!', '-wholename<FLAG_SUFFIX>Regex', '\"A/a/*\"', '\\\\)'], ['find', '/path/to/base/cache', '/path/to/base/tmp', '/path/to/base/logs', '-type<FLAG_SUFFIX>Type', 'd', '-exec<FLAG_SUFFIX>UTILITY', 'chmod', '755', '{}', '+'], ['find', '\"$GIVEN_DIR\"', '-type<FLAG_SUFFIX>Type', 'd', '-mindepth<FLAG_SUFFIX>Quantity', '1'], [], ['find', '-L<FLAG_SUFFIX>', '/path/to/dir/*', '-printf<FLAG_SUFFIX>Format', '\"%TY%Tm%Td%TH%TM%TS|%p\\\\n\"'], ['find', '.', '-mindepth<FLAG_SUFFIX>Quantity', '1', '-maxdepth<FLAG_SUFFIX>Quantity', '1'], [], ['echo', '\"$queue\"', '|', 'xargs', '-I<FLAG_SUFFIX>Regex', '{}', 'find', '{}', '-mindepth<FLAG_SUFFIX>Quantity', '1', '-maxdepth<FLAG_SUFFIX>Quantity', '1', '$*'], ['find', '.', '-name<FLAG_SUFFIX>Regex', 'file', '-print0<FLAG_SUFFIX>'], ['find', '.', '-name<FLAG_SUFFIX>Regex', 'foo', '-type<FLAG_SUFFIX>Type', 'd', '-prune', '-or', '-name<FLAG_SUFFIX>Regex', 'foo'], ['find', '.', '-name<FLAG_SUFFIX>Regex', '\"orm.properties\"'], ['find', '/var/log/crashes', '-name<FLAG_SUFFIX>Regex', 'app-\\\\*\\\\.log', '-mmin<FLAG_SUFFIX>Quantity', '-5'], ['find', '/dev', '-group<FLAG_SUFFIX>Regex', 'audio'], ['find', '.', '!', '-name<FLAG_SUFFIX>Regex', '\"*photo*\"'], ['find', '/var/log', '-daystart<FLAG_SUFFIX>', '-mtime<FLAG_SUFFIX>Timespan', '0'], ['find', \"'my key phrase'\"], ['find', '/home/feeds/data'], ['find', '/path', '-mtime<FLAG_SUFFIX>Timespan', '+30m'], [], ['find', '_CACHE_*'], ['find', '.', '-print<FLAG_SUFFIX>'], ['find', '.', '-print0<FLAG_SUFFIX>', '|', 'xargs', '-0<FLAG_SUFFIX>'], ['find', '.', '-printf<FLAG_SUFFIX>Format', '\"%i \\\\n\"'], [], [], ['find', '.', '-type<FLAG_SUFFIX>Type', 'f', '-exec<FLAG_SUFFIX>UTILITY', 'chmod', '775', '{}', '\\\\;'], ['find', '.', '-size<FLAG_SUFFIX>Size', '10M'], ['find', '.', '-name<FLAG_SUFFIX>Regex', '\"*pattern*\"'], ['find', '.', '-name<FLAG_SUFFIX>Regex', '\"R*VER\"', '-mtime<FLAG_SUFFIX>Timespan', '+1'], ['find', 'whatever', '...', '|', 'xargs', '-d<FLAG_SUFFIX>Regex', '\"\\\\n\"', '-I<FLAG_SUFFIX>ReservedWord', '{}', 'cp', '-t<FLAG_SUFFIX>Directory', '/var/tmp', '{}'], ['find', '\"$DIR_TEMPORAL\"', '\"$DIR_DESCARGA\"', '-maxdepth<FLAG_SUFFIX>Quantity', '2', '-name<FLAG_SUFFIX>Regex', '\"$nombre\"', '-printf<FLAG_SUFFIX>Format', \"'%f.torrent\\\\n'\"], ['find', './', '-iname<FLAG_SUFFIX>Regex', \"'*.jpg'\", '-type<FLAG_SUFFIX>Type', 'f', '|', 'wc', '-l<FLAG_SUFFIX>'], ['find', './', '-type<FLAG_SUFFIX>Type', 'f', '-regex<FLAG_SUFFIX>Regex', '\".*\\\\.[Jj][Pp][gG]$\"', '|', 'wc', '-l<FLAG_SUFFIX>'], ['find', '/tmp', '-maxdepth<FLAG_SUFFIX>Quantity', '1', '-name<FLAG_SUFFIX>Regex', '\"$USER.*\"'], ['find', '/var/www/html/zip/data/*/*/*/*/*', '-type<FLAG_SUFFIX>Type', 'f', '-mtime<FLAG_SUFFIX>Timespan', '+90'], ['find', '/path', '-type<FLAG_SUFFIX>Type', 'f', '-exec<FLAG_SUFFIX>UTILITY', 'ls', '-l<FLAG_SUFFIX>', '\\\\{\\\\}', '\\\\;'], [], ['find', '.', '-depth<FLAG_SUFFIX>', '-wholename<FLAG_SUFFIX>Regex', '\\\\./\\\\.\\\\*', '-prune', '-or', '-print<FLAG_SUFFIX>', '|', 'cpio', '-o<FLAG_SUFFIX>', '-a<FLAG_SUFFIX>', '-v<FLAG_SUFFIX>'], ['find', '.', '-size<FLAG_SUFFIX>Size', '-10k'], [], ['find', '.', '-cmin<FLAG_SUFFIX>Quantity', '$minutes', '-print<FLAG_SUFFIX>'], ['find', '.', '-atime<FLAG_SUFFIX>Timespan', '+6'], ['find', '.', '-size<FLAG_SUFFIX>Size', '+9M'], ['find', '.', '-size<FLAG_SUFFIX>Size', '1234c'], ['find', '.', '-writable'], ['find', '-E<FLAG_SUFFIX>', '.', '-regex<FLAG_SUFFIX>Regex', '\".*ext1|.*ext2|.*ext3\"'], ['find', '/', '\\\\(', '-name<FLAG_SUFFIX>Regex', \"'*.txt'\", '-or', '-name<FLAG_SUFFIX>Regex', \"'*.doc'\", '-or', '-size<FLAG_SUFFIX>Size', '+5M', '\\\\)'], ['find', '/', '-mount<FLAG_SUFFIX>', '-name<FLAG_SUFFIX>Regex', \"'win*'\"], ['find', '/work', '-user<FLAG_SUFFIX>Regex', 'olivier', '-print<FLAG_SUFFIX>'], ['find', '~', '-size<FLAG_SUFFIX>Size', '100M'], ['find', '$HOME', '-mtime<FLAG_SUFFIX>Timespan', '-2', '-mtime<FLAG_SUFFIX>Timespan', '+1'], ['find', '~', '-newer<FLAG_SUFFIX>File', '/tmp/timestamp'], ['find', '~', '-iname<FLAG_SUFFIX>Regex', \"'*.tex'\"], ['find', '/', '-mtime<FLAG_SUFFIX>Timespan', '-1', '-print<FLAG_SUFFIX>'], ['find', '.', '$(', 'pwd', ')', '-name<FLAG_SUFFIX>Regex', '\"file.ext\"', '-exec<FLAG_SUFFIX>UTILITY', 'dirname', '{}', '\\\\;'], ['find', '/usr/ports/', '-name<FLAG_SUFFIX>Regex', 'Makefile', '-exec<FLAG_SUFFIX>UTILITY', 'grep', \"'^MASTER_SITE.*CPAN'\", '{}', '+', '|', 'wc', '-l<FLAG_SUFFIX>'], ['find', '.', '-maxdepth<FLAG_SUFFIX>Quantity', '1', '-ctime<FLAG_SUFFIX>Timespan', '+1', '-name<FLAG_SUFFIX>Regex', 'file'], ['find', '.', '-newer<FLAG_SUFFIX>File', 'httpd.conf'], ['find', '.', '-mtime<FLAG_SUFFIX>Timespan', '+0', '-mtime<FLAG_SUFFIX>Timespan', '-1'], ['find', '.', '-group<FLAG_SUFFIX>Regex', '10', '-perm<FLAG_SUFFIX>Permission', '-2000', '-print<FLAG_SUFFIX>'], ['find', '.', '-mtime<FLAG_SUFFIX>Timespan', '1'], ['find', '.', '-mtime<FLAG_SUFFIX>Timespan', '7'], ['find', '.', '-type<FLAG_SUFFIX>Type', 'f', '-mtime<FLAG_SUFFIX>Timespan', '-1'], [], ['find', '/home', '-group<FLAG_SUFFIX>Regex', 'developer'], ['find', '/home/username/public_html/sites/default/files', '-type<FLAG_SUFFIX>Type', 'f', '-exec<FLAG_SUFFIX>UTILITY', 'chmod', '660', '{}', '+'], ['find', '/path/to/Dir', '-type<FLAG_SUFFIX>Type', 'f', '-print0<FLAG_SUFFIX>', '|', 'xargs', '-0<FLAG_SUFFIX>', '-I<FLAG_SUFFIX>ReservedWord', '{}', 'chmod', '644', '{}'], ['find', '/path/to/dir', '-type<FLAG_SUFFIX>Type', 'f', '-exec<FLAG_SUFFIX>UTILITY', 'chmod', '644', '{}', '+'], ['find', '/path/to/dir', '-type<FLAG_SUFFIX>Type', 'f', '-mtime<FLAG_SUFFIX>Timespan', '-7', '-print0<FLAG_SUFFIX>', '|', 'xargs', '-0<FLAG_SUFFIX>', '-I<FLAG_SUFFIX>ReservedWord', '{}', 'ls', '-l<FLAG_SUFFIX>', '-t<FLAG_SUFFIX>', '{}', '|', 'head'], [], ['find', '.', '-type<FLAG_SUFFIX>Type', 'f', '-exec<FLAG_SUFFIX>UTILITY', 'grep', '-i<FLAG_SUFFIX>', 'California', '{}', '\\\\;', '-print<FLAG_SUFFIX>', '|', 'wc', '-l<FLAG_SUFFIX>'], ['find', '.', '-type<FLAG_SUFFIX>Type', 'f', '-exec<FLAG_SUFFIX>UTILITY', 'grep', '-n<FLAG_SUFFIX>', 'California', '{}', '\\\\;', '-print<FLAG_SUFFIX>', '|', 'wc', '-l<FLAG_SUFFIX>'], ['find', '.', '-type<FLAG_SUFFIX>Type', 'f', '-exec<FLAG_SUFFIX>UTILITY', 'grep', 'California', '{}', '\\\\;', '-print<FLAG_SUFFIX>', '|', 'wc', '-l<FLAG_SUFFIX>'], ['find', '.', '-type<FLAG_SUFFIX>Type', 'f', '|', 'xargs', '-I<FLAG_SUFFIX>ReservedWord', '{}', 'chmod', '775', '{}'], ['find', '.', '-type<FLAG_SUFFIX>Type', 'f', '-exec<FLAG_SUFFIX>UTILITY', 'chmod', '775', '{}', '+'], [], ['find', '.', '-type<FLAG_SUFFIX>Type', 'f', '-exec<FLAG_SUFFIX>UTILITY', 'file', '{}', '\\\\;', '|', 'grep', '-o<FLAG_SUFFIX>', '-P<FLAG_SUFFIX>', \"'^.+: \\\\w+ image'\"], [], [], ['find', '/path/to/dir', '!', '-perm<FLAG_SUFFIX>Permission', '0644'], ['find', '/path/to/dir', '!', '-perm<FLAG_SUFFIX>Permission', '644'], ['find', '.', '-name<FLAG_SUFFIX>Regex', '[ab]*', '-print<FLAG_SUFFIX>'], ['find', '.', '-name<FLAG_SUFFIX>Regex', \"'*.deb'\", '-exec<FLAG_SUFFIX>UTILITY', 'basename', '{}', '\\\\;'], ['find', '.', '-name<FLAG_SUFFIX>Regex', \"'*.deb'\", '|', 'xargs', '-n<FLAG_SUFFIX>Quantity', '1', '-I<FLAG_SUFFIX>ReservedWord', '{}', 'basename', '{}'], ['find', '.', '!', '-path<FLAG_SUFFIX>Regex', '\"dir1\"', '!', '-path<FLAG_SUFFIX>Regex', '\"dir2\"', '-name<FLAG_SUFFIX>Regex', '\"*foo*\"'], ['find', '/usr/ports/', '-name<FLAG_SUFFIX>Regex', 'Makefile\\\\*', '-exec<FLAG_SUFFIX>UTILITY', 'grep', '-l<FLAG_SUFFIX>', 'QTDIR', '{}', '+', '|', 'wc', '-l<FLAG_SUFFIX>'], ['find', '/usr/bin', '-name<FLAG_SUFFIX>Regex', '[ef]*x'], ['find', '.', '-iname<FLAG_SUFFIX>Regex', '\"*.c\"'], ['find', './polkadots', '-name<FLAG_SUFFIX>Regex', '\"image.pdf\"', '-print0<FLAG_SUFFIX>'], ['find', '.', '-name<FLAG_SUFFIX>Regex', \"'*.java'\", '-exec<FLAG_SUFFIX>UTILITY', 'grep', 'REGEX', '{}', '\\\\;'], [], ['find', '.', '-name<FLAG_SUFFIX>Regex', \"'*.js'\", '-not', '-path<FLAG_SUFFIX>Regex', \"'./node_modules/*'\", '-not', '-path<FLAG_SUFFIX>Regex', \"'./vendor/*'\"], [], [], ['find', '/myDir', '-name<FLAG_SUFFIX>Regex', '\"log*\"', '-ctime<FLAG_SUFFIX>Timespan', '+7', '-exec<FLAG_SUFFIX>UTILITY', 'bzip2', '-z<FLAG_SUFFIX>', '-v<FLAG_SUFFIX>', '{}', '\\\\;'], ['find', '/', '-type<FLAG_SUFFIX>Type', 'c'], ['find', '/', '-readable'], ['find', '.', '-name<FLAG_SUFFIX>Regex', \"'orm*'\"], [], [], ['find', '/dir/containing/unsigned', '-name<FLAG_SUFFIX>Regex', \"'*.pdf'\", '-print0<FLAG_SUFFIX>'], ['find', '.', '-regex<FLAG_SUFFIX>Regex', \"'.+\\\\.php'\"], ['pstree', '|', 'grep', 'php'], ['find', '.', '-type<FLAG_SUFFIX>Type', 'f', '-name<FLAG_SUFFIX>Regex', \"'*.png'\"], [], ['find', '/', '-readable'], ['find', '.', '-type<FLAG_SUFFIX>Type', 'f', '-printf<FLAG_SUFFIX>Format', \"'.'\", '|', 'wc', '-c<FLAG_SUFFIX>'], ['find', '.', '-type<FLAG_SUFFIX>Type', 'f', '|', 'wc', '-l<FLAG_SUFFIX>'], [], ['find', '.', '-maxdepth<FLAG_SUFFIX>Quantity', '1', '-type<FLAG_SUFFIX>Type', 'f', '-perm<FLAG_SUFFIX>Permission', '-uga=x'], ['find', '~/$folder', '-name<FLAG_SUFFIX>Regex', '\"*@*\"', '-type<FLAG_SUFFIX>Type', 'f'], ['find', '~/$folder', '-name<FLAG_SUFFIX>Regex', '\"*@*\"', '-type<FLAG_SUFFIX>Type', 'f', '-print0<FLAG_SUFFIX>'], ['find', '.', '-type<FLAG_SUFFIX>Type', 'f', '-iname<FLAG_SUFFIX>Regex', '\\'*\\'\"$*\"\\'*\\'', '-ls<FLAG_SUFFIX>'], ['cat', '\"$FILE\"', '|', 'grep', '\"^${KEY}${DELIMITER}\"', '|', 'cut', '-f<FLAG_SUFFIX>Number', '2-', '-d<FLAG_SUFFIX>Regex', '\"$DELIMITER\"'], [], ['find', '.', '-type<FLAG_SUFFIX>Type', 'f', '-links<FLAG_SUFFIX>Quantity', '1', '-print<FLAG_SUFFIX>'], ['find', '.', '-name<FLAG_SUFFIX>Regex', '\"somefiles-*-.txt\"', '-type<FLAG_SUFFIX>Type', 'f'], ['find', '\"$HOME\"', '-name<FLAG_SUFFIX>Regex', \"'*.txt'\", '-type<FLAG_SUFFIX>Type', 'f', '-not', '-path<FLAG_SUFFIX>Regex', '\"$HOME/newdir/*\"', '-print0<FLAG_SUFFIX>', '|', 'xargs', '-0<FLAG_SUFFIX>', '-I<FLAG_SUFFIX>ReservedWord', '{}', 'cp', '-t<FLAG_SUFFIX>Directory', '\"$HOME/newdir\"', '{}'], ['find', '\"$HOME\"', '-name<FLAG_SUFFIX>Regex', \"'*.txt'\", '-type<FLAG_SUFFIX>Type', 'f', '-print0<FLAG_SUFFIX>', '|', 'sort', '-z<FLAG_SUFFIX>', '-u<FLAG_SUFFIX>', '|', 'xargs', '-0<FLAG_SUFFIX>', '-I<FLAG_SUFFIX>ReservedWord', '{}', 'cp', '-t<FLAG_SUFFIX>Directory', '\"$HOME/newdir\"', '{}'], ['find', '\"$HOME\"', '-name<FLAG_SUFFIX>Regex', \"'*.txt'\", '-type<FLAG_SUFFIX>Type', 'f', '-print0<FLAG_SUFFIX>', '|', 'xargs', '-0<FLAG_SUFFIX>', '-I<FLAG_SUFFIX>ReservedWord', '{}', 'cp', '-u<FLAG_SUFFIX>', '-t<FLAG_SUFFIX>', '\"$HOME/newdir\"', '{}'], ['find', '.', '-type<FLAG_SUFFIX>Type', 'f', '-exec<FLAG_SUFFIX>UTILITY', 'du', '-S<FLAG_SUFFIX>', '-h<FLAG_SUFFIX>', '{}', '+', '|', 'sort', '-r<FLAG_SUFFIX>', '-h<FLAG_SUFFIX>', '|', 'head', '-n<FLAG_SUFFIX>Quantity', '15'], ['find', '.', '-type<FLAG_SUFFIX>Type', 'f', '-iname<FLAG_SUFFIX>Regex', '\"*.py\"'], ['find', '.', '-type<FLAG_SUFFIX>Type', 'f', '-exec<FLAG_SUFFIX>UTILITY', 'ls', '-s<FLAG_SUFFIX>', '{}', '\\\\;', 'sort', '-n', '|', 'head', '-<FLAG_SUFFIX>Quantity', '5'], ['find', '.', '-maxdepth<FLAG_SUFFIX>Quantity', '1', '-type<FLAG_SUFFIX>Type', 'd', '-print<FLAG_SUFFIX>', '|', 'xargs', '-I<FLAG_SUFFIX>ReservedWord', '{}', 'echo', 'Directory:', '{}'], ['find', '$dir', '-maxdepth<FLAG_SUFFIX>Quantity', '1', '-type<FLAG_SUFFIX>Type', 'd', '-user<FLAG_SUFFIX>Regex', '$username', '-perm<FLAG_SUFFIX>Permission', '-100'], ['find', '.', '-mindepth<FLAG_SUFFIX>Quantity', '3', '-maxdepth<FLAG_SUFFIX>Quantity', '3', '-type<FLAG_SUFFIX>Type', 'd', '-name<FLAG_SUFFIX>Regex', '\"*New Parts*\"', '-exec<FLAG_SUFFIX>UTILITY', 'ln', '-s<FLAG_SUFFIX>', '-t<FLAG_SUFFIX>Directory', '/cygdrive/c/Views', '{}', '\\\\;'], ['find', '.', '-name<FLAG_SUFFIX>Regex', '\"*test*\"', '-depth<FLAG_SUFFIX>'], ['find', '/tmp/test/*', '-daystart<FLAG_SUFFIX>', '-mtime<FLAG_SUFFIX>Timespan', '+1'], ['find', '/dir', '-newer<FLAG_SUFFIX>File', 'yesterday.ref', '-and', '!', '-newer<FLAG_SUFFIX>File', 'today.ref', '-print<FLAG_SUFFIX>'], ['find', '.', '-type<FLAG_SUFFIX>Type', 'type_descriptor'], ['find', '.', '-type<FLAG_SUFFIX>Type', 'f', '-execdir<FLAG_SUFFIX>UTILITY', 'grep', '-i<FLAG_SUFFIX>', '-H<FLAG_SUFFIX>', \"'#!/bin/ksh'\", '{}', '\\\\;', '|', 'tee', '/tmp/allfiles'], ['find', '.', '-type<FLAG_SUFFIX>Type', 'f', '-print<FLAG_SUFFIX>', '|', 'xargs', '-I<FLAG_SUFFIX>ReservedWord', '{}', 'grep', '-i<FLAG_SUFFIX>', '-l<FLAG_SUFFIX>', \"'bin/ksh'\", '{}', '|', 'tee', '/tmp/allfiles'], ['find', '/var/log/', '-mmin<FLAG_SUFFIX>Quantity', '+60'], [], ['find', '.', '-name<FLAG_SUFFIX>Regex', \"'*.JUKEBOX.*.txt'\", '-maxdepth<FLAG_SUFFIX>Quantity', '1', '-print0<FLAG_SUFFIX>', '|', 'xargs', '-0<FLAG_SUFFIX>', '-I<FLAG_SUFFIX>ReservedWord', '{}', 'mv', '{}', './JUKEBOX'], ['find', '.', '\\\\(', '-size<FLAG_SUFFIX>Size', '+700k', '-and', '-size<FLAG_SUFFIX>Size', '-1000k', '\\\\)'], ['find', '.', '-perm<FLAG_SUFFIX>Permission', '775'], ['find', '~', '-name<FLAG_SUFFIX>Regex', 'game'], ['find', '.', '-iname<FLAG_SUFFIX>Regex', '\"needle\"'], ['find', '/', '-mmin<FLAG_SUFFIX>Quantity', '+90'], [], [], [], [], ['find', '.', '-type<FLAG_SUFFIX>Type', 'f', '-mtime<FLAG_SUFFIX>Timespan', '7', '|', 'xargs', '-I<FLAG_SUFFIX>ReservedWord', '{}', 'tar', '-c<FLAG_SUFFIX>', '-v<FLAG_SUFFIX>', '-f<FLAG_SUFFIX>', '$(', 'date', \"'+%d%m%Y'_archive.tar\", ')', '{}'], ['find', '.', '\\\\(', '-name<FLAG_SUFFIX>Regex', '\"foo\"', '-or', '-name<FLAG_SUFFIX>Regex', '\"bar\"', '\\\\)'], ['find', '.', '-name<FLAG_SUFFIX>Regex', '\"foo.*\"'], ['find', '/', '-inum<FLAG_SUFFIX>Quantity', '199053'], ['find', '.', '-print<FLAG_SUFFIX>', '|', 'grep', 'esxcfg-firewall'], [], ['find', '$HOME', '-name<FLAG_SUFFIX>Regex', '\\\\*txt', '-or', '-name<FLAG_SUFFIX>Regex', '\\\\*html', '-print0<FLAG_SUFFIX>'], ['find', '.', '-lname<FLAG_SUFFIX>Regex', '\\\\*foo.txt'], ['find', '/', '-lname<FLAG_SUFFIX>Regex', 'foo.txt'], ['find', '.', '-type<FLAG_SUFFIX>Type', 'f', '-printf<FLAG_SUFFIX>Format', \"'%T+ %p\\\\n'\", '|', 'sort', '|', 'head', '-n<FLAG_SUFFIX>Quantity', '1'], ['find', '.', '-type<FLAG_SUFFIX>Type', 'f', '-print0<FLAG_SUFFIX>', '|', 'xargs', '-0<FLAG_SUFFIX>', '-I<FLAG_SUFFIX>ReservedWord', '{}', 'ls', '-l<FLAG_SUFFIX>', '-t<FLAG_SUFFIX>', '-r<FLAG_SUFFIX>', '{}', '|', 'head', '-n<FLAG_SUFFIX>Quantity', '1'], ['find', '.', '-type<FLAG_SUFFIX>Type', \"'d'\", '|', 'grep', '-v<FLAG_SUFFIX>', '\"NameToExclude\"', '|', 'xargs', '-I<FLAG_SUFFIX>ReservedWord', '{}', 'rmdir', '{}'], ['find', '/dir/to/search/', '-type<FLAG_SUFFIX>Type', 'f', '-name<FLAG_SUFFIX>Regex', \"'expression -or expression'\", '-print<FLAG_SUFFIX>'], ['shopt', '-p<FLAG_SUFFIX>', '|', 'grep', 'checkjobs'], ['find', '.', '-name<FLAG_SUFFIX>Regex', '\"*.sql\"', '-print0<FLAG_SUFFIX>', '-type<FLAG_SUFFIX>Type', 'f', '|', 'xargs', '-0<FLAG_SUFFIX>', '-I<FLAG_SUFFIX>ReservedWord', '{}', 'grep', '\"expression\"', '{}'], ['find', '.', '\\\\(', '-name<FLAG_SUFFIX>Regex', '\"*.php\"', '-or', '-name<FLAG_SUFFIX>Regex', '\"*.html\"', '\\\\)', '-print0<FLAG_SUFFIX>', '|', 'xargs', '-0<FLAG_SUFFIX>', '-I<FLAG_SUFFIX>ReservedWord', '{}', 'grep', '-H<FLAG_SUFFIX>', '-i<FLAG_SUFFIX>', '-n<FLAG_SUFFIX>', '\"joomla\"', '{}'], ['find', '.', '-type<FLAG_SUFFIX>Type', 'f', '-name<FLAG_SUFFIX>Regex', '\"*.php\"', '-exec<FLAG_SUFFIX>UTILITY', 'grep', '--with-filename<FLAG_SUFFIX>', '\"eval(\\\\|exec(\\\\|base64_decode(\"', '{}', '\\\\;'], [], ['join', '-v<FLAG_SUFFIX>Quantity', '1', '<(', 'sort', 'file1', ')', '<(', 'sort', 'file2', ')'], ['ln', '-s<FLAG_SUFFIX>', '-f<FLAG_SUFFIX>', '$(', 'readlink', '-f<FLAG_SUFFIX>', '\"$1\"', ')', '\"$*\"'], ['ln', '-s<FLAG_SUFFIX>', '-f<FLAG_SUFFIX>', '-n<FLAG_SUFFIX>', '\"$c\"', '\"$lines\"'], ['ln', '-s<FLAG_SUFFIX>', '-f<FLAG_SUFFIX>', '-n<FLAG_SUFFIX>', '/other/dir', 'new_dir'], ['find', '/tmp', '-type<FLAG_SUFFIX>Type', 'f', '-name<FLAG_SUFFIX>Regex', 'sess*', '-exec<FLAG_SUFFIX>UTILITY', 'rm', '-f<FLAG_SUFFIX>', '{}', '\\\\;'], [], ['tr', '-d<FLAG_SUFFIX>', \"'\\\\n'\", '|', 'fold', '-w<FLAG_SUFFIX>Quantity', '32', '|', 'head', '-n<FLAG_SUFFIX>Quantity', '1'], ['seq', '1', '10', '|', 'sort', '-R<FLAG_SUFFIX>', '|', 'tee', '/tmp/lst', '|', 'cat', '<(', 'cat', '/tmp/lst', ')', '<(', 'echo', \"'-------'\", ')', '<(', 'tac', ')'], ['find', '/home', '-type<FLAG_SUFFIX>Type', 'f', '-printf<FLAG_SUFFIX>Format', '\"%i@%p\\\\n\"'], [], [], ['dig', '+short', '\"$domain\"'], ['ifconfig', '${NET_IF}', '|', 'grep', '-E<FLAG_SUFFIX>', '-o<FLAG_SUFFIX>', \"'inet (addr:)?([0-9]*\\\\.){3}[0-9]*'\", '|', 'grep', '-E<FLAG_SUFFIX>', '-o<FLAG_SUFFIX>', \"'([0-9]*\\\\.){3}[0-9]*'\", '|', 'grep', '-v<FLAG_SUFFIX>', \"'127.0.0.1'\"], ['head', '-<FLAG_SUFFIX>Quantity', '5', 'tst.txt', '|', 'tail', '-<FLAG_SUFFIX>Quantity', '1', '|', 'cut', '-c<FLAG_SUFFIX>Number', '5-8'], ['cd', '$(', 'ls', '-d<FLAG_SUFFIX>', '*/', '|', 'grep', '1670', ')'], ['cd', '$(', 'find', '.', '-maxdepth<FLAG_SUFFIX>Quantity', '1', '-type<FLAG_SUFFIX>Type', 'd', '|', 'grep', '1670', ')'], ['cd', '$(', 'ls', '-d<FLAG_SUFFIX>', '*/', '|', 'grep', '1670', ')'], ['cd', '/tmp'], ['cd', \"'/cygdrive/c/Program Files (x86)/$dollarsign'\"], ['cd', '\"~\"'], ['cd', '$(', 'echo', '-n<FLAG_SUFFIX>', '\"~\"', ')'], [], ['join', '-o<FLAG_SUFFIX>Format', '1.2,1.3,2.4,2.5,1.4', '<(', 'cat', '-n<FLAG_SUFFIX>', 'file1', ')', '<(', 'cat', '-n<FLAG_SUFFIX>', 'file2', ')'], ['jobs', '-p<FLAG_SUFFIX>', '|', 'tail', '-n<FLAG_SUFFIX>Quantity', '[number', 'of', 'jobs]', '|', 'xargs', '-I<FLAG_SUFFIX>ReservedWord', '{}', 'kill', '{}'], ['grep', '-o<FLAG_SUFFIX>', \"'1.'\", 'yourfile', '|', 'head', '-n<FLAG_SUFFIX>Quantity', '2'], ['find', '/home/user/Desktop', '-name<FLAG_SUFFIX>Regex', \"'*.pdf'\", '-or', '-name<FLAG_SUFFIX>Regex', \"'*.txt'\", '-or', '-name<FLAG_SUFFIX>Regex', \"'*.bmp'\"], [], ['env', '|', 'grep', \"'^\\\\(GOBIN\\\\|PATH=\\\\)'\"], ['env', '|', 'grep', '^PATH'], ['find', '.', '-print<FLAG_SUFFIX>', '|', 'xargs', '-I<FLAG_SUFFIX>ReservedWord', '{}', 'ls', '{}'], ['find', '.', '-regextype<FLAG_SUFFIX>Type', 'posix-egrep', '-regex<FLAG_SUFFIX>Regex', \"'.+\\\\.(c|cpp|h)$'\", '-print0<FLAG_SUFFIX>', '|', 'grep', '-v<FLAG_SUFFIX>', '-z<FLAG_SUFFIX>', '-Z<FLAG_SUFFIX>', 'generated', '|', 'grep', '-v<FLAG_SUFFIX>', '-z<FLAG_SUFFIX>', '-Z<FLAG_SUFFIX>', 'deploy', '|', 'xargs', '-0<FLAG_SUFFIX>', '-I<FLAG_SUFFIX>ReservedWord', '{}', 'ls', '-1<FLAG_SUFFIX>', '-L<FLAG_SUFFIX>', '-d<FLAG_SUFFIX>', '{}'], [], ['ls', '/home/dreftymac/*'], ['file', '*', '|', 'grep', 'ASCII'], ['find', '*', '-type<FLAG_SUFFIX>Type', 'f', '|', 'xargs', '-I<FLAG_SUFFIX>ReservedWord', '{}', 'md5sum', '{}', '|', 'sort', '|', 'uniq', '-D<FLAG_SUFFIX>Option', 'w32'], ['find', '/var', '-path<FLAG_SUFFIX>Regex', '*/l??/samba*'], ['find', '/', '-type<FLAG_SUFFIX>Type', 'f', '\\\\(', '-perm<FLAG_SUFFIX>Permission', '-4000', '-or', '-perm<FLAG_SUFFIX>Permission', '-2000', '\\\\)', '-ls<FLAG_SUFFIX>'], ['ls', '-d<FLAG_SUFFIX>', '--', '*/'], ['find', '.', '$(', 'pwd', ')', '-name<FLAG_SUFFIX>Regex', '\"file.ext\"', '-exec<FLAG_SUFFIX>UTILITY', 'dirname', '{}', '\\\\;'], ['find', '.', '-size<FLAG_SUFFIX>Size', '1234c'], [], ['find', '.', '-size<FLAG_SUFFIX>Size', '+9M'], [], ['ls', '-b<FLAG_SUFFIX>'], ['find', '.', '-type<FLAG_SUFFIX>Type', 'f', '-name<FLAG_SUFFIX>Regex', \"'*.gz'\", '-printf<FLAG_SUFFIX>Format', \"'%s %p\\\\n'\", '|', 'sort', '-n<FLAG_SUFFIX>', '-r<FLAG_SUFFIX>', '|', 'head', '-n<FLAG_SUFFIX>Quantity', '1'], ['find', '$DIR', '-type<FLAG_SUFFIX>Type', 'f', '-printf<FLAG_SUFFIX>Format', '\"%T@ %p\\\\n\"', '|', 'sort', '-n<FLAG_SUFFIX>', '|', 'cut', '-d<FLAG_SUFFIX>Regex', \"' '\", '-f<FLAG_SUFFIX>Number', '2', '|', 'tail', '-n<FLAG_SUFFIX>Quantity', '1'], ['find', '.', '-maxdepth<FLAG_SUFFIX>Quantity', '1', '-empty<FLAG_SUFFIX>', '-not', '-name<FLAG_SUFFIX>Regex', '\".*\"'], [], ['find', '/root_path', '-type<FLAG_SUFFIX>Type', 'f', '-iname<FLAG_SUFFIX>Regex', '\"*.class\"', '-printf<FLAG_SUFFIX>Format', '\"%h\\\\n\"', '|', 'sort', '-u<FLAG_SUFFIX>'], ['fold', '-w<FLAG_SUFFIX>Quantity', '3', '\"$1\"', '|', 'sort', '|', 'uniq', '-c<FLAG_SUFFIX>', '|', 'sort', '-k<FLAG_SUFFIX>Number', '1,1nr', '-k<FLAG_SUFFIX>Number', '2'], ['find', '.', '-not', '-name<FLAG_SUFFIX>Regex', '\"*testfileasdf*\"'], ['find', '/var/www', '-name<FLAG_SUFFIX>Regex', 'logo.gif'], [], ['su', '-l<FLAG_SUFFIX>', 'oracle'], [], [], ['grep', 'ds1337', '$(', 'uname', '-r<FLAG_SUFFIX>', ')'], ['cat', '/dev/urandom', '|', 'tr', '-d<FLAG_SUFFIX>', '-c<FLAG_SUFFIX>', \"'a-zA-Z0-9'\", '|', 'fold', '-w<FLAG_SUFFIX>Quantity', '32', '|', 'head', '-n<FLAG_SUFFIX>Quantity', '1', '|', 'xargs', '-I<FLAG_SUFFIX>ReservedWord', '{}', 'mkdir', '{}'], ['mkdir', '$(', 'cat', '/dev/urandom', '|', 'tr', '-d<FLAG_SUFFIX>', '-c<FLAG_SUFFIX>', \"'a-zA-Z0-9'\", '|', 'fold', '-w<FLAG_SUFFIX>Quantity', '32', '|', 'head', '-n<FLAG_SUFFIX>Quantity', '1', ')'], ['find', '.', '-type<FLAG_SUFFIX>Type', 'd', '|', 'xargs', '-I<FLAG_SUFFIX>ReservedWord', '{}', 'mkdir', '{}/new-dir'], ['mkdir', '-p<FLAG_SUFFIX>', '\"$TARGET_PATH\"'], ['mkdir', '-p<FLAG_SUFFIX>', '-v<FLAG_SUFFIX>', '/tmp/boostinst'], ['find', 'debian/fglrx-amdcccle/usr/lib/fglrx/bin/', '-type<FLAG_SUFFIX>Type', 'f', '|', 'xargs', '-I<FLAG_SUFFIX>ReservedWord', '{}', 'chmod', 'a+x', '{}'], ['find', '/nas01/backups/home/user/', '-type<FLAG_SUFFIX>Type', 'd', '-name<FLAG_SUFFIX>Regex', '\".*\"', '-print0<FLAG_SUFFIX>', '-exec<FLAG_SUFFIX>UTILITY', 'ls', '-l<FLAG_SUFFIX>', '-r<FLAG_SUFFIX>', '-t<FLAG_SUFFIX>', '{}', '\\\\;'], [], [], ['join', '-o<FLAG_SUFFIX>Format', '1.1,1.2,1.3,2.1,2.2,2.3', '-j<FLAG_SUFFIX>Regex', '2', '<(', 'sort', '-k<FLAG_SUFFIX>Number', '2', 'file1', ')', '<(', 'sort', '-k<FLAG_SUFFIX>Number', '2', 'file2', ')'], ['grep', '-v<FLAG_SUFFIX>', \"'^$'\", '|', 'paste', '-s<FLAG_SUFFIX>', '-d<FLAG_SUFFIX>Regex', '\",\"', '-'], ['paste', 'file_1', 'file_2', '|', 'column', '-s<FLAG_SUFFIX>Regex', \"$'\\\\t'\", '-t<FLAG_SUFFIX>'], ['mount', '-t<FLAG_SUFFIX>Option', 'cpuset', 'none', '/cpuset/'], ['mount', 'none', '-t<FLAG_SUFFIX>Option', 'tmpfs', '/path/to/dir'], ['mv', '-f<FLAG_SUFFIX>', 'file.txt', '/var/lib/docker/aufs/mnt/$CONTAINER_ID/rootfs/root/file.txt'], [], [], [], ['ls', '-1<FLAG_SUFFIX>', '|', 'grep', '-v<FLAG_SUFFIX>', '^$EXCLUDE', '|', 'xargs', '-I<FLAG_SUFFIX>Regex', '{}', 'mv', '{}', '$TARGET'], [], ['sort', '-n<FLAG_SUFFIX>', 'out'], ['sort', '-n<FLAG_SUFFIX>', '-k<FLAG_SUFFIX>', '2,2', 'file.dat', '|', 'tac'], ['sort', '-n<FLAG_SUFFIX>', '-r<FLAG_SUFFIX>', '-k<FLAG_SUFFIX>', '2,2', 'file.dat'], ['md5', '-q', 'file'], ['yes', '--', '\"-tcp\"', '|', 'head', '-n<FLAG_SUFFIX>Quantity', '2'], ['yes', '--', '-tcp', '|', 'head', '-n<FLAG_SUFFIX>Quantity', '2'], ['yes'], ['join', '-v<FLAG_SUFFIX>Quantity', '1', 'success.txt', 'fail.txt'], [], [], ['find', '/var/www/vhosts/*/httpdocs', '-type<FLAG_SUFFIX>Type', 'f', '-iwholename<FLAG_SUFFIX>Regex', '\"*/wp-includes/version.php\"', '-exec<FLAG_SUFFIX>UTILITY', 'grep', '-H<FLAG_SUFFIX>', '\"\\\\$wp_version =\"', '{}', '\\\\;'], ['cat', 'ips', '|', 'xargs', '-I<FLAG_SUFFIX>ReservedWord', '{}', 'ping', '-c<FLAG_SUFFIX>Quantity', '2', '{}'], ['cat', 'ips', '|', 'xargs', '-n<FLAG_SUFFIX>Quantity', '1', '-I<FLAG_SUFFIX>ReservedWord', '{}', 'ping', '-c<FLAG_SUFFIX>Quantity', '2', '{}'], ['ping', '-b<FLAG_SUFFIX>', '10.10.0.255'], ['ping', 'google.com', '|', 'xargs', '-L<FLAG_SUFFIX>Quantity', '1', '-I<FLAG_SUFFIX>Regex', '{}', 'date', \"'+%+: {}'\"], ['echo', '\"$NEWFILE\"', '|', 'tee', '/etc/apt/sources.list'], [], [], ['find', '.', '-name<FLAG_SUFFIX>Regex', 'file', '-exec<FLAG_SUFFIX>UTILITY', 'echo', \"'This should print the filename twice if an implicit -print is applied: '\", '{}', '+'], ['sort', 'ports.txt', '|', 'uniq', '-c<FLAG_SUFFIX>', '|', 'sort', '-r<FLAG_SUFFIX>'], ['echo', 'Aa', '|', 'od', '-t<FLAG_SUFFIX>Type', 'x1'], ['echo', '\"$DIREC\"', '|', 'od', '-c<FLAG_SUFFIX>'], [], [], [], ['find', 'sort_test/', '-type<FLAG_SUFFIX>Type', 'f', '|', 'env', '-i<FLAG_SUFFIX>', 'LC_COLLATE=C', 'sort'], ['find', '$HOME', '-maxdepth<FLAG_SUFFIX>Quantity', '1', '-type<FLAG_SUFFIX>Type', 'f', '-name<FLAG_SUFFIX>Regex', \"'.*'\", '-print0<FLAG_SUFFIX>'], [], [], ['find', '/', '-name<FLAG_SUFFIX>Regex', \"'<name_pattern>'\", '-type<FLAG_SUFFIX>Type', 'd', '|', 'sort', '|', 'uniq'], ['readlink', '-f<FLAG_SUFFIX>', 'YOUR_PATH'], [], ['find', '$WHATEVER', '-printf<FLAG_SUFFIX>Format', '\"%s %p\\\\n\"'], ['cat', 'report.txt', '|', 'grep', '-i<FLAG_SUFFIX>', 'error'], ['tail', '-f<FLAG_SUFFIX>Regex', '/var/log/some.log', '|', 'grep', '--line-buffered<FLAG_SUFFIX>', 'foo', '|', 'grep', 'bar'], ['ping', '-q<FLAG_SUFFIX>', '-c<FLAG_SUFFIX>Quantity', '5', 'google.com', '|', 'tail', '-n<FLAG_SUFFIX>Quantity', '1', '|', 'cut', '-f<FLAG_SUFFIX>Number', '5', '-d<FLAG_SUFFIX>Regex', \"'/'\"], ['basename', '$(', 'pwd', ')'], ['basename', '$(', 'pwd', ')'], ['basename', '$(', 'pwd', ')'], ['echo', '$(', 'basename', '$(', 'pwd', ')', ')'], ['pwd', '|', 'xargs', '-I<FLAG_SUFFIX>ReservedWord', '{}', 'basename', '{}'], ['basename', '$(', 'echo', '\"a:b:c:d:e\"', '|', 'tr', \"':'\", \"'/'\", ')'], ['paste', '<(', 'cal', '6', '2009', ')', '<(', 'cal', '6', '2010', ')'], [], ['comm', '-1<FLAG_SUFFIX>', '-2<FLAG_SUFFIX>', 'ignore.txt', 'input.txt'], [], ['cat', 'Little_Commas.TXT'], ['od', '-t<FLAG_SUFFIX>Type', 'x1', '-A<FLAG_SUFFIX>Option', 'n', 'file', '|', 'tr', '-d<FLAG_SUFFIX>', \"'\\\\n '\"], [], ['cat', 'whatever', '|', 'grep', '-E<FLAG_SUFFIX>', \"'snozzberries|$'\"], [], ['tree', '-p<FLAG_SUFFIX>'], [], ['date', '-d<FLAG_SUFFIX>', '$(', 'date', '-d<FLAG_SUFFIX>Regex', '\"2 months\"', '+%Y-%m-1', ')', '+%a'], ['echo', 'orange', '|', 'fold', '-w<FLAG_SUFFIX>Quantity', '1'], ['echo', '\"abcdefg\"', '|', 'fold', '-w<FLAG_SUFFIX>Quantity', '1'], ['paste', '<(', 'paste', '-d<FLAG_SUFFIX>Regex', '\" \"', 'f1', 'f2', ')', 'f3'], ['comm', '-1<FLAG_SUFFIX>', '-2<FLAG_SUFFIX>', '<(', 'zcat', 'number.txt.gz', ')', '<(', 'zcat', 'xxx.txt.gz', ')'], ['cat', '$(', 'find', '[whatever]', ')'], ['cat', '$(', 'which', 'f', ')'], ['cat', '$(', 'which', 'f', ')'], ['echo', '\"$FILE\"', '|', 'cut', '-d<FLAG_SUFFIX>Regex', \"'.'\", '-f<FLAG_SUFFIX>Number', '2'], [], ['find', '.', '-type<FLAG_SUFFIX>Type', 'f', '-exec<FLAG_SUFFIX>UTILITY', 'echo', '{}', '{}', '\\\\;'], ['find', '*', '-maxdepth<FLAG_SUFFIX>Quantity', '0', '-type<FLAG_SUFFIX>Type', 'd', '-print0<FLAG_SUFFIX>'], ['cat', '/dev/urandom', '|', 'tr', '-c<FLAG_SUFFIX>', '-d<FLAG_SUFFIX>', \"'a-f0-9'\", '|', 'head', '-c<FLAG_SUFFIX>Quantity', '32'], ['zcat', '\"$line\"', '|', 'head', '-n<FLAG_SUFFIX>Quantity', '5'], ['which', 'c++'], ['which', 'cc'], ['which', 'rails'], ['ls', '-d<FLAG_SUFFIX>', '$PWD/*'], ['ls', '-d<FLAG_SUFFIX>', '-1<FLAG_SUFFIX>', '$PWD/**'], ['ls', '-d<FLAG_SUFFIX>', '-1<FLAG_SUFFIX>', '$PWD/*.*'], ['cat', '--help<FLAG_SUFFIX>'], [], ['hostname', '-I<FLAG_SUFFIX>'], ['hostname', '-I<FLAG_SUFFIX>', '|', 'cut', '-f<FLAG_SUFFIX>Number', '1', '-d<FLAG_SUFFIX>Regex', \"' '\"], ['hostname', '-i<FLAG_SUFFIX>'], ['tail', '-n<FLAG_SUFFIX>Quantity', '1000', '/var/spool/cron/*'], ['tac', '$FILE', '|', 'grep', '-m<FLAG_SUFFIX>Quantity', '1', \"'.'\"], ['tac', 'FILE', '|', 'grep', '-E<FLAG_SUFFIX>', '-m<FLAG_SUFFIX>Quantity', '1', '.'], ['find', './', '-type<FLAG_SUFFIX>Type', 'f', '-print<FLAG_SUFFIX>'], ['echo', \"'ls -hal /root/ > /root/test.out'\", '|', 'bash'], [], [], [], ['mktemp', '-u<FLAG_SUFFIX>'], [], ['ls', '-1<FLAG_SUFFIX>', '|', 'tail', '-n<FLAG_SUFFIX>Quantity', '+N', '|', 'head', '-n<FLAG_SUFFIX>Quantity', '1'], ['echo', '\"Number files in SEARCH PATH with EXTENSION:\"', '$(', 'ls', '-1<FLAG_SUFFIX>', '\"${SEARCHPATH}\"/*.\"${EXTENSION}\"', '|', 'wc', '-l<FLAG_SUFFIX>', ')'], ['comm', '-1<FLAG_SUFFIX>', '-2<FLAG_SUFFIX>', 'file1.sorted', 'file2.sorted'], ['find', '/path/to/directory/*', '-maxdepth<FLAG_SUFFIX>Quantity', '0', '-type<FLAG_SUFFIX>Type', 'd'], ['echo', '$(', 'pwd', '-P<FLAG_SUFFIX>', ')'], [], [], ['echo', '$i', '|', 'rev', '|', 'cut', '-d<FLAG_SUFFIX>Regex', '\".\"', '-f<FLAG_SUFFIX>Number', '2'], ['cut', '\"-d \"', '-f<FLAG_SUFFIX>Number', '2', 'a'], [], [], ['diff', '-q<FLAG_SUFFIX>', 'dir1', 'dir2'], ['date', '+\"%T\"'], ['du', '-h<FLAG_SUFFIX>', '-D<FLAG_SUFFIX>', '-a<FLAG_SUFFIX>', '-x<FLAG_SUFFIX>', '-d<FLAG_SUFFIX>Quantity', '1', '/var', '|', 'sort', '-h<FLAG_SUFFIX>', '|', 'tail', '-n<FLAG_SUFFIX>Quantity', '10'], [], ['comm', '-2<FLAG_SUFFIX>', '-3<FLAG_SUFFIX>', 'a.txt', 'b.txt'], ['diff', '--brief<FLAG_SUFFIX>', '-N<FLAG_SUFFIX>', '-r<FLAG_SUFFIX>', 'dir1/', 'dir2/'], [], ['read', '-r<FLAG_SUFFIX>', '-e<FLAG_SUFFIX>', '-p<FLAG_SUFFIX>', \"$'Please Enter a Message:\\\\n'\", 'message'], ['read', '-a<FLAG_SUFFIX>Regex', 'first'], ['read', '-p<FLAG_SUFFIX>Regex', '\"> $line (Press Enter to continue)\"'], ['read', '-r<FLAG_SUFFIX>', '-p<FLAG_SUFFIX>', '$(', 'echo', '$@', ')', 'YESNO'], ['read', '-p<FLAG_SUFFIX>', '$(', 'echo', \"$'\\\\n> '\", ')', 'message'], ['read', '-p<FLAG_SUFFIX>', '$(', 'echo', '-e<FLAG_SUFFIX>', \"'Please Enter a Message: \\\\n\\\\b'\", ')', 'message'], ['read', '-p<FLAG_SUFFIX>Regex', '\"<Your Friendly Message here> : y/n/cancel\"', 'CONDITION'], ['read', '-r<FLAG_SUFFIX>', '-p<FLAG_SUFFIX>Regex', '\"Are you sure? [Y/n]\"', 'response'], ['read', '-p<FLAG_SUFFIX>Regex', '\"Is this a good question (y/n)? \"', 'answer'], [], [], ['history', '-r<FLAG_SUFFIX>'], ['chown', '-R<FLAG_SUFFIX>', '$(', 'whoami', ')', '/usr/local'], ['chown', 'user2:user2', '-R<FLAG_SUFFIX>', 'subdir2'], ['chown', '-R<FLAG_SUFFIX>', 'tomcat6', 'webapps', 'temp', 'logs', 'work', 'conf'], ['scp', '-r<FLAG_SUFFIX>', 'prod:/path/foo', '/home/user/Desktop'], ['scp', '-B<FLAG_SUFFIX>', '-p<FLAG_SUFFIX>', '-q<FLAG_SUFFIX>', '-r<FLAG_SUFFIX>', '/tdggendska10/vig-preview-dmz-prod/docs/sbo/pdf/*ela*L1*TE*', 'dalvarado@localhost:/var/www/html/sbo/2010/teacher/ela/level1'], [], ['find', '.', '-name<FLAG_SUFFIX>Regex', '\"*.pdf\"', '-print0<FLAG_SUFFIX>', '|', 'xargs', '-0<FLAG_SUFFIX>', '-I<FLAG_SUFFIX>ReservedWord', '{}', 'rm', '-r<FLAG_SUFFIX>', '-f<FLAG_SUFFIX>', '{}'], ['find', '.', '-type<FLAG_SUFFIX>Type', 'f', '|', 'grep', '-E<FLAG_SUFFIX>', '-v<FLAG_SUFFIX>', \"'\\\\.bz2'\", '|', 'xargs', '-I<FLAG_SUFFIX>ReservedWord', '{}', 'bzip2', '-9<FLAG_SUFFIX>', '{}'], ['find', '.', '-name<FLAG_SUFFIX>Regex', \"'.git'\", '|', 'xargs', '-I<FLAG_SUFFIX>ReservedWord', '{}', 'dirname', '{}'], ['find', '/path/to/dir', '-type<FLAG_SUFFIX>Type', 'f', '-exec<FLAG_SUFFIX>UTILITY', 'bzip2', '{}', '\\\\;'], ['find', '.', '-type<FLAG_SUFFIX>Type', 'f', '-name<FLAG_SUFFIX>Regex', 'some_file_name.xml', '-exec<FLAG_SUFFIX>UTILITY', 'grep', '-H<FLAG_SUFFIX>', 'PUT_YOUR_STRING_HERE', '{}', '\\\\;'], ['ls', '**/*.py', '**/*.html'], ['ls', '-l<FLAG_SUFFIX>', '-d<FLAG_SUFFIX>', '-t<FLAG_SUFFIX>', '$(', 'find', '.', ')'], ['find', '/path/to/srcdir', '-type<FLAG_SUFFIX>Type', 'f', '-print0<FLAG_SUFFIX>', '|', 'xargs', '-0<FLAG_SUFFIX>', '-I<FLAG_SUFFIX>ReservedWord', '{}', 'mv', '{}', 'dest/'], ['find', './', '-type<FLAG_SUFFIX>Type', 'f', '-name<FLAG_SUFFIX>Regex', \"'*.r*'\", '-delete<FLAG_SUFFIX>', '-printf<FLAG_SUFFIX>Format', '\"%h\\\\0\"', '|', 'xargs', '-0<FLAG_SUFFIX>', '-I<FLAG_SUFFIX>ReservedWord', '{}', 'rmdir', '{}'], ['chmod', '-R<FLAG_SUFFIX>', '777', '../tools'], ['chmod', '755', '/folder', '-R<FLAG_SUFFIX>'], [], [], ['mount', '-o<FLAG_SUFFIX>Option', 'rw,remount', '-t<FLAG_SUFFIX>Option', 'rootfs', '/'], ['mount', '/outside', '/inside', '-o<FLAG_SUFFIX>Option', 'bind'], [], ['find', '.', '-name<FLAG_SUFFIX>Regex', \"'*~'\", '-ok<FLAG_SUFFIX>UTILITY', 'rm', '{}', '\\\\;'], ['find', '.', '-name<FLAG_SUFFIX>Regex', '\"t*.sh\"', '-exec<FLAG_SUFFIX>UTILITY', 'rm', '-v<FLAG_SUFFIX>', '-f<FLAG_SUFFIX>', '{}', '\\\\;'], ['find', '.', '!', '-name<FLAG_SUFFIX>Regex', '.', '-type<FLAG_SUFFIX>Type', 'd', '-print0<FLAG_SUFFIX>', '|', 'xargs', '-0<FLAG_SUFFIX>', '-I<FLAG_SUFFIX>ReservedWord', '{}', 'rmdir', '{}'], ['find', '/thepath', '-type<FLAG_SUFFIX>Type', 'd', '-empty<FLAG_SUFFIX>', '-print0<FLAG_SUFFIX>', '|', 'xargs', '-0<FLAG_SUFFIX>', '-I<FLAG_SUFFIX>ReservedWord', '{}', 'rmdir', '-v<FLAG_SUFFIX>', '{}'], ['find', '\"$DELETEDIR\"', '-mindepth<FLAG_SUFFIX>Quantity', '1', '-depth<FLAG_SUFFIX>', '-type<FLAG_SUFFIX>Type', 'd', '-empty<FLAG_SUFFIX>', '-exec<FLAG_SUFFIX>UTILITY', 'rmdir', '{}', '\\\\;'], ['find', '/home/user/Maildir/.SPAM/cur', '-type<FLAG_SUFFIX>Type', 'f', '-exec<FLAG_SUFFIX>UTILITY', 'rm', '{}', '+'], ['find', '/home/user/Maildir/.SPAM/cur', '-type<FLAG_SUFFIX>Type', 'f', '-exec<FLAG_SUFFIX>UTILITY', 'rm', '-f<FLAG_SUFFIX>', '{}', '+'], ['find', '/home/user/Maildir/.SPAM/cur', '-type<FLAG_SUFFIX>Type', 'f', '|', 'xargs', '-I<FLAG_SUFFIX>ReservedWord', '{}', 'rm', '{}'], ['rm', '-r<FLAG_SUFFIX>', '-f<FLAG_SUFFIX>', '/usr/local/bin/npm', '/usr/local/share/man/man1/node*', '/usr/local/lib/dtrace/node.d', '~/.npm', '~/.node-gyp', '/opt/local/bin/node', 'opt/local/include/node', '/opt/local/lib/node_modules'], ['rmdir', 'edi', 'edw'], ['rm', '-r<FLAG_SUFFIX>', '-i<FLAG_SUFFIX>', '*'], ['rm', '-f<FLAG_SUFFIX>', '~/.android/adbkey', '~/.android/adbkey.pub'], ['head', '-n<FLAG_SUFFIX>Quantity', '-2', 'myfile.txt'], ['echo', '987654321', '|', 'rev', '|', 'cut', '-c<FLAG_SUFFIX>Number', '4-', '|', 'rev'], ['echo', '$PATH', '|', 'tr', '\":\"', '\"\\\\n\"', '|', 'grep', '-v<FLAG_SUFFIX>', '$1', '|', 'tr', '\"\\\\n\"', '\":\"'], [], [], [], ['find', '.', '-type<FLAG_SUFFIX>Type', 'f', '-iname<FLAG_SUFFIX>Regex', \"'*.txt'\", '-print0<FLAG_SUFFIX>', '|', 'xargs', '-0<FLAG_SUFFIX>', '-I<FLAG_SUFFIX>ReservedWord', '{}', 'rename', '.txt', '.abc', '{}'], ['mv', '$1', '$(', 'echo', '$1', '|', 'tr', \"'[:upper:]'\", \"'[:lower:]'\", ')'], ['find', '.', '-name<FLAG_SUFFIX>Regex', '\\\\*.c', '-print<FLAG_SUFFIX>'], ['echo', '-e<FLAG_SUFFIX>', '$(', 'echo', '-n<FLAG_SUFFIX>', '-e<FLAG_SUFFIX>', '\"${FOO}\"', '|', 'wc', '-m<FLAG_SUFFIX>', ')'], ['grep', '\"^core id\"', '/proc/cpuinfo', '|', 'sort', '-u<FLAG_SUFFIX>', '|', 'wc', '-l<FLAG_SUFFIX>'], ['grep', \"'^core id'\", '/proc/cpuinfo', '|', 'sort', '-u<FLAG_SUFFIX>', '|', 'wc', '-l<FLAG_SUFFIX>'], ['date', '-d<FLAG_SUFFIX>', '$(', 'date', '+%F', ')', '+%s'], ['echo', '$input', '|', 'fold', '-w<FLAG_SUFFIX>Quantity', '4', '|', 'tac', '|', 'tr', '-d<FLAG_SUFFIX>', '\\\\\\\\n'], ['echo', '\"command\"', '|', 'ssh', 'user@host'], [], [], ['echo', '\"su whoami\"', '|', 'ssh', 'remotehost'], [], [], [], [], [], [], ['$(', 'date', '--date<FLAG_SUFFIX>Regex', '\"222 days ago\"', '+\"%d\"', ')'], ['echo', '$(', 'date', '-d<FLAG_SUFFIX>Regex', '\"20131220\"', '+%j', ')'], ['hostname', '-f<FLAG_SUFFIX>'], ['history', '|', 'tail', '-<FLAG_SUFFIX>Quantity', '1', '|', 'grep', 'myscript.sh'], [], [], ['gunzip', '-c<FLAG_SUFFIX>', 'mygzfile.gz', '|', 'grep', '\"string to be searched\"'], ['find', '/dir', '-regex<FLAG_SUFFIX>Regex', \"'.*2015.*\\\\(album.*\\\\|picture.*\\\\)'\"], ['find', '/usr', '-inum<FLAG_SUFFIX>Quantity', '1234', '-print<FLAG_SUFFIX>'], ['find', '.', '-type<FLAG_SUFFIX>Type', 'f', '-name<FLAG_SUFFIX>Regex', '\"*.jpg\"'], ['find', '.', '-maxdepth<FLAG_SUFFIX>Quantity', '1', '-type<FLAG_SUFFIX>Type', 'f', '-perm<FLAG_SUFFIX>Permission', '-ugo=x'], ['find', '.', 'type', '-f<FLAG_SUFFIX>', '-ctime<FLAG_SUFFIX>Timespan', '-2'], ['find', '.', 'type', '-f<FLAG_SUFFIX>', '-mtime<FLAG_SUFFIX>Timespan', '2'], ['find', '.', '-type<FLAG_SUFFIX>Type', 'f', '-name<FLAG_SUFFIX>Regex', '\"*.$extension\"'], ['find', '.', '-type<FLAG_SUFFIX>Type', 'f', '-name<FLAG_SUFFIX>Regex', '\"*.wav\"', '|', 'grep', 'export'], ['find', '.', '-name<FLAG_SUFFIX>Regex', \"'*.rb'\", '!', '-wholename<FLAG_SUFFIX>Regex', '\"./vendor/*\"', '-print<FLAG_SUFFIX>'], ['find', '|', 'grep', '-E<FLAG_SUFFIX>', 'string'], ['find', '.', '-type<FLAG_SUFFIX>Type', 'f', '-ctime<FLAG_SUFFIX>Timespan', '+14'], ['find', '.', '-type<FLAG_SUFFIX>Type', 'f', '-ctime<FLAG_SUFFIX>Timespan', '$FTIME'], ['find', '.', '-type<FLAG_SUFFIX>Type', 'f', '-name<FLAG_SUFFIX>Regex', '\"*keep.${SUFFIX}\"'], ['find', '.', '-type<FLAG_SUFFIX>Type', 'l', '-name<FLAG_SUFFIX>Regex', 'link1'], ['find', '/Users/david/Desktop/', '-type<FLAG_SUFFIX>Type', 'f'], ['find', '\"$DIR\"', '-name<FLAG_SUFFIX>Regex', '\\\\*.txt'], ['find', '\"${DIR}\"', '-name<FLAG_SUFFIX>Regex', '\"*.txt\"'], ['find', '$DIR', '-name<FLAG_SUFFIX>Regex', '\"*.txt\"'], ['find', '$DIR', '-name<FLAG_SUFFIX>Regex', '\"*.txt\"', '-print<FLAG_SUFFIX>'], ['find', '/tmp', '-type<FLAG_SUFFIX>Type', 'f', '-print0<FLAG_SUFFIX>'], [], ['find', '.', '-exec<FLAG_SUFFIX>UTILITY', 'grep', '-l<FLAG_SUFFIX>', 'foo', '{}', '\\\\;'], ['find', '.', '-exec<FLAG_SUFFIX>UTILITY', 'grep', 'foo', '{}', '+'], ['find', '.', '-exec<FLAG_SUFFIX>UTILITY', 'grep', 'foo', '{}', '\\\\;'], ['find', '.', '-iname<FLAG_SUFFIX>Regex', '\"$srch1*\"', '-exec<FLAG_SUFFIX>UTILITY', 'grep', '\"It took\"', '{}', '\\\\;', '-print<FLAG_SUFFIX>'], [], ['find', './', '-type<FLAG_SUFFIX>Type', 'f', '-exec<FLAG_SUFFIX>UTILITY', 'grep', '-l<FLAG_SUFFIX>', '\"Text To Find\"', '{}', '\\\\;'], ['find', '/', '-type<FLAG_SUFFIX>Type', 'f', '-name<FLAG_SUFFIX>Regex', '*.zip', '-size<FLAG_SUFFIX>Size', '+100M', '-exec<FLAG_SUFFIX>UTILITY', 'rm', '-i<FLAG_SUFFIX>', '{}', '\\\\;'], ['find', '-name<FLAG_SUFFIX>Regex', 'file', '-quit'], ['find', '.', '-name<FLAG_SUFFIX>Regex', '\\\\*.c', '-print<FLAG_SUFFIX>'], ['find', '.', '-mindepth<FLAG_SUFFIX>Quantity', '1', '-maxdepth<FLAG_SUFFIX>Quantity', '1', '-type<FLAG_SUFFIX>Type', 'd'], ['find', '.', '-follow<FLAG_SUFFIX>', '-inum<FLAG_SUFFIX>Quantity', '41525360'], ['find', '.', '-type<FLAG_SUFFIX>Type', 'f', '-print0<FLAG_SUFFIX>', '|', 'xargs', '-0<FLAG_SUFFIX>', '-I<FLAG_SUFFIX>ReservedWord', '{}', 'grep', '-c<FLAG_SUFFIX>', '-H<FLAG_SUFFIX>', \"'.'\", '{}', '|', 'grep', \"':16$'\"], [], [], ['find', '/', '-type<FLAG_SUFFIX>Type', 'd', '-name<FLAG_SUFFIX>Regex', '\"ora10\"'], [], ['find', '/nfs/office', '-name<FLAG_SUFFIX>Regex', '.user.log', '-print<FLAG_SUFFIX>'], ['find', '~', '-name<FLAG_SUFFIX>Regex', 'myletter.doc', '-print<FLAG_SUFFIX>'], ['find', '.', '-perm<FLAG_SUFFIX>Permission', '-444', '-perm<FLAG_SUFFIX>Permission', '/222', '!', '-perm<FLAG_SUFFIX>Permission', '/111'], ['find', 'var/log/', '-iname<FLAG_SUFFIX>Regex', 'anaconda.*'], ['find', 'var/log/', '-iname<FLAG_SUFFIX>Regex', 'anaconda.*', '-exec<FLAG_SUFFIX>UTILITY', 'tar', '-c<FLAG_SUFFIX>', '-v<FLAG_SUFFIX>', '-f<FLAG_SUFFIX>', 'file.tar', '{}', '\\\\;'], ['find', '.', '-maxdepth<FLAG_SUFFIX>Quantity', 'num', '-name<FLAG_SUFFIX>Regex', 'query'], ['find', '/usr', '-name<FLAG_SUFFIX>Regex', 'temp', '-atime<FLAG_SUFFIX>Timespan', '+7', '-print<FLAG_SUFFIX>'], ['find', '\"Test Folder\"', '-type<FLAG_SUFFIX>Type', 'd', '-name<FLAG_SUFFIX>Regex', \"'.dummy'\", '-delete<FLAG_SUFFIX>'], ['find', '\"Test Folder\"', '-type<FLAG_SUFFIX>Type', 'd', '-name<FLAG_SUFFIX>Regex', '.dummy', '-exec<FLAG_SUFFIX>UTILITY', 'rm', '-r<FLAG_SUFFIX>', '-f<FLAG_SUFFIX>', '\\\\\"{}\\\\\"', '\\\\;'], ['nl', '-b<FLAG_SUFFIX>Option', 'a', '-n<FLAG_SUFFIX>Format', 'ln', 'active_record.rb', '|', 'grep', '-C<FLAG_SUFFIX>Quantity', '2', \"'^111 '\"], ['find', '.', '-name<FLAG_SUFFIX>Regex', \"'*.pl'\", '|', 'xargs', '-I<FLAG_SUFFIX>ReservedWord', '{}', 'grep', '-L<FLAG_SUFFIX>', \"'^use strict'\", '{}'], ['find', '/', '-type<FLAG_SUFFIX>Type', 'f', '-print0<FLAG_SUFFIX>', '|', 'xargs', '-0<FLAG_SUFFIX>', '-I<FLAG_SUFFIX>ReservedWord', '{}', 'grep', '-i<FLAG_SUFFIX>', 'pattern', '{}'], ['find', '\"$DIR\"', '-type<FLAG_SUFFIX>Type', 'f', '-exec<FLAG_SUFFIX>UTILITY', 'grep', '-q<FLAG_SUFFIX>', '\"$SEARCH\"', '{}', '+'], ['find', '\"$DIR\"', '-type<FLAG_SUFFIX>Type', 'f', '-exec<FLAG_SUFFIX>UTILITY', 'grep', '\"$SEARCH\"', '{}', '\\\\;'], ['find', './', '-type<FLAG_SUFFIX>Type', 'f', '-name<FLAG_SUFFIX>Regex', '\"*\"', '!', '-path<FLAG_SUFFIX>Regex', '\"./.*\"', '!', '-path<FLAG_SUFFIX>Regex', '\"./*/.*\"'], [], ['find', '/home/hobbes/', '/home/calvin/', '-name<FLAG_SUFFIX>Regex', '\"*.txt\"'], [], ['find', '~/', '-mtime<FLAG_SUFFIX>Timespan', '-2', '-or', 'newer', 'filename'], ['find', '.', '-path<FLAG_SUFFIX>Regex', './D', '-prune', '-or', '-name<FLAG_SUFFIX>Regex', 'hi.dat', '-print<FLAG_SUFFIX>'], ['find', '.', '\\\\(', '-name<FLAG_SUFFIX>Regex', 'D', '-prune', '\\\\)', '-or', '-name<FLAG_SUFFIX>Regex', 'hi.dat'], ['find', '.', '-size<FLAG_SUFFIX>Size', '+10c', '-print<FLAG_SUFFIX>'], ['find', '/', '-links<FLAG_SUFFIX>Quantity', '-2', '-print<FLAG_SUFFIX>'], ['find', 'my_folder', '-type<FLAG_SUFFIX>Type', 'f', '-exec<FLAG_SUFFIX>UTILITY', 'grep', '-l<FLAG_SUFFIX>', '\"needle text\"', '{}', '\\\\;', '-exec<FLAG_SUFFIX>UTILITY', 'file', '{}', '\\\\;', '|', 'grep', 'text'], ['find', '.', '-type<FLAG_SUFFIX>Type', 'f', '-exec<FLAG_SUFFIX>UTILITY', 'grep', '-H<FLAG_SUFFIX>', '-n<FLAG_SUFFIX>', '\"texthere\"', '{}', '+'], ['find', '.', '-type<FLAG_SUFFIX>Type', 'f', '-exec<FLAG_SUFFIX>UTILITY', 'grep', '-H<FLAG_SUFFIX>', 'whatever', '{}', '\\\\;'], ['find', '.', '-type<FLAG_SUFFIX>Type', 'f', '|', 'xargs', '-L<FLAG_SUFFIX>Quantity', '100', '-I<FLAG_SUFFIX>ReservedWord', '{}', 'grep', 'whatever', '{}'], ['find', '.', '-type<FLAG_SUFFIX>Type', 'f', '|', 'xargs', '-I<FLAG_SUFFIX>ReservedWord', '{}', 'grep', 'whatever', '{}'], ['find', '/', '-user<FLAG_SUFFIX>Regex', 'admin', '-print<FLAG_SUFFIX>'], ['find', '/home/user1', '-name<FLAG_SUFFIX>Regex', '\\\\*.bin'], ['find', '.', '-type<FLAG_SUFFIX>Type', 'f', '-perm<FLAG_SUFFIX>Permission', '-110'], ['cat', 'my_ips', '|', 'xargs', '-i<FLAG_SUFFIX>', '-I<FLAG_SUFFIX>ReservedWord', '{}', 'dig', '-x<FLAG_SUFFIX>Regex', '{}', '+short', '{}'], [], ['find', '/', '-links<FLAG_SUFFIX>Quantity', '+2', '-print<FLAG_SUFFIX>'], [], [], [], ['find', 'arch/x86/usr/sbin', 'arch/x86/usr/X11R6/bin', 'usr/sbin/', '-type<FLAG_SUFFIX>Type', 'f', '|', 'xargs', '-I<FLAG_SUFFIX>ReservedWord', '{}', 'chmod', 'a+x', '{}'], ['ssh', '-f<FLAG_SUFFIX>', '-N<FLAG_SUFFIX>', '-T<FLAG_SUFFIX>', '-L<FLAG_SUFFIX>Regex', '8888:proxyhost:8888', '-R<FLAG_SUFFIX>Regex', '22222:localhost:22', 'officefirewall'], ['echo', '$var', '|', 'rev'], ['$(', 'which', 'bzip2', ')'], [], ['find', '.', '-type<FLAG_SUFFIX>Type', 'd', '\\\\(', '-name<FLAG_SUFFIX>Regex', 'media', '-or', '-name<FLAG_SUFFIX>Regex', 'images', '-or', '-name<FLAG_SUFFIX>Regex', 'backups', '\\\\)', '-prune', '-or', '-print<FLAG_SUFFIX>'], ['file', '*/*.php', '|', 'grep', 'UTF'], ['find', '/', '-mmin<FLAG_SUFFIX>Quantity', '-1', '-print<FLAG_SUFFIX>'], [], ['pstree', '-a<FLAG_SUFFIX>', '-p<FLAG_SUFFIX>', '20238'], ['echo', '\"${line}\"', '|', 'grep', '-E<FLAG_SUFFIX>', '--invert-match<FLAG_SUFFIX>', \"'^($|\\\\s*#|\\\\s*[[:alnum:]_]+=)'\"], [], ['read', '-s<FLAG_SUFFIX>', '-p<FLAG_SUFFIX>Regex', '\"Enter your password: \"', 'passwd'], ['read', '-n<FLAG_SUFFIX>Quantity', '1', '-s<FLAG_SUFFIX>'], ['read', '-r<FLAG_SUFFIX>', '-s<FLAG_SUFFIX>', '-p<FLAG_SUFFIX>', \"$'Press escape to continue...\\\\n'\", '-d<FLAG_SUFFIX>Regex', \"$'\\\\e'\"], ['sleep', '1'], ['sort', '-S<FLAG_SUFFIX>Size', '50%', 'file'], ['sort', '-u<FLAG_SUFFIX>', '-o<FLAG_SUFFIX>File', 'file', '!#$'], ['find', '.', '-name<FLAG_SUFFIX>Regex', '\"*.txt\"', '-type<FLAG_SUFFIX>Type', 'f', '-daystart<FLAG_SUFFIX>', '-mtime<FLAG_SUFFIX>Timespan', '-91', '-mtime<FLAG_SUFFIX>Timespan', '+2', '|', 'xargs', '-I<FLAG_SUFFIX>ReservedWord', '{}', 'cat', '{}', '|', 'sort', '|', 'uniq'], ['cat', 'file1', 'file2', '|', 'sort', '-t<FLAG_SUFFIX>Regex', '.', '-k<FLAG_SUFFIX>Number', '2.1'], ['split', '-l<FLAG_SUFFIX>Quantity', '200000', 'mybigfile.txt'], ['split', '-l<FLAG_SUFFIX>Quantity', '100', '\"$SOURCE_FILE\"'], [], [], [], [], [], [], [], [], [], [], ['zcat', 'compressFileName', '|', 'tar', '-x<FLAG_SUFFIX>', '-v<FLAG_SUFFIX>', '-f<FLAG_SUFFIX>', '-'], ['find', '/u/netinst', '-print<FLAG_SUFFIX>', '|', 'xargs', '-I<FLAG_SUFFIX>ReservedWord', '{}', 'chmod', '500', '{}'], ['find', '.', '-print<FLAG_SUFFIX>', '-exec<FLAG_SUFFIX>UTILITY', 'touch', '{}', '\\\\;'], ['who', '--ips<FLAG_SUFFIX>', '/var/log/wtmp', '|', 'grep', \"'^msw.*127.0.0.1'\"], [], ['find', '.', '...', '-exec<FLAG_SUFFIX>UTILITY', 'cat', '{}', '\\\\;', '-exec<FLAG_SUFFIX>UTILITY', 'echo', '\\\\;'], [], [], [], [], ['chown', '-v<FLAG_SUFFIX>', 'root', '\"$file\"'], ['mkdir', '-p<FLAG_SUFFIX>', '-v<FLAG_SUFFIX>', '/tmp/boostinst'], [], ['echo', '\"myname=\\\\\"Test\\\\\"\"', '|', 'tee', '--append<FLAG_SUFFIX>', '$CONFIG'], [], [], [], [], []]\n"
     ]
    },
    {
     "ename": "NameError",
     "evalue": "name 'save_channel_features_to_file' is not defined",
     "output_type": "error",
     "traceback": [
      "\u001b[0;31m---------------------------------------------------------------------------\u001b[0m",
      "\u001b[0;31mNameError\u001b[0m                                 Traceback (most recent call last)",
      "\u001b[0;32m<ipython-input-28-365b965e6d5c>\u001b[0m in \u001b[0;36m<module>\u001b[0;34m\u001b[0m\n\u001b[1;32m      1\u001b[0m prepare_channel(data_dir, nl_list, cm_list, split, channel='token',\n\u001b[0;32m----> 2\u001b[0;31m                         parallel_data_to_tokens=parallel_data_to_tokens)\n\u001b[0m",
      "\u001b[0;32m<ipython-input-27-61f39eb68914>\u001b[0m in \u001b[0;36mprepare_channel\u001b[0;34m(data_dir, nl_list, cm_list, split, channel, parallel_data_to_tokens)\u001b[0m\n\u001b[1;32m      8\u001b[0m     \u001b[0mprint\u001b[0m\u001b[0;34m(\u001b[0m\u001b[0mcm_tokens\u001b[0m\u001b[0;34m)\u001b[0m\u001b[0;34m\u001b[0m\u001b[0;34m\u001b[0m\u001b[0m\n\u001b[1;32m      9\u001b[0m \u001b[0;34m\u001b[0m\u001b[0m\n\u001b[0;32m---> 10\u001b[0;31m     save_channel_features_to_file(data_dir, split, channel, nl_tokens, cm_tokens,\n\u001b[0m\u001b[1;32m     11\u001b[0m                                   feature_separator=TOKEN_SEPARATOR)\n\u001b[1;32m     12\u001b[0m     \u001b[0;31m# Create or load vocabulary\u001b[0m\u001b[0;34m\u001b[0m\u001b[0;34m\u001b[0m\u001b[0;34m\u001b[0m\u001b[0m\n",
      "\u001b[0;31mNameError\u001b[0m: name 'save_channel_features_to_file' is not defined"
     ]
    }
   ],
   "source": [
    "prepare_channel(data_dir, nl_list, cm_list, split, channel='token',\n",
    "                        parallel_data_to_tokens=parallel_data_to_tokens)"
   ]
  },
  {
   "cell_type": "code",
   "execution_count": null,
   "metadata": {},
   "outputs": [],
   "source": []
  }
 ],
 "metadata": {
  "kernelspec": {
   "display_name": "Python 3",
   "language": "python",
   "name": "python3"
  },
  "language_info": {
   "codemirror_mode": {
    "name": "ipython",
    "version": 3
   },
   "file_extension": ".py",
   "mimetype": "text/x-python",
   "name": "python",
   "nbconvert_exporter": "python",
   "pygments_lexer": "ipython3",
   "version": "3.7.2"
  }
 },
 "nbformat": 4,
 "nbformat_minor": 4
}
