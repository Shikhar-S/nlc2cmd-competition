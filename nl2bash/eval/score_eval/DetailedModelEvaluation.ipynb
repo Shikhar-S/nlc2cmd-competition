{
 "cells": [
  {
   "cell_type": "markdown",
   "metadata": {},
   "source": [
    "## Detailed Model Evaluation\n",
    "\n",
    "I tried to make a framework for in-depth evaluation of model predictions. I probably made some mistakes, tell me if you see any!\n",
    "\n",
    "This is mostly just for showcasing/development; what is here is encased in functions in `metric_utils.py`. "
   ]
  },
  {
   "cell_type": "code",
   "execution_count": 1,
   "metadata": {},
   "outputs": [
    {
     "name": "stderr",
     "output_type": "stream",
     "text": [
      "WARNING: Token 'COND_ERROR' defined, but not used\n",
      "WARNING: There is 1 unused token\n"
     ]
    },
    {
     "name": "stdout",
     "output_type": "stream",
     "text": [
      "Bashlint grammar set up (124 utilities)\n",
      "\n"
     ]
    },
    {
     "name": "stderr",
     "output_type": "stream",
     "text": [
      "/home/greenmon/.pyenv/versions/3.7.2/lib/python3.7/site-packages/pandas/compat/__init__.py:117: UserWarning: Could not import the lzma module. Your installed Python is incomplete. Attempting to use lzma compression will result in a RuntimeError.\n",
      "  warnings.warn(msg)\n"
     ]
    }
   ],
   "source": [
    "%matplotlib inline\n",
    "from nl2bash import bashlint\n",
    "import pandas\n",
    "import numpy as np\n",
    "import metric_utils\n",
    "import matplotlib.pyplot as plt"
   ]
  },
  {
   "cell_type": "code",
   "execution_count": 27,
   "metadata": {},
   "outputs": [],
   "source": [
    "# reading csv file\n",
    "result_path = '../../model/seq2seq/bash-T-4-birnn-gru-standard-attention-0.6-0.6-0.0-copy-1.0-128-200-1-0.0001-1e-08-0.6-0.6-0.6-0.6/predictions.beam_search.100.dev.latest.csv'\n",
    "result_df = pandas.read_csv(result_path)"
   ]
  },
  {
   "cell_type": "code",
   "execution_count": 28,
   "metadata": {},
   "outputs": [
    {
     "data": {
      "text/html": [
       "<div>\n",
       "<style scoped>\n",
       "    .dataframe tbody tr th:only-of-type {\n",
       "        vertical-align: middle;\n",
       "    }\n",
       "\n",
       "    .dataframe tbody tr th {\n",
       "        vertical-align: top;\n",
       "    }\n",
       "\n",
       "    .dataframe thead th {\n",
       "        text-align: right;\n",
       "    }\n",
       "</style>\n",
       "<table border=\"1\" class=\"dataframe\">\n",
       "  <thead>\n",
       "    <tr style=\"text-align: right;\">\n",
       "      <th></th>\n",
       "      <th>example_id</th>\n",
       "      <th>description</th>\n",
       "      <th>ground_truth</th>\n",
       "      <th>prediction</th>\n",
       "      <th>correct template</th>\n",
       "      <th>correct command</th>\n",
       "    </tr>\n",
       "  </thead>\n",
       "  <tbody>\n",
       "    <tr>\n",
       "      <th>0</th>\n",
       "      <td>b'0</td>\n",
       "      <td>Adds execution permissions on a script ./etc/b...</td>\n",
       "      <td>chmod +x $(brew --prefix)/etc/bash_completion</td>\n",
       "      <td>find __SP__UNK -type d -exec chmod +x {} \\\\;</td>\n",
       "      <td>'</td>\n",
       "      <td>NaN</td>\n",
       "    </tr>\n",
       "    <tr>\n",
       "      <th>1</th>\n",
       "      <td>b'</td>\n",
       "      <td>NaN</td>\n",
       "      <td>NaN</td>\n",
       "      <td>find __SP__UNK -type d -exec chmod __SP__UNK {...</td>\n",
       "      <td>'</td>\n",
       "      <td>NaN</td>\n",
       "    </tr>\n",
       "    <tr>\n",
       "      <th>2</th>\n",
       "      <td>b'</td>\n",
       "      <td>NaN</td>\n",
       "      <td>NaN</td>\n",
       "      <td>find __SP__UNK -type d -exec chmod ./etc/bash_...</td>\n",
       "      <td>'</td>\n",
       "      <td>NaN</td>\n",
       "    </tr>\n",
       "    <tr>\n",
       "      <th>3</th>\n",
       "      <td>b'</td>\n",
       "      <td>NaN</td>\n",
       "      <td>NaN</td>\n",
       "      <td>find __SP__UNK -type f -exec chmod +x {} \\\\;</td>\n",
       "      <td>'</td>\n",
       "      <td>NaN</td>\n",
       "    </tr>\n",
       "    <tr>\n",
       "      <th>4</th>\n",
       "      <td>b'</td>\n",
       "      <td>NaN</td>\n",
       "      <td>NaN</td>\n",
       "      <td>find __SP__UNK -type d -exec chmod Homebrew {}...</td>\n",
       "      <td>'</td>\n",
       "      <td>NaN</td>\n",
       "    </tr>\n",
       "    <tr>\n",
       "      <th>5</th>\n",
       "      <td>b'1</td>\n",
       "      <td>Add prefix like number and \"^M${LOGFILE}&gt; \" to...</td>\n",
       "      <td>nl -s\"^M${LOGFILE}&gt;  \"</td>\n",
       "      <td>nl -n __SP__UNK</td>\n",
       "      <td>'</td>\n",
       "      <td>NaN</td>\n",
       "    </tr>\n",
       "    <tr>\n",
       "      <th>6</th>\n",
       "      <td>b'</td>\n",
       "      <td>NaN</td>\n",
       "      <td>NaN</td>\n",
       "      <td>nl -n __SP__UNK | xargs -n 1 -I {} echo {}</td>\n",
       "      <td>'</td>\n",
       "      <td>NaN</td>\n",
       "    </tr>\n",
       "    <tr>\n",
       "      <th>7</th>\n",
       "      <td>b'</td>\n",
       "      <td>NaN</td>\n",
       "      <td>NaN</td>\n",
       "      <td>nl -n __SP__UNK -w \"^M${LOGFILE}&gt; \" | nl</td>\n",
       "      <td>'</td>\n",
       "      <td>NaN</td>\n",
       "    </tr>\n",
       "    <tr>\n",
       "      <th>8</th>\n",
       "      <td>b'</td>\n",
       "      <td>NaN</td>\n",
       "      <td>NaN</td>\n",
       "      <td>zcat file.gz | xargs -n 1 -I {} echo {}</td>\n",
       "      <td>'</td>\n",
       "      <td>NaN</td>\n",
       "    </tr>\n",
       "    <tr>\n",
       "      <th>9</th>\n",
       "      <td>b'</td>\n",
       "      <td>NaN</td>\n",
       "      <td>NaN</td>\n",
       "      <td>nl -n __SP__UNK -w \"^M${LOGFILE}&gt; \" | xargs -n...</td>\n",
       "      <td>'</td>\n",
       "      <td>NaN</td>\n",
       "    </tr>\n",
       "  </tbody>\n",
       "</table>\n",
       "</div>"
      ],
      "text/plain": [
       "  example_id                                        description  \\\n",
       "0        b'0  Adds execution permissions on a script ./etc/b...   \n",
       "1         b'                                                NaN   \n",
       "2         b'                                                NaN   \n",
       "3         b'                                                NaN   \n",
       "4         b'                                                NaN   \n",
       "5        b'1  Add prefix like number and \"^M${LOGFILE}> \" to...   \n",
       "6         b'                                                NaN   \n",
       "7         b'                                                NaN   \n",
       "8         b'                                                NaN   \n",
       "9         b'                                                NaN   \n",
       "\n",
       "                                    ground_truth  \\\n",
       "0  chmod +x $(brew --prefix)/etc/bash_completion   \n",
       "1                                            NaN   \n",
       "2                                            NaN   \n",
       "3                                            NaN   \n",
       "4                                            NaN   \n",
       "5                         nl -s\"^M${LOGFILE}>  \"   \n",
       "6                                            NaN   \n",
       "7                                            NaN   \n",
       "8                                            NaN   \n",
       "9                                            NaN   \n",
       "\n",
       "                                          prediction  correct template  \\\n",
       "0       find __SP__UNK -type d -exec chmod +x {} \\\\;                 '   \n",
       "1  find __SP__UNK -type d -exec chmod __SP__UNK {...                 '   \n",
       "2  find __SP__UNK -type d -exec chmod ./etc/bash_...                 '   \n",
       "3       find __SP__UNK -type f -exec chmod +x {} \\\\;                 '   \n",
       "4  find __SP__UNK -type d -exec chmod Homebrew {}...                 '   \n",
       "5                                    nl -n __SP__UNK                 '   \n",
       "6         nl -n __SP__UNK | xargs -n 1 -I {} echo {}                 '   \n",
       "7           nl -n __SP__UNK -w \"^M${LOGFILE}> \" | nl                 '   \n",
       "8            zcat file.gz | xargs -n 1 -I {} echo {}                 '   \n",
       "9  nl -n __SP__UNK -w \"^M${LOGFILE}> \" | xargs -n...                 '   \n",
       "\n",
       "   correct command  \n",
       "0              NaN  \n",
       "1              NaN  \n",
       "2              NaN  \n",
       "3              NaN  \n",
       "4              NaN  \n",
       "5              NaN  \n",
       "6              NaN  \n",
       "7              NaN  \n",
       "8              NaN  \n",
       "9              NaN  "
      ]
     },
     "execution_count": 28,
     "metadata": {},
     "output_type": "execute_result"
    }
   ],
   "source": [
    "result_df.head(10) # correct template, correct command are meaningless.."
   ]
  },
  {
   "cell_type": "code",
   "execution_count": 29,
   "metadata": {},
   "outputs": [],
   "source": [
    "eval_data = []\n",
    "\n",
    "for idx, row in result_df.iterrows():\n",
    "    data_index = row.example_id[2:]\n",
    "    if len(data_index) != 0:\n",
    "        eval_data.append(\n",
    "            metric_utils.EvalDataPoint(int(data_index))\n",
    "        )\n",
    "    \n",
    "    if row[' description'] == row[' description']: # nan detection\n",
    "        eval_data[-1].description = row[' description']\n",
    "    \n",
    "    if row[' ground_truth'] == row[' ground_truth']:\n",
    "        eval_data[-1].gt_data.append(row[' ground_truth'])\n",
    "    \n",
    "    if row[' prediction'] == row[' prediction']:\n",
    "        eval_data[-1].pred_data.append(row[' prediction'])"
   ]
  },
  {
   "cell_type": "markdown",
   "metadata": {},
   "source": [
    "## Actual Evaluation"
   ]
  },
  {
   "cell_type": "code",
   "execution_count": 30,
   "metadata": {},
   "outputs": [],
   "source": [
    "# functions from src/evaluate.py\n",
    "def get_score(prediction_scores):\n",
    "    score = -1.0\n",
    "    if len(prediction_scores) == 0:\n",
    "        return score\n",
    "\n",
    "    has_positive_score = True in [x > 0 for x in prediction_scores]\n",
    "\n",
    "    if has_positive_score:\n",
    "        score = max(prediction_scores)\n",
    "    else:\n",
    "        score = sum(prediction_scores) / float(len(prediction_scores))\n",
    "\n",
    "    return score\n",
    "\n",
    "def compute_score(ground_truths, predicted_cmds, predicted_confds, metric_params, verbose=False):\n",
    "    \n",
    "    prediction_scores = []\n",
    "\n",
    "    for grnd_truth_cmd in ground_truths:\n",
    "        for i, predicted_cmd in enumerate(predicted_cmds):\n",
    "            \n",
    "            if predicted_cmd is None or len(predicted_cmd) == 0:\n",
    "                continue\n",
    "            \n",
    "            predicted_confidence = predicted_confds[i]\n",
    "            pair_score = metric_utils.compute_metric(predicted_cmd, predicted_confidence, grnd_truth_cmd, metric_params)\n",
    "            prediction_scores.append(pair_score)\n",
    "\n",
    "    score = get_score(prediction_scores)\n",
    "\n",
    "    if verbose:\n",
    "        print('-' * 50)\n",
    "        print(f'Ground truth: {ground_truths}')\n",
    "        print(f'Predictions: {predicted_cmds}')\n",
    "        print(f'Prediction scores: {prediction_scores}')\n",
    "        print(f'Score: {score}')\n",
    "\n",
    "    return score"
   ]
  },
  {
   "cell_type": "code",
   "execution_count": 31,
   "metadata": {},
   "outputs": [
    {
     "name": "stdout",
     "output_type": "stream",
     "text": [
      "--------------------------------------------------\n",
      "Ground truth: ['chmod +x $(brew --prefix)/etc/bash_completion']\n",
      "Predictions: ['find __SP__UNK -type d -exec chmod +x {} \\\\\\\\;', 'find __SP__UNK -type d -exec chmod __SP__UNK {} \\\\\\\\;', 'find __SP__UNK -type d -exec chmod ./etc/bash_completion {} \\\\\\\\;', 'find __SP__UNK -type f -exec chmod +x {} \\\\\\\\;', 'find __SP__UNK -type d -exec chmod Homebrew {} \\\\\\\\;']\n",
      "Prediction scores: [-1.0, -1.0, -1.0, -1.0, -1.0]\n",
      "Score: -1.0\n"
     ]
    },
    {
     "data": {
      "text/plain": [
       "-1.0"
      ]
     },
     "execution_count": 31,
     "metadata": {},
     "output_type": "execute_result"
    }
   ],
   "source": [
    "# single datapoint showcase\n",
    "params = {\n",
    "  \"u1\": 1.0,\n",
    "  \"u2\": 1.0\n",
    "}\n",
    "\n",
    "def dp2score(dp, params=params, verbose=False):\n",
    "    # justa a quality-of-life function\n",
    "    return compute_score(dp.gt_data, dp.pred_data, [1]*len(dp.pred_data), params, verbose=verbose)\n",
    "\n",
    "dp2score(eval_data[0], verbose=True)"
   ]
  },
  {
   "cell_type": "code",
   "execution_count": 32,
   "metadata": {},
   "outputs": [
    {
     "name": "stdout",
     "output_type": "stream",
     "text": [
      "--------------------------------------------------\n",
      "Ground truth: ['rsync -rvz --chmod=ugo=rwX -e ssh source destination']\n",
      "Predictions: ['rsync -rvz --chmod=ugo=rwX -e ssh source destination']\n",
      "Prediction scores: [0.0]\n",
      "Score: 0.0\n"
     ]
    },
    {
     "data": {
      "text/plain": [
       "0.0"
      ]
     },
     "execution_count": 32,
     "metadata": {},
     "output_type": "execute_result"
    }
   ],
   "source": [
    "# ok, so... we should probably filter out cases where gt marked on gt doesn't get perfect score.\n",
    "\n",
    "# Example:\n",
    "dp = eval_data[8]\n",
    "compute_score(dp.gt_data, dp.gt_data, [1]*len(dp.pred_data), params, verbose=True)"
   ]
  },
  {
   "cell_type": "code",
   "execution_count": 33,
   "metadata": {},
   "outputs": [
    {
     "name": "stdout",
     "output_type": "stream",
     "text": [
      "Before filtered: 701\n",
      "After filtered: 505\n"
     ]
    }
   ],
   "source": [
    "# Filtering:\n",
    "filter_func = lambda dp: compute_score(dp.gt_data, dp.gt_data, [1]*len(dp.gt_data), params) != 0.\n",
    "filtered_data = list(filter(filter_func, eval_data))\n",
    "print('Before filtered:', len(eval_data))\n",
    "print('After filtered:', len(filtered_data))"
   ]
  },
  {
   "cell_type": "code",
   "execution_count": 34,
   "metadata": {},
   "outputs": [],
   "source": [
    "# calculating scores takes some time actually\n",
    "all_scores = list(map(dp2score, filtered_data))"
   ]
  },
  {
   "cell_type": "code",
   "execution_count": 35,
   "metadata": {},
   "outputs": [],
   "source": [
    "# filtering by score showcase\n",
    "threshold = 0.0\n",
    "with open(f'BadCases_{threshold}.txt', 'w') as f:\n",
    "    for score, dp in zip(all_scores, filtered_data):\n",
    "        if score < threshold:\n",
    "            print(f'----- ID: {dp.index} -----', file=f)\n",
    "            print(f'NLC:', file=f)\n",
    "            print(dp.description, file=f)\n",
    "            print(f'GT(s):', file=f)\n",
    "            print('\\n'.join(dp.gt_data), file=f)\n",
    "            print(f'Predictions:', file=f)\n",
    "            print('\\n'.join(dp.pred_data), file=f)\n",
    "            print(f'Score: {score}', file=f)"
   ]
  },
  {
   "cell_type": "code",
   "execution_count": 36,
   "metadata": {},
   "outputs": [
    {
     "name": "stdout",
     "output_type": "stream",
     "text": [
      "Total: 505\n",
      "Average: 0.23674967586044318\n",
      "Median: 0.5\n",
      "Number of perfect scores: 178\n",
      "Number of completely wrong: 62\n",
      "Positive scores: 321\n",
      "Sub-zero scores: 176\n",
      "Number of balanced: 8\n"
     ]
    },
    {
     "data": {
      "image/png": "[encoded data removed]",
      "text/plain": [
       "<Figure size 432x288 with 1 Axes>"
      ]
     },
     "metadata": {
      "needs_background": "light"
     },
     "output_type": "display_data"
    }
   ],
   "source": [
    "# score distribution showcase\n",
    "\n",
    "n_by_bin, _, _ = plt.hist(all_scores)\n",
    "plt.title('Score Distribution')\n",
    "\n",
    "print('Total:', len(all_scores))\n",
    "print('Average:', np.mean(all_scores))\n",
    "print('Median:', np.median(all_scores))\n",
    "print('Number of perfect scores:', len([e for e in all_scores if 1-e<1e-4]))\n",
    "print('Number of completely wrong:', len([e for e in all_scores if e+1<1e-4]))\n",
    "print('Positive scores:', len([e for e in all_scores if e > 0]))\n",
    "print('Sub-zero scores:', len([e for e in all_scores if e < 0]))\n",
    "print('Number of balanced:', len([e for e in all_scores if abs(e)<1e-4]))"
   ]
  },
  {
   "cell_type": "code",
   "execution_count": 38,
   "metadata": {},
   "outputs": [],
   "source": [
    "# util accuracy\n",
    "def compute_uacc(ground_truths, predicted_cmds, verbose=False):\n",
    "    prediction_scores = []\n",
    "    for grnd_truth_cmd in ground_truths:\n",
    "        for i, predicted_cmd in enumerate(predicted_cmds):\n",
    "            if predicted_cmd is None or len(predicted_cmd) == 0:\n",
    "                continue\n",
    "            pair_score = metric_utils.compute_util_acc(predicted_cmd, grnd_truth_cmd)\n",
    "            prediction_scores.append(pair_score)\n",
    "    score = get_score(prediction_scores)\n",
    "\n",
    "    if verbose:\n",
    "        print('-' * 50)\n",
    "        print(f'Ground truth: {ground_truths}')\n",
    "        print(f'Predictions: {predicted_cmds}')\n",
    "        print(f'Prediction scores: {prediction_scores}')\n",
    "        print(f'Score: {score}')\n",
    "\n",
    "    return score"
   ]
  },
  {
   "cell_type": "code",
   "execution_count": 39,
   "metadata": {},
   "outputs": [
    {
     "data": {
      "text/plain": [
       "<module 'metric_utils' from '/home/greenmon/Projects/nlc2cmd/clai/submission-code/src/submission_code/nlc2cmd/nl2bash/eval/score_eval/metric_utils.py'>"
      ]
     },
     "execution_count": 39,
     "metadata": {},
     "output_type": "execute_result"
    }
   ],
   "source": [
    "import importlib\n",
    "importlib.reload(metric_utils)"
   ]
  },
  {
   "cell_type": "code",
   "execution_count": 40,
   "metadata": {},
   "outputs": [],
   "source": [
    "uacc_mapper = lambda dp: compute_uacc(dp.gt_data, dp.pred_data)\n",
    "all_uaccs = list(map(uacc_mapper, filtered_data))"
   ]
  },
  {
   "cell_type": "code",
   "execution_count": 41,
   "metadata": {
    "scrolled": true
   },
   "outputs": [
    {
     "name": "stdout",
     "output_type": "stream",
     "text": [
      "0.7562093352192363\n"
     ]
    },
    {
     "data": {
      "image/png": "[encoded data removed]",
      "text/plain": [
       "<Figure size 432x288 with 1 Axes>"
      ]
     },
     "metadata": {
      "needs_background": "light"
     },
     "output_type": "display_data"
    }
   ],
   "source": [
    "plt.hist(all_uaccs) # negative exists because of no-answer scenarios, can be ignored\n",
    "print(np.mean(all_uaccs))"
   ]
  },
  {
   "cell_type": "code",
   "execution_count": 42,
   "metadata": {},
   "outputs": [],
   "source": [
    "# Where are we losing points, utility or flag?\n",
    "def get_loss(ulosses, flosses):\n",
    "    score = -1.0\n",
    "    if len(ulosses) == 0:\n",
    "        return (2, 0)\n",
    "\n",
    "    best_index = np.argmin(np.array(ulosses) + np.array(flosses))\n",
    "    return ulosses[best_index], flosses[best_index]\n",
    "\n",
    "def compute_loss(ground_truths, predicted_cmds, predicted_confds, metric_params, verbose=False):\n",
    "    \n",
    "    ulosses = []\n",
    "    flosses = []\n",
    "\n",
    "    for grnd_truth_cmd in ground_truths:\n",
    "        for i, predicted_cmd in enumerate(predicted_cmds):\n",
    "            \n",
    "            if predicted_cmd is None or len(predicted_cmd) == 0:\n",
    "                continue\n",
    "            \n",
    "            predicted_confidence = predicted_confds[i]\n",
    "            uloss, floss = metric_utils.compute_metric_loss(predicted_cmd, predicted_confidence, grnd_truth_cmd, metric_params)\n",
    "            ulosses.append(uloss)\n",
    "            flosses.append(floss)\n",
    "\n",
    "    best_uloss, best_floss = get_loss(ulosses, flosses)\n",
    "\n",
    "    if verbose:\n",
    "        print('-' * 50)\n",
    "        print(f'Ground truth: {ground_truths}')\n",
    "        print(f'Predictions: {predicted_cmds}')\n",
    "        print(ulosses, flosses)\n",
    "        print(f'Utility loss: {best_uloss}')\n",
    "        print(f'Flag loss: {best_floss}')\n",
    "\n",
    "    return best_uloss, best_floss\n",
    "\n",
    "def dp2loss(dp, params=params, verbose=False):\n",
    "    # justa a quality-of-life function\n",
    "    return compute_loss(dp.gt_data, dp.pred_data, [1]*len(dp.pred_data), params, verbose=verbose)"
   ]
  },
  {
   "cell_type": "code",
   "execution_count": 43,
   "metadata": {},
   "outputs": [
    {
     "name": "stdout",
     "output_type": "stream",
     "text": [
      "--------------------------------------------------\n",
      "Ground truth: ['nl -s\"^M${LOGFILE}>  \"']\n",
      "Predictions: ['nl -n __SP__UNK', 'nl -n __SP__UNK | xargs -n 1 -I {} echo {}', 'nl -n __SP__UNK -w \"^M${LOGFILE}> \" | nl', 'zcat file.gz | xargs -n 1 -I {} echo {}', 'nl -n __SP__UNK -w \"^M${LOGFILE}> \" | xargs -n 1 -I {} echo {}']\n",
      "Prediction scores: [-0.5, -0.8333333333333334, -0.625, -1.0, -0.75]\n",
      "Score: -0.7416666666666667\n"
     ]
    },
    {
     "data": {
      "text/plain": [
       "-0.7416666666666667"
      ]
     },
     "execution_count": 43,
     "metadata": {},
     "output_type": "execute_result"
    }
   ],
   "source": [
    "dp2score(filtered_data[0], verbose=True)"
   ]
  },
  {
   "cell_type": "code",
   "execution_count": 44,
   "metadata": {},
   "outputs": [
    {
     "name": "stdout",
     "output_type": "stream",
     "text": [
      "--------------------------------------------------\n",
      "Ground truth: ['nl -s\"^M${LOGFILE}>  \"']\n",
      "Predictions: ['nl -n __SP__UNK', 'nl -n __SP__UNK | xargs -n 1 -I {} echo {}', 'nl -n __SP__UNK -w \"^M${LOGFILE}> \" | nl', 'zcat file.gz | xargs -n 1 -I {} echo {}', 'nl -n __SP__UNK -w \"^M${LOGFILE}> \" | xargs -n 1 -I {} echo {}']\n",
      "[0.0, 1.3333333333333333, 1.0, 2.0, 1.3333333333333333] [1.5, 0.5, 0.625, 0.0, 0.4166666666666667]\n",
      "Utility loss: 0.0\n",
      "Flag loss: 1.5\n"
     ]
    },
    {
     "data": {
      "text/plain": [
       "(0.0, 1.5)"
      ]
     },
     "execution_count": 44,
     "metadata": {},
     "output_type": "execute_result"
    }
   ],
   "source": [
    "dp2loss(filtered_data[0], verbose=True)"
   ]
  },
  {
   "cell_type": "code",
   "execution_count": 45,
   "metadata": {},
   "outputs": [],
   "source": [
    "fineloss_mapper = lambda dp: compute_loss(dp.gt_data, dp.pred_data, [1]*len(dp.pred_data), params)\n",
    "all_losses = list(map(fineloss_mapper, filtered_data))"
   ]
  },
  {
   "cell_type": "code",
   "execution_count": 46,
   "metadata": {},
   "outputs": [],
   "source": [
    "util_loss, flag_loss = zip(*all_losses)"
   ]
  },
  {
   "cell_type": "code",
   "execution_count": 47,
   "metadata": {},
   "outputs": [
    {
     "name": "stdout",
     "output_type": "stream",
     "text": [
      "Mean Util Loss: 0.46513908533710513\n",
      "Mean Flag Loss: 0.24529801194405157\n"
     ]
    },
    {
     "data": {
      "image/png": "[encoded data removed]",
      "text/plain": [
       "<Figure size 432x288 with 1 Axes>"
      ]
     },
     "metadata": {
      "needs_background": "light"
     },
     "output_type": "display_data"
    }
   ],
   "source": [
    "plt.hist(util_loss, alpha=0.5, range=(0, 2), label=\"Util Loss\")\n",
    "plt.hist(flag_loss, alpha=0.5, range=(0, 2), label=\"Flag Loss\")\n",
    "plt.title('Util vs. Flag Loss')\n",
    "plt.legend()\n",
    "\n",
    "print(f'Mean Util Loss:', np.mean(util_loss))\n",
    "print(f'Mean Flag Loss:', np.mean(flag_loss))"
   ]
  },
  {
   "cell_type": "code",
   "execution_count": null,
   "metadata": {},
   "outputs": [],
   "source": []
  },
  {
   "cell_type": "markdown",
   "metadata": {},
   "source": [
    "### Fun"
   ]
  },
  {
   "cell_type": "code",
   "execution_count": 23,
   "metadata": {},
   "outputs": [],
   "source": [
    "super_filter = lambda dp: len(dp.gt_data) > 0 #'find' in dp.gt_data[0]\n",
    "fun_data = list(filter(super_filter, filtered_data))\n",
    "fun_scores = list(map(dp2score, fun_data))"
   ]
  },
  {
   "cell_type": "code",
   "execution_count": 24,
   "metadata": {},
   "outputs": [
    {
     "data": {
      "text/plain": [
       "Text(0, 0.5, 'Final Score')"
      ]
     },
     "execution_count": 24,
     "metadata": {},
     "output_type": "execute_result"
    },
    {
     "data": {
      "image/png": "[encoded data removed]",
      "text/plain": [
       "<Figure size 432x288 with 1 Axes>"
      ]
     },
     "metadata": {
      "needs_background": "light"
     },
     "output_type": "display_data"
    }
   ],
   "source": [
    "fdata_len = [len(dp.description.split()) for dp in fun_data]\n",
    "plt.plot(fdata_len, fun_scores, '.')\n",
    "plt.xlabel('Tokens in NLC')\n",
    "plt.ylabel('Final Score')\n",
    "# no discernable correlation..."
   ]
  },
  {
   "cell_type": "code",
   "execution_count": 25,
   "metadata": {},
   "outputs": [
    {
     "data": {
      "text/plain": [
       "Text(0, 0.5, 'Final Score')"
      ]
     },
     "execution_count": 25,
     "metadata": {},
     "output_type": "execute_result"
    },
    {
     "data": {
      "image/png": "[encoded data removed]",
      "text/plain": [
       "<Figure size 432x288 with 1 Axes>"
      ]
     },
     "metadata": {
      "needs_background": "light"
     },
     "output_type": "display_data"
    }
   ],
   "source": [
    "fdata_cmlen = [len(dp.gt_data[0].split()) for dp in fun_data if len(dp.gt_data) > 0]\n",
    "plt.plot(fdata_cmlen, fun_scores, '.')\n",
    "plt.xlabel('\"Tokens\" in GT CMD')\n",
    "plt.ylabel('Final Score')"
   ]
  },
  {
   "cell_type": "code",
   "execution_count": 26,
   "metadata": {
    "scrolled": true
   },
   "outputs": [
    {
     "ename": "NameError",
     "evalue": "name 'sns' is not defined",
     "output_type": "error",
     "traceback": [
      "\u001b[0;31m---------------------------------------------------------------------------\u001b[0m",
      "\u001b[0;31mNameError\u001b[0m                                 Traceback (most recent call last)",
      "\u001b[0;32m<ipython-input-26-fd21c16ddfb6>\u001b[0m in \u001b[0;36m<module>\u001b[0;34m\u001b[0m\n\u001b[0;32m----> 1\u001b[0;31m \u001b[0msns\u001b[0m\u001b[0;34m.\u001b[0m\u001b[0mjointplot\u001b[0m\u001b[0;34m(\u001b[0m\u001b[0mx\u001b[0m\u001b[0;34m=\u001b[0m\u001b[0mfdata_len\u001b[0m\u001b[0;34m,\u001b[0m \u001b[0my\u001b[0m\u001b[0;34m=\u001b[0m\u001b[0mfun_scores\u001b[0m\u001b[0;34m,\u001b[0m \u001b[0mkind\u001b[0m\u001b[0;34m=\u001b[0m\u001b[0;34m\"hex\"\u001b[0m\u001b[0;34m)\u001b[0m\u001b[0;34m\u001b[0m\u001b[0;34m\u001b[0m\u001b[0m\n\u001b[0m",
      "\u001b[0;31mNameError\u001b[0m: name 'sns' is not defined"
     ]
    }
   ],
   "source": [
    "sns.jointplot(x=fdata_len, y=fun_scores, kind=\"hex\")"
   ]
  },
  {
   "cell_type": "markdown",
   "metadata": {},
   "source": [
    "2 score groups: difficult, easy"
   ]
  },
  {
   "cell_type": "code",
   "execution_count": null,
   "metadata": {},
   "outputs": [],
   "source": [
    "# hello\n",
    "\n",
    "import seaborn as snsx"
   ]
  },
  {
   "cell_type": "markdown",
   "metadata": {},
   "source": []
  },
  {
   "cell_type": "code",
   "execution_count": null,
   "metadata": {},
   "outputs": [],
   "source": []
  },
  {
   "cell_type": "code",
   "execution_count": null,
   "metadata": {},
   "outputs": [],
   "source": []
  },
  {
   "cell_type": "code",
   "execution_count": null,
   "metadata": {},
   "outputs": [],
   "source": []
  },
  {
   "cell_type": "code",
   "execution_count": null,
   "metadata": {},
   "outputs": [],
   "source": []
  },
  {
   "cell_type": "code",
   "execution_count": null,
   "metadata": {},
   "outputs": [],
   "source": []
  },
  {
   "cell_type": "code",
   "execution_count": null,
   "metadata": {},
   "outputs": [],
   "source": []
  },
  {
   "cell_type": "code",
   "execution_count": null,
   "metadata": {},
   "outputs": [],
   "source": []
  },
  {
   "cell_type": "code",
   "execution_count": null,
   "metadata": {},
   "outputs": [],
   "source": []
  },
  {
   "cell_type": "code",
   "execution_count": null,
   "metadata": {},
   "outputs": [],
   "source": []
  },
  {
   "cell_type": "code",
   "execution_count": null,
   "metadata": {},
   "outputs": [],
   "source": []
  },
  {
   "cell_type": "code",
   "execution_count": null,
   "metadata": {},
   "outputs": [],
   "source": []
  },
  {
   "cell_type": "code",
   "execution_count": null,
   "metadata": {},
   "outputs": [],
   "source": []
  }
 ],
 "metadata": {
  "kernelspec": {
   "display_name": "Python 3",
   "language": "python",
   "name": "python3"
  },
  "language_info": {
   "codemirror_mode": {
    "name": "ipython",
    "version": 3
   },
   "file_extension": ".py",
   "mimetype": "text/x-python",
   "name": "python",
   "nbconvert_exporter": "python",
   "pygments_lexer": "ipython3",
   "version": "3.7.2"
  }
 },
 "nbformat": 4,
 "nbformat_minor": 2
}
