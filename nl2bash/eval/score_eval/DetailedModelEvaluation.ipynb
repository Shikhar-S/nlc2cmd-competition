{
 "cells": [
  {
   "cell_type": "markdown",
   "metadata": {},
   "source": [
    "## Detailed Model Evaluation\n",
    "\n",
    "I tried to make a framework for in-depth evaluation of model predictions. I probably made some mistakes, tell me if you see any!\n",
    "\n",
    "This is mostly just for showcasing/development; what is here is encased in functions in `metric_utils.py`. "
   ]
  },
  {
   "cell_type": "code",
   "execution_count": 1,
   "metadata": {},
   "outputs": [
    {
     "name": "stderr",
     "output_type": "stream",
     "text": [
      "WARNING: Token 'COND_ERROR' defined, but not used\n",
      "WARNING: There is 1 unused token\n"
     ]
    },
    {
     "name": "stdout",
     "output_type": "stream",
     "text": [
      "Bashlint grammar set up (124 utilities)\n",
      "\n"
     ]
    }
   ],
   "source": [
    "%matplotlib inline\n",
    "from nl2bash import bashlint\n",
    "import pandas\n",
    "import numpy as np\n",
    "import metric_utils\n",
    "import matplotlib.pyplot as plt"
   ]
  },
  {
   "cell_type": "code",
   "execution_count": 2,
   "metadata": {},
   "outputs": [],
   "source": [
    "# reading csv file\n",
    "result_path = '../../model/seq2seq/bash-T-4-birnn-gru-standard-attention-0.6-0.6-0.0-copy-1.0-128-200-1-0.0001-1e-08-0.6-0.6-0.6-0.6/predictions.beam_search.100.dev.latest.csv'\n",
    "result_df = pandas.read_csv(result_path)"
   ]
  },
  {
   "cell_type": "code",
   "execution_count": 3,
   "metadata": {},
   "outputs": [
    {
     "data": {
      "text/html": [
       "<div>\n",
       "<style scoped>\n",
       "    .dataframe tbody tr th:only-of-type {\n",
       "        vertical-align: middle;\n",
       "    }\n",
       "\n",
       "    .dataframe tbody tr th {\n",
       "        vertical-align: top;\n",
       "    }\n",
       "\n",
       "    .dataframe thead th {\n",
       "        text-align: right;\n",
       "    }\n",
       "</style>\n",
       "<table border=\"1\" class=\"dataframe\">\n",
       "  <thead>\n",
       "    <tr style=\"text-align: right;\">\n",
       "      <th></th>\n",
       "      <th>example_id</th>\n",
       "      <th>description</th>\n",
       "      <th>ground_truth</th>\n",
       "      <th>prediction</th>\n",
       "      <th>correct template</th>\n",
       "      <th>correct command</th>\n",
       "    </tr>\n",
       "  </thead>\n",
       "  <tbody>\n",
       "    <tr>\n",
       "      <th>0</th>\n",
       "      <td>b'0</td>\n",
       "      <td>Adds execution permissions on a script ./etc/b...</td>\n",
       "      <td>chmod +x $(brew --prefix)/etc/bash_completion</td>\n",
       "      <td>NaN</td>\n",
       "      <td>'</td>\n",
       "      <td>NaN</td>\n",
       "    </tr>\n",
       "    <tr>\n",
       "      <th>1</th>\n",
       "      <td>b'</td>\n",
       "      <td>NaN</td>\n",
       "      <td>NaN</td>\n",
       "      <td>find __SP__UNK -type d -exec chmod +x {} \\\\;</td>\n",
       "      <td>'</td>\n",
       "      <td>NaN</td>\n",
       "    </tr>\n",
       "    <tr>\n",
       "      <th>2</th>\n",
       "      <td>b'</td>\n",
       "      <td>NaN</td>\n",
       "      <td>NaN</td>\n",
       "      <td>find __SP__UNK -type d -exec chmod __SP__UNK {...</td>\n",
       "      <td>'</td>\n",
       "      <td>NaN</td>\n",
       "    </tr>\n",
       "    <tr>\n",
       "      <th>3</th>\n",
       "      <td>b'</td>\n",
       "      <td>NaN</td>\n",
       "      <td>NaN</td>\n",
       "      <td>find __SP__UNK -type d -print0 | xargs -0 -I {...</td>\n",
       "      <td>'</td>\n",
       "      <td>NaN</td>\n",
       "    </tr>\n",
       "    <tr>\n",
       "      <th>4</th>\n",
       "      <td>b'</td>\n",
       "      <td>NaN</td>\n",
       "      <td>NaN</td>\n",
       "      <td>find __SP__UNK -type f -exec chmod +x {} \\\\;</td>\n",
       "      <td>'</td>\n",
       "      <td>NaN</td>\n",
       "    </tr>\n",
       "    <tr>\n",
       "      <th>5</th>\n",
       "      <td>b'1</td>\n",
       "      <td>Add prefix like number and \"^M${LOGFILE}&gt; \" to...</td>\n",
       "      <td>nl -s\"^M${LOGFILE}&gt;  \"</td>\n",
       "      <td>nl -s - -b a -n __SP__UNK</td>\n",
       "      <td>'</td>\n",
       "      <td>NaN</td>\n",
       "    </tr>\n",
       "    <tr>\n",
       "      <th>6</th>\n",
       "      <td>b'</td>\n",
       "      <td>NaN</td>\n",
       "      <td>NaN</td>\n",
       "      <td>nl -s __SP__UNK - | nl</td>\n",
       "      <td>'</td>\n",
       "      <td>NaN</td>\n",
       "    </tr>\n",
       "    <tr>\n",
       "      <th>7</th>\n",
       "      <td>b'</td>\n",
       "      <td>NaN</td>\n",
       "      <td>NaN</td>\n",
       "      <td>nl -s - __SP__UNK | nl -n __SP__UNK</td>\n",
       "      <td>'</td>\n",
       "      <td>NaN</td>\n",
       "    </tr>\n",
       "    <tr>\n",
       "      <th>8</th>\n",
       "      <td>b'</td>\n",
       "      <td>NaN</td>\n",
       "      <td>NaN</td>\n",
       "      <td>nl -s __SP__UNK - | nl -n __SP__UNK</td>\n",
       "      <td>'</td>\n",
       "      <td>NaN</td>\n",
       "    </tr>\n",
       "    <tr>\n",
       "      <th>9</th>\n",
       "      <td>b'</td>\n",
       "      <td>NaN</td>\n",
       "      <td>NaN</td>\n",
       "      <td>nl -s - __SP__UNK | nl -s - __SP__UNK | nl -n ...</td>\n",
       "      <td>'</td>\n",
       "      <td>NaN</td>\n",
       "    </tr>\n",
       "  </tbody>\n",
       "</table>\n",
       "</div>"
      ],
      "text/plain": [
       "  example_id                                        description  \\\n",
       "0        b'0  Adds execution permissions on a script ./etc/b...   \n",
       "1         b'                                                NaN   \n",
       "2         b'                                                NaN   \n",
       "3         b'                                                NaN   \n",
       "4         b'                                                NaN   \n",
       "5        b'1  Add prefix like number and \"^M${LOGFILE}> \" to...   \n",
       "6         b'                                                NaN   \n",
       "7         b'                                                NaN   \n",
       "8         b'                                                NaN   \n",
       "9         b'                                                NaN   \n",
       "\n",
       "                                    ground_truth  \\\n",
       "0  chmod +x $(brew --prefix)/etc/bash_completion   \n",
       "1                                            NaN   \n",
       "2                                            NaN   \n",
       "3                                            NaN   \n",
       "4                                            NaN   \n",
       "5                         nl -s\"^M${LOGFILE}>  \"   \n",
       "6                                            NaN   \n",
       "7                                            NaN   \n",
       "8                                            NaN   \n",
       "9                                            NaN   \n",
       "\n",
       "                                          prediction  correct template  \\\n",
       "0                                                NaN                 '   \n",
       "1       find __SP__UNK -type d -exec chmod +x {} \\\\;                 '   \n",
       "2  find __SP__UNK -type d -exec chmod __SP__UNK {...                 '   \n",
       "3  find __SP__UNK -type d -print0 | xargs -0 -I {...                 '   \n",
       "4       find __SP__UNK -type f -exec chmod +x {} \\\\;                 '   \n",
       "5                          nl -s - -b a -n __SP__UNK                 '   \n",
       "6                             nl -s __SP__UNK - | nl                 '   \n",
       "7                nl -s - __SP__UNK | nl -n __SP__UNK                 '   \n",
       "8                nl -s __SP__UNK - | nl -n __SP__UNK                 '   \n",
       "9  nl -s - __SP__UNK | nl -s - __SP__UNK | nl -n ...                 '   \n",
       "\n",
       "   correct command  \n",
       "0              NaN  \n",
       "1              NaN  \n",
       "2              NaN  \n",
       "3              NaN  \n",
       "4              NaN  \n",
       "5              NaN  \n",
       "6              NaN  \n",
       "7              NaN  \n",
       "8              NaN  \n",
       "9              NaN  "
      ]
     },
     "execution_count": 3,
     "metadata": {},
     "output_type": "execute_result"
    }
   ],
   "source": [
    "result_df.head(10) # correct template, correct command are meaningless.."
   ]
  },
  {
   "cell_type": "code",
   "execution_count": 4,
   "metadata": {},
   "outputs": [],
   "source": [
    "eval_data = []\n",
    "\n",
    "for idx, row in result_df.iterrows():\n",
    "    data_index = row.example_id[2:]\n",
    "    if len(data_index) != 0:\n",
    "        eval_data.append(\n",
    "            metric_utils.EvalDataPoint(int(data_index))\n",
    "        )\n",
    "    \n",
    "    if row[' description'] == row[' description']: # nan detection\n",
    "        eval_data[-1].description = row[' description']\n",
    "    \n",
    "    if row[' ground_truth'] == row[' ground_truth']:\n",
    "        eval_data[-1].gt_data.append(row[' ground_truth'])\n",
    "    \n",
    "    if row[' prediction'] == row[' prediction']:\n",
    "        eval_data[-1].pred_data.append(row[' prediction'])"
   ]
  },
  {
   "cell_type": "markdown",
   "metadata": {},
   "source": [
    "## Actual Evaluation"
   ]
  },
  {
   "cell_type": "code",
   "execution_count": 5,
   "metadata": {},
   "outputs": [],
   "source": [
    "# functions from src/evaluate.py\n",
    "def get_score(prediction_scores):\n",
    "    score = -1.0\n",
    "    if len(prediction_scores) == 0:\n",
    "        return score\n",
    "\n",
    "    has_positive_score = True in [x > 0 for x in prediction_scores]\n",
    "\n",
    "    if has_positive_score:\n",
    "        score = max(prediction_scores)\n",
    "    else:\n",
    "        score = sum(prediction_scores) / float(len(prediction_scores))\n",
    "\n",
    "    return score\n",
    "\n",
    "def compute_score(ground_truths, predicted_cmds, predicted_confds, metric_params, verbose=False):\n",
    "    \n",
    "    prediction_scores = []\n",
    "\n",
    "    for grnd_truth_cmd in ground_truths:\n",
    "        for i, predicted_cmd in enumerate(predicted_cmds):\n",
    "            \n",
    "            if predicted_cmd is None or len(predicted_cmd) == 0:\n",
    "                continue\n",
    "            \n",
    "            predicted_confidence = predicted_confds[i]\n",
    "            pair_score = metric_utils.compute_metric(predicted_cmd, predicted_confidence, grnd_truth_cmd, metric_params)\n",
    "            prediction_scores.append(pair_score)\n",
    "\n",
    "    score = get_score(prediction_scores)\n",
    "\n",
    "    if verbose:\n",
    "        print('-' * 50)\n",
    "        print(f'Ground truth: {ground_truths}')\n",
    "        print(f'Predictions: {predicted_cmds}')\n",
    "        print(f'Prediction scores: {prediction_scores}')\n",
    "        print(f'Score: {score}')\n",
    "\n",
    "    return score"
   ]
  },
  {
   "cell_type": "code",
   "execution_count": 6,
   "metadata": {},
   "outputs": [
    {
     "name": "stdout",
     "output_type": "stream",
     "text": [
      "--------------------------------------------------\n",
      "Ground truth: ['chmod +x $(brew --prefix)/etc/bash_completion']\n",
      "Predictions: ['find __SP__UNK -type d -exec chmod +x {} \\\\\\\\;', 'find __SP__UNK -type d -exec chmod __SP__UNK {} \\\\\\\\;', 'find __SP__UNK -type d -print0 | xargs -0 -I {} chmod +x {}', 'find __SP__UNK -type f -exec chmod +x {} \\\\\\\\;']\n",
      "Prediction scores: [-1.0, -1.0, -1.0, -1.0]\n",
      "Score: -1.0\n"
     ]
    },
    {
     "data": {
      "text/plain": [
       "-1.0"
      ]
     },
     "execution_count": 6,
     "metadata": {},
     "output_type": "execute_result"
    }
   ],
   "source": [
    "# single datapoint showcase\n",
    "params = {\n",
    "  \"u1\": 1.0,\n",
    "  \"u2\": 1.0\n",
    "}\n",
    "\n",
    "def dp2score(dp, params=params, verbose=False):\n",
    "    # justa a quality-of-life function\n",
    "    return compute_score(dp.gt_data, dp.pred_data, [1]*len(dp.pred_data), params, verbose=verbose)\n",
    "\n",
    "dp2score(eval_data[0], verbose=True)"
   ]
  },
  {
   "cell_type": "code",
   "execution_count": 7,
   "metadata": {},
   "outputs": [
    {
     "name": "stdout",
     "output_type": "stream",
     "text": [
      "--------------------------------------------------\n",
      "Ground truth: ['rsync -rvz --chmod=ugo=rwX -e ssh source destination']\n",
      "Predictions: ['rsync -rvz --chmod=ugo=rwX -e ssh source destination']\n",
      "Prediction scores: [0.0]\n",
      "Score: 0.0\n"
     ]
    },
    {
     "data": {
      "text/plain": [
       "0.0"
      ]
     },
     "execution_count": 7,
     "metadata": {},
     "output_type": "execute_result"
    }
   ],
   "source": [
    "# ok, so... we should probably filter out cases where gt marked on gt doesn't get perfect score.\n",
    "\n",
    "# Example:\n",
    "dp = eval_data[8]\n",
    "compute_score(dp.gt_data, dp.gt_data, [1]*len(dp.pred_data), params, verbose=True)"
   ]
  },
  {
   "cell_type": "code",
   "execution_count": 8,
   "metadata": {},
   "outputs": [
    {
     "name": "stdout",
     "output_type": "stream",
     "text": [
      "Before filtered: 701\n",
      "After filtered: 505\n"
     ]
    }
   ],
   "source": [
    "# Filtering:\n",
    "filter_func = lambda dp: compute_score(dp.gt_data, dp.gt_data, [1]*len(dp.gt_data), params) != 0.\n",
    "filtered_data = list(filter(filter_func, eval_data))\n",
    "print('Before filtered:', len(eval_data))\n",
    "print('After filtered:', len(filtered_data))"
   ]
  },
  {
   "cell_type": "code",
   "execution_count": 9,
   "metadata": {},
   "outputs": [],
   "source": [
    "# calculating scores takes some time actually\n",
    "all_scores = list(map(dp2score, filtered_data))"
   ]
  },
  {
   "cell_type": "code",
   "execution_count": 64,
   "metadata": {},
   "outputs": [],
   "source": [
    "# filtering by score showcase\n",
    "threshold = 0.0\n",
    "with open(f'BadCases_{threshold}.txt', 'w') as f:\n",
    "    for score, dp in zip(all_scores, filtered_data):\n",
    "        if score < threshold:\n",
    "            print(f'----- ID: {dp.index} -----', file=f)\n",
    "            print(f'NLC:', file=f)\n",
    "            print(dp.description, file=f)\n",
    "            print(f'GT(s):', file=f)\n",
    "            print('\\n'.join(dp.gt_data), file=f)\n",
    "            print(f'Predictions:', file=f)\n",
    "            print('\\n'.join(dp.pred_data), file=f)\n",
    "            print(f'Score: {score}', file=f)"
   ]
  },
  {
   "cell_type": "code",
   "execution_count": 11,
   "metadata": {},
   "outputs": [
    {
     "name": "stdout",
     "output_type": "stream",
     "text": [
      "Total: 505\n",
      "Average: 0.2654118117764157\n",
      "Median: 0.5\n",
      "Number of perfect scores: 187\n",
      "Number of completely wrong: 59\n",
      "Positive scores: 332\n",
      "Sub-zero scores: 166\n",
      "Number of balanced: 7\n"
     ]
    },
    {
     "data": {
      "image/png": "[encoded data removed]",
      "text/plain": [
       "<Figure size 432x288 with 1 Axes>"
      ]
     },
     "metadata": {
      "needs_background": "light"
     },
     "output_type": "display_data"
    }
   ],
   "source": [
    "# score distribution showcase\n",
    "\n",
    "n_by_bin, _, _ = plt.hist(all_scores)\n",
    "plt.title('Score Distribution')\n",
    "\n",
    "print('Total:', len(all_scores))\n",
    "print('Average:', np.mean(all_scores))\n",
    "print('Median:', np.median(all_scores))\n",
    "print('Number of perfect scores:', len([e for e in all_scores if 1-e<1e-4]))\n",
    "print('Number of completely wrong:', len([e for e in all_scores if e+1<1e-4]))\n",
    "print('Positive scores:', len([e for e in all_scores if e > 0]))\n",
    "print('Sub-zero scores:', len([e for e in all_scores if e < 0]))\n",
    "print('Number of balanced:', len([e for e in all_scores if abs(e)<1e-4]))"
   ]
  },
  {
   "cell_type": "code",
   "execution_count": 12,
   "metadata": {},
   "outputs": [],
   "source": [
    "# util accuracy\n",
    "def compute_uacc(ground_truths, predicted_cmds, verbose=False):\n",
    "    prediction_scores = []\n",
    "    for grnd_truth_cmd in ground_truths:\n",
    "        for i, predicted_cmd in enumerate(predicted_cmds):\n",
    "            if predicted_cmd is None or len(predicted_cmd) == 0:\n",
    "                continue\n",
    "            pair_score = metric_utils.compute_util_acc(predicted_cmd, grnd_truth_cmd)\n",
    "            prediction_scores.append(pair_score)\n",
    "    score = get_score(prediction_scores)\n",
    "\n",
    "    if verbose:\n",
    "        print('-' * 50)\n",
    "        print(f'Ground truth: {ground_truths}')\n",
    "        print(f'Predictions: {predicted_cmds}')\n",
    "        print(f'Prediction scores: {prediction_scores}')\n",
    "        print(f'Score: {score}')\n",
    "\n",
    "    return score"
   ]
  },
  {
   "cell_type": "code",
   "execution_count": 13,
   "metadata": {},
   "outputs": [],
   "source": [
    "uacc_mapper = lambda dp: compute_uacc(dp.gt_data, dp.pred_data)\n",
    "all_uaccs = list(map(uacc_mapper, filtered_data))"
   ]
  },
  {
   "cell_type": "code",
   "execution_count": 14,
   "metadata": {},
   "outputs": [
    {
     "data": {
      "text/plain": [
       "(array([ 10.,   0.,   0.,   0.,   0.,  52.,  44.,  34.,  19., 346.]),\n",
       " array([-1. , -0.8, -0.6, -0.4, -0.2,  0. ,  0.2,  0.4,  0.6,  0.8,  1. ]),\n",
       " <BarContainer object of 10 artists>)"
      ]
     },
     "execution_count": 14,
     "metadata": {},
     "output_type": "execute_result"
    },
    {
     "data": {
      "image/png": "[encoded data removed]",
      "text/plain": [
       "<Figure size 432x288 with 1 Axes>"
      ]
     },
     "metadata": {
      "needs_background": "light"
     },
     "output_type": "display_data"
    }
   ],
   "source": [
    "plt.hist(all_uaccs) # negative exists because of no-answer scenarios, can be ignored"
   ]
  },
  {
   "cell_type": "code",
   "execution_count": 55,
   "metadata": {},
   "outputs": [],
   "source": [
    "# Where are we losing points, utility or flag?\n",
    "def get_loss(ulosses, flosses):\n",
    "    score = -1.0\n",
    "    if len(ulosses) == 0:\n",
    "        return (2, 0)\n",
    "\n",
    "    best_index = np.argmin(np.array(ulosses) + np.array(flosses))\n",
    "    return ulosses[best_index], flosses[best_index]\n",
    "\n",
    "def compute_loss(ground_truths, predicted_cmds, predicted_confds, metric_params, verbose=False):\n",
    "    \n",
    "    ulosses = []\n",
    "    flosses = []\n",
    "\n",
    "    for grnd_truth_cmd in ground_truths:\n",
    "        for i, predicted_cmd in enumerate(predicted_cmds):\n",
    "            \n",
    "            if predicted_cmd is None or len(predicted_cmd) == 0:\n",
    "                continue\n",
    "            \n",
    "            predicted_confidence = predicted_confds[i]\n",
    "            uloss, floss = metric_utils.compute_metric_loss(predicted_cmd, predicted_confidence, grnd_truth_cmd, metric_params)\n",
    "            ulosses.append(uloss)\n",
    "            flosses.append(floss)\n",
    "\n",
    "    best_uloss, best_floss = get_loss(ulosses, flosses)\n",
    "\n",
    "    if verbose:\n",
    "        print('-' * 50)\n",
    "        print(f'Ground truth: {ground_truths}')\n",
    "        print(f'Predictions: {predicted_cmds}')\n",
    "        print(ulosses, flosses)\n",
    "        print(f'Utility loss: {best_uloss}')\n",
    "        print(f'Flag loss: {best_floss}')\n",
    "\n",
    "    return best_uloss, best_floss\n",
    "\n",
    "def dp2loss(dp, params=params, verbose=False):\n",
    "    # justa a quality-of-life function\n",
    "    return compute_loss(dp.gt_data, dp.pred_data, [1]*len(dp.pred_data), params, verbose=verbose)"
   ]
  },
  {
   "cell_type": "code",
   "execution_count": 56,
   "metadata": {},
   "outputs": [
    {
     "name": "stdout",
     "output_type": "stream",
     "text": [
      "--------------------------------------------------\n",
      "Ground truth: ['nl -s\"^M${LOGFILE}>  \"']\n",
      "Predictions: ['nl -s - -b a -n __SP__UNK', 'nl -s __SP__UNK - | nl', 'nl -s - __SP__UNK | nl -n __SP__UNK', 'nl -s __SP__UNK - | nl -n __SP__UNK', 'nl -s - __SP__UNK | nl -s - __SP__UNK | nl -n __SP__UNK']\n",
      "Prediction scores: [0.33333333333333337, 0.0, 0.0, 0.0, -0.3333333333333333]\n",
      "Score: 0.33333333333333337\n"
     ]
    },
    {
     "data": {
      "text/plain": [
       "0.33333333333333337"
      ]
     },
     "execution_count": 56,
     "metadata": {},
     "output_type": "execute_result"
    }
   ],
   "source": [
    "dp2score(filtered_data[0], verbose=True)"
   ]
  },
  {
   "cell_type": "code",
   "execution_count": 57,
   "metadata": {},
   "outputs": [
    {
     "name": "stdout",
     "output_type": "stream",
     "text": [
      "--------------------------------------------------\n",
      "Ground truth: ['nl -s\"^M${LOGFILE}>  \"']\n",
      "Predictions: ['nl -s - -b a -n __SP__UNK', 'nl -s __SP__UNK - | nl', 'nl -s - __SP__UNK | nl -n __SP__UNK', 'nl -s __SP__UNK - | nl -n __SP__UNK', 'nl -s - __SP__UNK | nl -s - __SP__UNK | nl -n __SP__UNK']\n",
      "[0.0, 1.0, 1.0, 1.0, 1.3333333333333333] [0.6666666666666666, 0.0, 0.0, 0.0, 0.0]\n",
      "Utility loss: 0.0\n",
      "Flag loss: 0.6666666666666666\n"
     ]
    },
    {
     "data": {
      "text/plain": [
       "(0.0, 0.6666666666666666)"
      ]
     },
     "execution_count": 57,
     "metadata": {},
     "output_type": "execute_result"
    }
   ],
   "source": [
    "dp2loss(filtered_data[0], verbose=True)"
   ]
  },
  {
   "cell_type": "code",
   "execution_count": 58,
   "metadata": {},
   "outputs": [],
   "source": [
    "fineloss_mapper = lambda dp: compute_loss(dp.gt_data, dp.pred_data, [1]*len(dp.pred_data), params)\n",
    "all_losses = list(map(fineloss_mapper, filtered_data))"
   ]
  },
  {
   "cell_type": "code",
   "execution_count": 59,
   "metadata": {},
   "outputs": [],
   "source": [
    "util_loss, flag_loss = zip(*all_losses)"
   ]
  },
  {
   "cell_type": "code",
   "execution_count": 63,
   "metadata": {},
   "outputs": [
    {
     "name": "stdout",
     "output_type": "stream",
     "text": [
      "Mean Util Loss: 0.4572182932578972\n",
      "Mean Flag Loss: 0.23128143171460003\n"
     ]
    },
    {
     "data": {
      "image/png": "[encoded data removed]",
      "text/plain": [
       "<Figure size 432x288 with 1 Axes>"
      ]
     },
     "metadata": {
      "needs_background": "light"
     },
     "output_type": "display_data"
    }
   ],
   "source": [
    "plt.hist(util_loss, alpha=0.5, range=(0, 2), label=\"Util Loss\")\n",
    "plt.hist(flag_loss, alpha=0.5, range=(0, 2), label=\"Flag Loss\")\n",
    "plt.title('Util vs. Flag Loss')\n",
    "plt.legend()\n",
    "\n",
    "print(f'Mean Util Loss:', np.mean(util_loss))\n",
    "print(f'Mean Flag Loss:', np.mean(flag_loss))"
   ]
  },
  {
   "cell_type": "code",
   "execution_count": null,
   "metadata": {},
   "outputs": [],
   "source": []
  },
  {
   "cell_type": "markdown",
   "metadata": {},
   "source": [
    "### Fun"
   ]
  },
  {
   "cell_type": "code",
   "execution_count": 83,
   "metadata": {},
   "outputs": [],
   "source": [
    "super_filter = lambda dp: True #'find' in dp.gt_data[0]\n",
    "fun_data = list(filter(super_filter, filtered_data))\n",
    "fun_scores = list(map(dp2score, fun_data))"
   ]
  },
  {
   "cell_type": "code",
   "execution_count": 84,
   "metadata": {},
   "outputs": [
    {
     "data": {
      "text/plain": [
       "Text(0, 0.5, 'Final Score')"
      ]
     },
     "execution_count": 84,
     "metadata": {},
     "output_type": "execute_result"
    },
    {
     "data": {
      "image/png": "[encoded data removed]",
      "text/plain": [
       "<Figure size 432x288 with 1 Axes>"
      ]
     },
     "metadata": {
      "needs_background": "light"
     },
     "output_type": "display_data"
    }
   ],
   "source": [
    "fdata_len = [len(dp.description.split()) for dp in fun_data]\n",
    "plt.plot(fdata_len, fun_scores, '.')\n",
    "plt.xlabel('Tokens in NLC')\n",
    "plt.ylabel('Final Score')\n",
    "# no discernable correlation..."
   ]
  },
  {
   "cell_type": "code",
   "execution_count": 85,
   "metadata": {},
   "outputs": [
    {
     "data": {
      "text/plain": [
       "Text(0, 0.5, 'Final Score')"
      ]
     },
     "execution_count": 85,
     "metadata": {},
     "output_type": "execute_result"
    },
    {
     "data": {
      "image/png": "[encoded data removed]",
      "text/plain": [
       "<Figure size 432x288 with 1 Axes>"
      ]
     },
     "metadata": {
      "needs_background": "light"
     },
     "output_type": "display_data"
    }
   ],
   "source": [
    "fdata_cmlen = [len(dp.gt_data[0].split()) for dp in fun_data]\n",
    "plt.plot(fdata_cmlen, fun_scores, '.')\n",
    "plt.xlabel('\"Tokens\" in GT CMD')\n",
    "plt.ylabel('Final Score')"
   ]
  },
  {
   "cell_type": "code",
   "execution_count": 86,
   "metadata": {},
   "outputs": [],
   "source": [
    "import seaborn as sns"
   ]
  },
  {
   "cell_type": "code",
   "execution_count": 94,
   "metadata": {},
   "outputs": [
    {
     "data": {
      "text/plain": [
       "<seaborn.axisgrid.JointGrid at 0x7f1177114470>"
      ]
     },
     "execution_count": 94,
     "metadata": {},
     "output_type": "execute_result"
    },
    {
     "data": {
      "image/png": "[encoded data removed]",
      "text/plain": [
       "<Figure size 432x432 with 3 Axes>"
      ]
     },
     "metadata": {
      "needs_background": "light"
     },
     "output_type": "display_data"
    }
   ],
   "source": [
    "sns.jointplot(x=fdata_len, y=fun_scores, kind=\"hex\")"
   ]
  },
  {
   "cell_type": "code",
   "execution_count": null,
   "metadata": {},
   "outputs": [],
   "source": []
  }
 ],
 "metadata": {
  "kernelspec": {
   "display_name": "clai-env",
   "language": "python",
   "name": "clai-env"
  },
  "language_info": {
   "codemirror_mode": {
    "name": "ipython",
    "version": 3
   },
   "file_extension": ".py",
   "mimetype": "text/x-python",
   "name": "python",
   "nbconvert_exporter": "python",
   "pygments_lexer": "ipython3",
   "version": "3.6.10"
  }
 },
 "nbformat": 4,
 "nbformat_minor": 2
}
