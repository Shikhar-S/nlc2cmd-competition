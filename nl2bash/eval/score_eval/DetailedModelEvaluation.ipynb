{
 "cells": [
  {
   "cell_type": "markdown",
   "metadata": {},
   "source": [
    "## Detailed Model Evaluation\n",
    "\n",
    "I tried to make a framework for in-depth evaluation of model predictions. I probably made some mistakes, tell me if you see any!\n",
    "\n",
    "This is mostly just for showcasing/development; what is here is encased in functions in `metric_utils.py`. "
   ]
  },
  {
   "cell_type": "code",
   "execution_count": 32,
   "metadata": {},
   "outputs": [],
   "source": [
    "%matplotlib inline\n",
    "from nl2bash import bashlint\n",
    "import pandas\n",
    "import numpy as np\n",
    "import metric_utils\n",
    "import matplotlib.pyplot as plt"
   ]
  },
  {
   "cell_type": "code",
   "execution_count": 2,
   "metadata": {},
   "outputs": [],
   "source": [
    "# reading csv file\n",
    "result_path = '../../model/seq2seq/bash-T-4-birnn-gru-standard-attention-0.6-0.6-0.0-copy-1.0-128-200-1-0.0001-1e-08-0.6-0.6-0.6-0.6/predictions.beam_search.100.dev.latest.csv'\n",
    "result_df = pandas.read_csv(result_path)"
   ]
  },
  {
   "cell_type": "code",
   "execution_count": 3,
   "metadata": {},
   "outputs": [
    {
     "data": {
      "text/html": [
       "<div>\n",
       "<style scoped>\n",
       "    .dataframe tbody tr th:only-of-type {\n",
       "        vertical-align: middle;\n",
       "    }\n",
       "\n",
       "    .dataframe tbody tr th {\n",
       "        vertical-align: top;\n",
       "    }\n",
       "\n",
       "    .dataframe thead th {\n",
       "        text-align: right;\n",
       "    }\n",
       "</style>\n",
       "<table border=\"1\" class=\"dataframe\">\n",
       "  <thead>\n",
       "    <tr style=\"text-align: right;\">\n",
       "      <th></th>\n",
       "      <th>example_id</th>\n",
       "      <th>description</th>\n",
       "      <th>ground_truth</th>\n",
       "      <th>prediction</th>\n",
       "      <th>correct template</th>\n",
       "      <th>correct command</th>\n",
       "    </tr>\n",
       "  </thead>\n",
       "  <tbody>\n",
       "    <tr>\n",
       "      <th>0</th>\n",
       "      <td>b'0</td>\n",
       "      <td>Adds execution permissions on a script ./etc/b...</td>\n",
       "      <td>chmod +x $(brew --prefix)/etc/bash_completion</td>\n",
       "      <td>NaN</td>\n",
       "      <td>'</td>\n",
       "      <td>NaN</td>\n",
       "    </tr>\n",
       "    <tr>\n",
       "      <th>1</th>\n",
       "      <td>b'</td>\n",
       "      <td>NaN</td>\n",
       "      <td>NaN</td>\n",
       "      <td>find __SP__UNK -type d -exec chmod +x {} \\\\;</td>\n",
       "      <td>'</td>\n",
       "      <td>NaN</td>\n",
       "    </tr>\n",
       "    <tr>\n",
       "      <th>2</th>\n",
       "      <td>b'</td>\n",
       "      <td>NaN</td>\n",
       "      <td>NaN</td>\n",
       "      <td>find __SP__UNK -type d -exec chmod __SP__UNK {...</td>\n",
       "      <td>'</td>\n",
       "      <td>NaN</td>\n",
       "    </tr>\n",
       "    <tr>\n",
       "      <th>3</th>\n",
       "      <td>b'</td>\n",
       "      <td>NaN</td>\n",
       "      <td>NaN</td>\n",
       "      <td>find __SP__UNK -type d -print0 | xargs -0 -I {...</td>\n",
       "      <td>'</td>\n",
       "      <td>NaN</td>\n",
       "    </tr>\n",
       "    <tr>\n",
       "      <th>4</th>\n",
       "      <td>b'</td>\n",
       "      <td>NaN</td>\n",
       "      <td>NaN</td>\n",
       "      <td>find __SP__UNK -type f -exec chmod +x {} \\\\;</td>\n",
       "      <td>'</td>\n",
       "      <td>NaN</td>\n",
       "    </tr>\n",
       "    <tr>\n",
       "      <th>5</th>\n",
       "      <td>b'1</td>\n",
       "      <td>Add prefix like number and \"^M${LOGFILE}&gt; \" to...</td>\n",
       "      <td>nl -s\"^M${LOGFILE}&gt;  \"</td>\n",
       "      <td>nl -s - -b a -n __SP__UNK</td>\n",
       "      <td>'</td>\n",
       "      <td>NaN</td>\n",
       "    </tr>\n",
       "    <tr>\n",
       "      <th>6</th>\n",
       "      <td>b'</td>\n",
       "      <td>NaN</td>\n",
       "      <td>NaN</td>\n",
       "      <td>nl -s __SP__UNK - | nl</td>\n",
       "      <td>'</td>\n",
       "      <td>NaN</td>\n",
       "    </tr>\n",
       "    <tr>\n",
       "      <th>7</th>\n",
       "      <td>b'</td>\n",
       "      <td>NaN</td>\n",
       "      <td>NaN</td>\n",
       "      <td>nl -s - __SP__UNK | nl -n __SP__UNK</td>\n",
       "      <td>'</td>\n",
       "      <td>NaN</td>\n",
       "    </tr>\n",
       "    <tr>\n",
       "      <th>8</th>\n",
       "      <td>b'</td>\n",
       "      <td>NaN</td>\n",
       "      <td>NaN</td>\n",
       "      <td>nl -s __SP__UNK - | nl -n __SP__UNK</td>\n",
       "      <td>'</td>\n",
       "      <td>NaN</td>\n",
       "    </tr>\n",
       "    <tr>\n",
       "      <th>9</th>\n",
       "      <td>b'</td>\n",
       "      <td>NaN</td>\n",
       "      <td>NaN</td>\n",
       "      <td>nl -s - __SP__UNK | nl -s - __SP__UNK | nl -n ...</td>\n",
       "      <td>'</td>\n",
       "      <td>NaN</td>\n",
       "    </tr>\n",
       "  </tbody>\n",
       "</table>\n",
       "</div>"
      ],
      "text/plain": [
       "  example_id                                        description  \\\n",
       "0        b'0  Adds execution permissions on a script ./etc/b...   \n",
       "1         b'                                                NaN   \n",
       "2         b'                                                NaN   \n",
       "3         b'                                                NaN   \n",
       "4         b'                                                NaN   \n",
       "5        b'1  Add prefix like number and \"^M${LOGFILE}> \" to...   \n",
       "6         b'                                                NaN   \n",
       "7         b'                                                NaN   \n",
       "8         b'                                                NaN   \n",
       "9         b'                                                NaN   \n",
       "\n",
       "                                    ground_truth  \\\n",
       "0  chmod +x $(brew --prefix)/etc/bash_completion   \n",
       "1                                            NaN   \n",
       "2                                            NaN   \n",
       "3                                            NaN   \n",
       "4                                            NaN   \n",
       "5                         nl -s\"^M${LOGFILE}>  \"   \n",
       "6                                            NaN   \n",
       "7                                            NaN   \n",
       "8                                            NaN   \n",
       "9                                            NaN   \n",
       "\n",
       "                                          prediction  correct template  \\\n",
       "0                                                NaN                 '   \n",
       "1       find __SP__UNK -type d -exec chmod +x {} \\\\;                 '   \n",
       "2  find __SP__UNK -type d -exec chmod __SP__UNK {...                 '   \n",
       "3  find __SP__UNK -type d -print0 | xargs -0 -I {...                 '   \n",
       "4       find __SP__UNK -type f -exec chmod +x {} \\\\;                 '   \n",
       "5                          nl -s - -b a -n __SP__UNK                 '   \n",
       "6                             nl -s __SP__UNK - | nl                 '   \n",
       "7                nl -s - __SP__UNK | nl -n __SP__UNK                 '   \n",
       "8                nl -s __SP__UNK - | nl -n __SP__UNK                 '   \n",
       "9  nl -s - __SP__UNK | nl -s - __SP__UNK | nl -n ...                 '   \n",
       "\n",
       "   correct command  \n",
       "0              NaN  \n",
       "1              NaN  \n",
       "2              NaN  \n",
       "3              NaN  \n",
       "4              NaN  \n",
       "5              NaN  \n",
       "6              NaN  \n",
       "7              NaN  \n",
       "8              NaN  \n",
       "9              NaN  "
      ]
     },
     "execution_count": 3,
     "metadata": {},
     "output_type": "execute_result"
    }
   ],
   "source": [
    "result_df.head(10) # correct template, correct command are meaningless.."
   ]
  },
  {
   "cell_type": "code",
   "execution_count": 18,
   "metadata": {},
   "outputs": [],
   "source": [
    "eval_data = []\n",
    "\n",
    "for idx, row in result_df.iterrows():\n",
    "    data_index = row.example_id[2:]\n",
    "    if len(data_index) != 0:\n",
    "        eval_data.append(\n",
    "            metric_utils.EvalDataPoint(int(data_index))\n",
    "        )\n",
    "    \n",
    "    if row[' description'] == row[' description']: # nan detection\n",
    "        eval_data[-1].description = row[' description']\n",
    "    \n",
    "    if row[' ground_truth'] == row[' ground_truth']:\n",
    "        eval_data[-1].gt_data.append(row[' ground_truth'])\n",
    "    \n",
    "    if row[' prediction'] == row[' prediction']:\n",
    "        eval_data[-1].pred_data.append(row[' prediction'])"
   ]
  },
  {
   "cell_type": "code",
   "execution_count": 63,
   "metadata": {},
   "outputs": [],
   "source": [
    "# functions from src/evaluate.py\n",
    "def get_score(prediction_scores):\n",
    "    score = -1.0\n",
    "    if len(prediction_scores) == 0:\n",
    "        return score\n",
    "\n",
    "    has_positive_score = True in [x > 0 for x in prediction_scores]\n",
    "\n",
    "    if has_positive_score:\n",
    "        score = max(prediction_scores)\n",
    "    else:\n",
    "        score = sum(prediction_scores) / float(len(prediction_scores))\n",
    "\n",
    "    return score\n",
    "\n",
    "def compute_score(ground_truths, predicted_cmds, predicted_confds, metric_params, verbose=False):\n",
    "    \n",
    "    prediction_scores = []\n",
    "\n",
    "    for grnd_truth_cmd in ground_truths:\n",
    "        for i, predicted_cmd in enumerate(predicted_cmds):\n",
    "            \n",
    "            if predicted_cmd is None or len(predicted_cmd) == 0:\n",
    "                continue\n",
    "            \n",
    "            predicted_confidence = predicted_confds[i]\n",
    "            pair_score = metric_utils.compute_metric(predicted_cmd, predicted_confidence, grnd_truth_cmd, metric_params)\n",
    "            prediction_scores.append(pair_score)\n",
    "\n",
    "    score = get_score(prediction_scores)\n",
    "\n",
    "    if verbose:\n",
    "        print('-' * 50)\n",
    "        print(f'Ground truth: {ground_truths}')\n",
    "        print(f'Predictions: {predicted_cmds}')\n",
    "        print(f'Prediction scores: {prediction_scores}')\n",
    "        print(f'Score: {score}')\n",
    "\n",
    "    return score"
   ]
  },
  {
   "cell_type": "code",
   "execution_count": 27,
   "metadata": {},
   "outputs": [
    {
     "name": "stdout",
     "output_type": "stream",
     "text": [
      "--------------------------------------------------\n",
      "Ground truth: ['chmod +x $(brew --prefix)/etc/bash_completion']\n",
      "Predictions: ['find __SP__UNK -type d -exec chmod +x {} \\\\\\\\;', 'find __SP__UNK -type d -exec chmod __SP__UNK {} \\\\\\\\;', 'find __SP__UNK -type d -print0 | xargs -0 -I {} chmod +x {}', 'find __SP__UNK -type f -exec chmod +x {} \\\\\\\\;']\n",
      "Score: -1.0\n"
     ]
    },
    {
     "data": {
      "text/plain": [
       "-1.0"
      ]
     },
     "execution_count": 27,
     "metadata": {},
     "output_type": "execute_result"
    }
   ],
   "source": [
    "# single datapoint showcase\n",
    "params = {\n",
    "  \"u1\": 1.0,\n",
    "  \"u2\": 1.0\n",
    "}\n",
    "\n",
    "def dp2score(dp, params=params, verbose=False):\n",
    "    # justa a quality-of-life function\n",
    "    return compute_score(dp.gt_data, dp.pred_data, [1]*len(dp.pred_data), params, verbose=verbose)\n",
    "\n",
    "dp2score(eval_data[0], verbose=True)"
   ]
  },
  {
   "cell_type": "code",
   "execution_count": 71,
   "metadata": {},
   "outputs": [
    {
     "name": "stdout",
     "output_type": "stream",
     "text": [
      "--------------------------------------------------\n",
      "Ground truth: ['rsync -rvz --chmod=ugo=rwX -e ssh source destination']\n",
      "Predictions: ['rsync -rvz --chmod=ugo=rwX -e ssh source destination']\n",
      "Prediction scores: [0.0]\n",
      "Score: 0.0\n"
     ]
    },
    {
     "data": {
      "text/plain": [
       "0.0"
      ]
     },
     "execution_count": 71,
     "metadata": {},
     "output_type": "execute_result"
    }
   ],
   "source": [
    "# ok, so... we should probably filter out cases where gt marked on gt doesn't get perfect score.\n",
    "\n",
    "# Example:\n",
    "dp = eval_data[8]\n",
    "compute_score(dp.gt_data, dp.gt_data, [1]*len(dp.pred_data), params, verbose=True)"
   ]
  },
  {
   "cell_type": "code",
   "execution_count": 70,
   "metadata": {},
   "outputs": [
    {
     "name": "stdout",
     "output_type": "stream",
     "text": [
      "Before filtered: 701\n",
      "After filtered: 505\n"
     ]
    }
   ],
   "source": [
    "# Filtering:\n",
    "filter_func = lambda dp: compute_score(dp.gt_data, dp.gt_data, [1]*len(dp.gt_data), params) != 0.\n",
    "filtered_data = list(filter(filter_func, eval_data))\n",
    "print('Before filtered:', len(eval_data))\n",
    "print('After filtered:', len(filtered_data))"
   ]
  },
  {
   "cell_type": "code",
   "execution_count": 53,
   "metadata": {},
   "outputs": [],
   "source": [
    "# calculating scores takes some time actually\n",
    "all_scores = list(map(dp2score, filtered_data))"
   ]
  },
  {
   "cell_type": "code",
   "execution_count": 65,
   "metadata": {},
   "outputs": [],
   "source": [
    "# filtering by score showcase\n",
    "threshold = 0.0\n",
    "with open(f'BadCases_{threshold}.txt', 'w') as f:\n",
    "    for score, dp in zip(all_scores, filtered_data):\n",
    "        if score < threshold:\n",
    "            print(f'----- ID: {dp.index} -----', file=f)\n",
    "            print(f'GT(s):', file=f)\n",
    "            print('\\n'.join(dp.gt_data), file=f)\n",
    "            print(f'Predictions:', file=f)\n",
    "            print('\\n'.join(dp.pred_data), file=f)\n",
    "            print(f'Score: {score}', file=f)"
   ]
  },
  {
   "cell_type": "code",
   "execution_count": 68,
   "metadata": {},
   "outputs": [
    {
     "name": "stdout",
     "output_type": "stream",
     "text": [
      "Total: 505\n",
      "Average: 0.2654118117764157\n",
      "Median: 0.5\n",
      "Number of perfect scores: 187\n",
      "Number of completely wrong: 59\n",
      "Positive scores: 332\n",
      "Sub-zero scores: 166\n",
      "Number of balanced: 7\n"
     ]
    },
    {
     "data": {
      "image/png": "[encoded data removed]",
      "text/plain": [
       "<Figure size 432x288 with 1 Axes>"
      ]
     },
     "metadata": {
      "needs_background": "light"
     },
     "output_type": "display_data"
    }
   ],
   "source": [
    "# score distribution showcase\n",
    "\n",
    "n_by_bin, _, _ = plt.hist(all_scores)\n",
    "\n",
    "print('Total:', len(all_scores))\n",
    "print('Average:', np.mean(all_scores))\n",
    "print('Median:', np.median(all_scores))\n",
    "print('Number of perfect scores:', len([e for e in all_scores if 1-e<1e-4]))\n",
    "print('Number of completely wrong:', len([e for e in all_scores if e+1<1e-4]))\n",
    "print('Positive scores:', len([e for e in all_scores if e > 0]))\n",
    "print('Sub-zero scores:', len([e for e in all_scores if e < 0]))\n",
    "print('Number of balanced:', len([e for e in all_scores if abs(e)<1e-4]))"
   ]
  },
  {
   "cell_type": "code",
   "execution_count": 40,
   "metadata": {},
   "outputs": [
    {
     "data": {
      "text/plain": [
       "(array([239.,  39.,  45.,  22.,   4.,  35.,  32.,  54.,  37., 194.]),\n",
       " array([-1. , -0.8, -0.6, -0.4, -0.2,  0. ,  0.2,  0.4,  0.6,  0.8,  1. ]),\n",
       " <BarContainer object of 10 artists>)"
      ]
     },
     "execution_count": 40,
     "metadata": {},
     "output_type": "execute_result"
    }
   ],
   "source": [
    "n_by_bin"
   ]
  },
  {
   "cell_type": "code",
   "execution_count": null,
   "metadata": {},
   "outputs": [],
   "source": []
  },
  {
   "cell_type": "code",
   "execution_count": 69,
   "metadata": {},
   "outputs": [
    {
     "name": "stdout",
     "output_type": "stream",
     "text": [
      "ROOT()\n",
      "    UTILITY(comm)\n",
      "        FLAG(-2)\n",
      "        FLAG(-3)\n",
      "        PROCESSSUBSTITUTION(<)\n",
      "            UTILITY(ls)\n",
      "        PROCESSSUBSTITUTION(<)\n",
      "            UTILITY(ls)\n",
      "                ARGUMENT(*Music*)<File>\n"
     ]
    }
   ],
   "source": [
    "ast = bashlint.data_tools.bash_parser('comm -23 <(ls) <(ls *Music*)')\n",
    "bashlint.data_tools.pretty_print(ast)"
   ]
  },
  {
   "cell_type": "code",
   "execution_count": 64,
   "metadata": {},
   "outputs": [
    {
     "name": "stdout",
     "output_type": "stream",
     "text": [
      "--------------------------------------------------\n",
      "Ground truth: ['sudo chown root:root testfile.txt']\n",
      "Predictions: ['chown root:root __SP__UNK']\n",
      "Prediction scores: [1.0]\n",
      "Score: 1.0\n"
     ]
    },
    {
     "data": {
      "text/plain": [
       "1.0"
      ]
     },
     "execution_count": 64,
     "metadata": {},
     "output_type": "execute_result"
    }
   ],
   "source": [
    "compute_score(['sudo chown root:root testfile.txt'], ['chown root:root __SP__UNK'], [1], params, verbose=True)"
   ]
  },
  {
   "cell_type": "code",
   "execution_count": null,
   "metadata": {},
   "outputs": [],
   "source": []
  }
 ],
 "metadata": {
  "kernelspec": {
   "display_name": "clai-env",
   "language": "python",
   "name": "clai-env"
  },
  "language_info": {
   "codemirror_mode": {
    "name": "ipython",
    "version": 3
   },
   "file_extension": ".py",
   "mimetype": "text/x-python",
   "name": "python",
   "nbconvert_exporter": "python",
   "pygments_lexer": "ipython3",
   "version": "3.6.10"
  }
 },
 "nbformat": 4,
 "nbformat_minor": 2
}
