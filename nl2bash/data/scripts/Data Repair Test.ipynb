{
 "cells": [
  {
   "cell_type": "code",
   "execution_count": 1,
   "metadata": {},
   "outputs": [],
   "source": [
    "import csv\n",
    "import os, sys"
   ]
  },
  {
   "cell_type": "code",
   "execution_count": 4,
   "metadata": {},
   "outputs": [],
   "source": [
    "def import_repairs(import_dir):\n",
    "    repairs, errors, new_annotations = {}, {}, {}\n",
    "    new_annotation = False\n",
    "    for file_name in os.listdir(import_dir):\n",
    "        print('reading {}...'.format(file_name))\n",
    "        if file_name.endswith('.csv'):\n",
    "            with open(os.path.join(import_dir, file_name)) as f:\n",
    "                reader = csv.DictReader(f) \n",
    "                for i, row in enumerate(reader):\n",
    "                    if i % 2 == 0:\n",
    "                        command = row['Command'].strip()\n",
    "                        old_description = row['Description'].strip()\n",
    "                        print(command)\n",
    "                        print(old_description)\n",
    "                        print()\n",
    "                        new_annotation = (old_description == '--')\n",
    "                        example_sig = '{}<NL_Command>{}'.format(\n",
    "                            old_description, command)\n",
    "                    else:\n",
    "                        description = row['Description'].strip()\n",
    "                        if description == '<Type a new description here>':\n",
    "                            continue\n",
    "                        elif description == 'ERROR':\n",
    "                            errors[example_sig] = None\n",
    "                        else:\n",
    "                            if new_annotation:\n",
    "                                new_annotations[\n",
    "                                    '{}<NL_Command>{}'.format(description, command)] = None\n",
    "                            else:\n",
    "                                repairs[example_sig] = description\n",
    "    print('{} repairs, {} errors and {} new annotations loaded'.format(\n",
    "        len(repairs), len(errors), len(new_annotations)))\n",
    "    return repairs, errors, new_annotations"
   ]
  },
  {
   "cell_type": "code",
   "execution_count": 5,
   "metadata": {},
   "outputs": [],
   "source": [
    "def repair_data(nl_path, cm_path, repairs, errors, new_annotations):\n",
    "    with open(nl_path) as f:\n",
    "        nls = [line.strip() for line in f.readlines()]\n",
    "    with open(cm_path) as f:\n",
    "        cms = [line.strip() for line in f.readlines()]\n",
    "\n",
    "    repaired_data = []\n",
    "\n",
    "    # Add data repairs\n",
    "    for nl, cm in zip(nls, cms):\n",
    "        example_sig = '{}<NL_Command>{}'.format(nl, cm)\n",
    "        if example_sig in repairs:\n",
    "            new_nl = repairs[example_sig]\n",
    "            repaired_data.append((new_nl, cm))\n",
    "        elif example_sig in errors:\n",
    "            continue\n",
    "        else:\n",
    "            repaired_data.append((nl, cm))\n",
    "\n",
    "    # Add new annotations\n",
    "    for example_sig in new_annotations:\n",
    "        repaired_data.append(tuple(example_sig.split('<NL_Command>')))\n",
    "\n",
    "    repaired_data = sorted(list(set(repaired_data)))\n",
    "    print('{} repaired data points in total'.format(len(repaired_data)))\n",
    "\n",
    "    # Save repaired data to disk\n",
    "    nl_out_path = nl_path + '.repaired'\n",
    "    cm_out_path = cm_path + '.repaired'\n",
    "    nl_out = open(nl_out_path, 'w')\n",
    "    cm_out = open(cm_out_path, 'w')\n",
    "    for nl, cm in repaired_data:\n",
    "        nl_out.write('{}\\n'.format(nl))\n",
    "        cm_out.write('{}\\n'.format(cm))\n",
    "    nl_out.close()\n",
    "    cm_out.close()\n"
   ]
  },
  {
   "cell_type": "markdown",
   "metadata": {},
   "source": [
    "???\n",
    "\n",
    "현재 repair_data는 사용되지 않음\n",
    "정확히 언제 repair를 수행하는 거지?\n",
    "\n",
    "그냥 매뉴얼하게 원하는 부분을 수정하는 건가....?\n",
    "\n",
    "copy 데이터셋 만들때 spellcheck 하는 부분은 `encoder_decoder/data_utils.py` 에 있음\n",
    "\n",
    "decode 수행할 때에는 주어진 sentence들이 copy/normalization 안 거친 상태이므로 추가적으로 preprocessing 해줘야 함\n"
   ]
  },
  {
   "cell_type": "code",
   "execution_count": null,
   "metadata": {},
   "outputs": [],
   "source": []
  }
 ],
 "metadata": {
  "kernelspec": {
   "display_name": "Python 3",
   "language": "python",
   "name": "python3"
  },
  "language_info": {
   "codemirror_mode": {
    "name": "ipython",
    "version": 3
   },
   "file_extension": ".py",
   "mimetype": "text/x-python",
   "name": "python",
   "nbconvert_exporter": "python",
   "pygments_lexer": "ipython3",
   "version": "3.7.2"
  }
 },
 "nbformat": 4,
 "nbformat_minor": 4
}
